{
  "cells": [
    {
      "cell_type": "code",
      "execution_count": null,
      "metadata": {
        "id": "ZITSzTR6JzSB"
      },
      "outputs": [],
      "source": [
        "import pandas as pd\n",
        "df1=pd.read_csv(\"/content/train.csv\")\n",
        "df2=pd.read_csv(\"/content/test.csv\")\n",
        "\n",
        "# Combine using concat()\n",
        "df_train = pd.concat([df1, df2])"
      ]
    },
    {
      "cell_type": "code",
      "execution_count": null,
      "metadata": {
        "id": "_rwblhZ8JzSD",
        "outputId": "ef6d6699-aeec-4de1-afe7-98e0d4bf591f",
        "colab": {
          "base_uri": "https://localhost:8080/",
          "height": 293
        }
      },
      "outputs": [
        {
          "output_type": "execute_result",
          "data": {
            "text/plain": [
              "                                category                       sub_category  \\\n",
              "0  Online and Social Media Related Crime  Cyber Bullying  Stalking  Sexting   \n",
              "1                 Online Financial Fraud                  Fraud CallVishing   \n",
              "2               Online Gambling  Betting           Online Gambling  Betting   \n",
              "3  Online and Social Media Related Crime                   Online Job Fraud   \n",
              "4                 Online Financial Fraud                  Fraud CallVishing   \n",
              "\n",
              "                                  crimeaditionalinfo  \n",
              "0  I had continue received random calls and abusi...  \n",
              "1  The above fraudster is continuously messaging ...  \n",
              "2  He is acting like a police and demanding for m...  \n",
              "3  In apna Job I have applied for job interview f...  \n",
              "4  I received a call from lady stating that she w...  "
            ],
            "text/html": [
              "\n",
              "  <div id=\"df-2c3f1584-c054-49dd-bb57-1a0515067d26\" class=\"colab-df-container\">\n",
              "    <div>\n",
              "<style scoped>\n",
              "    .dataframe tbody tr th:only-of-type {\n",
              "        vertical-align: middle;\n",
              "    }\n",
              "\n",
              "    .dataframe tbody tr th {\n",
              "        vertical-align: top;\n",
              "    }\n",
              "\n",
              "    .dataframe thead th {\n",
              "        text-align: right;\n",
              "    }\n",
              "</style>\n",
              "<table border=\"1\" class=\"dataframe\">\n",
              "  <thead>\n",
              "    <tr style=\"text-align: right;\">\n",
              "      <th></th>\n",
              "      <th>category</th>\n",
              "      <th>sub_category</th>\n",
              "      <th>crimeaditionalinfo</th>\n",
              "    </tr>\n",
              "  </thead>\n",
              "  <tbody>\n",
              "    <tr>\n",
              "      <th>0</th>\n",
              "      <td>Online and Social Media Related Crime</td>\n",
              "      <td>Cyber Bullying  Stalking  Sexting</td>\n",
              "      <td>I had continue received random calls and abusi...</td>\n",
              "    </tr>\n",
              "    <tr>\n",
              "      <th>1</th>\n",
              "      <td>Online Financial Fraud</td>\n",
              "      <td>Fraud CallVishing</td>\n",
              "      <td>The above fraudster is continuously messaging ...</td>\n",
              "    </tr>\n",
              "    <tr>\n",
              "      <th>2</th>\n",
              "      <td>Online Gambling  Betting</td>\n",
              "      <td>Online Gambling  Betting</td>\n",
              "      <td>He is acting like a police and demanding for m...</td>\n",
              "    </tr>\n",
              "    <tr>\n",
              "      <th>3</th>\n",
              "      <td>Online and Social Media Related Crime</td>\n",
              "      <td>Online Job Fraud</td>\n",
              "      <td>In apna Job I have applied for job interview f...</td>\n",
              "    </tr>\n",
              "    <tr>\n",
              "      <th>4</th>\n",
              "      <td>Online Financial Fraud</td>\n",
              "      <td>Fraud CallVishing</td>\n",
              "      <td>I received a call from lady stating that she w...</td>\n",
              "    </tr>\n",
              "  </tbody>\n",
              "</table>\n",
              "</div>\n",
              "    <div class=\"colab-df-buttons\">\n",
              "\n",
              "  <div class=\"colab-df-container\">\n",
              "    <button class=\"colab-df-convert\" onclick=\"convertToInteractive('df-2c3f1584-c054-49dd-bb57-1a0515067d26')\"\n",
              "            title=\"Convert this dataframe to an interactive table.\"\n",
              "            style=\"display:none;\">\n",
              "\n",
              "  <svg xmlns=\"http://www.w3.org/2000/svg\" height=\"24px\" viewBox=\"0 -960 960 960\">\n",
              "    <path d=\"M120-120v-720h720v720H120Zm60-500h600v-160H180v160Zm220 220h160v-160H400v160Zm0 220h160v-160H400v160ZM180-400h160v-160H180v160Zm440 0h160v-160H620v160ZM180-180h160v-160H180v160Zm440 0h160v-160H620v160Z\"/>\n",
              "  </svg>\n",
              "    </button>\n",
              "\n",
              "  <style>\n",
              "    .colab-df-container {\n",
              "      display:flex;\n",
              "      gap: 12px;\n",
              "    }\n",
              "\n",
              "    .colab-df-convert {\n",
              "      background-color: #E8F0FE;\n",
              "      border: none;\n",
              "      border-radius: 50%;\n",
              "      cursor: pointer;\n",
              "      display: none;\n",
              "      fill: #1967D2;\n",
              "      height: 32px;\n",
              "      padding: 0 0 0 0;\n",
              "      width: 32px;\n",
              "    }\n",
              "\n",
              "    .colab-df-convert:hover {\n",
              "      background-color: #E2EBFA;\n",
              "      box-shadow: 0px 1px 2px rgba(60, 64, 67, 0.3), 0px 1px 3px 1px rgba(60, 64, 67, 0.15);\n",
              "      fill: #174EA6;\n",
              "    }\n",
              "\n",
              "    .colab-df-buttons div {\n",
              "      margin-bottom: 4px;\n",
              "    }\n",
              "\n",
              "    [theme=dark] .colab-df-convert {\n",
              "      background-color: #3B4455;\n",
              "      fill: #D2E3FC;\n",
              "    }\n",
              "\n",
              "    [theme=dark] .colab-df-convert:hover {\n",
              "      background-color: #434B5C;\n",
              "      box-shadow: 0px 1px 3px 1px rgba(0, 0, 0, 0.15);\n",
              "      filter: drop-shadow(0px 1px 2px rgba(0, 0, 0, 0.3));\n",
              "      fill: #FFFFFF;\n",
              "    }\n",
              "  </style>\n",
              "\n",
              "    <script>\n",
              "      const buttonEl =\n",
              "        document.querySelector('#df-2c3f1584-c054-49dd-bb57-1a0515067d26 button.colab-df-convert');\n",
              "      buttonEl.style.display =\n",
              "        google.colab.kernel.accessAllowed ? 'block' : 'none';\n",
              "\n",
              "      async function convertToInteractive(key) {\n",
              "        const element = document.querySelector('#df-2c3f1584-c054-49dd-bb57-1a0515067d26');\n",
              "        const dataTable =\n",
              "          await google.colab.kernel.invokeFunction('convertToInteractive',\n",
              "                                                    [key], {});\n",
              "        if (!dataTable) return;\n",
              "\n",
              "        const docLinkHtml = 'Like what you see? Visit the ' +\n",
              "          '<a target=\"_blank\" href=https://colab.research.google.com/notebooks/data_table.ipynb>data table notebook</a>'\n",
              "          + ' to learn more about interactive tables.';\n",
              "        element.innerHTML = '';\n",
              "        dataTable['output_type'] = 'display_data';\n",
              "        await google.colab.output.renderOutput(dataTable, element);\n",
              "        const docLink = document.createElement('div');\n",
              "        docLink.innerHTML = docLinkHtml;\n",
              "        element.appendChild(docLink);\n",
              "      }\n",
              "    </script>\n",
              "  </div>\n",
              "\n",
              "\n",
              "<div id=\"df-67f39c86-4592-48c0-9ca2-310702a31b18\">\n",
              "  <button class=\"colab-df-quickchart\" onclick=\"quickchart('df-67f39c86-4592-48c0-9ca2-310702a31b18')\"\n",
              "            title=\"Suggest charts\"\n",
              "            style=\"display:none;\">\n",
              "\n",
              "<svg xmlns=\"http://www.w3.org/2000/svg\" height=\"24px\"viewBox=\"0 0 24 24\"\n",
              "     width=\"24px\">\n",
              "    <g>\n",
              "        <path d=\"M19 3H5c-1.1 0-2 .9-2 2v14c0 1.1.9 2 2 2h14c1.1 0 2-.9 2-2V5c0-1.1-.9-2-2-2zM9 17H7v-7h2v7zm4 0h-2V7h2v10zm4 0h-2v-4h2v4z\"/>\n",
              "    </g>\n",
              "</svg>\n",
              "  </button>\n",
              "\n",
              "<style>\n",
              "  .colab-df-quickchart {\n",
              "      --bg-color: #E8F0FE;\n",
              "      --fill-color: #1967D2;\n",
              "      --hover-bg-color: #E2EBFA;\n",
              "      --hover-fill-color: #174EA6;\n",
              "      --disabled-fill-color: #AAA;\n",
              "      --disabled-bg-color: #DDD;\n",
              "  }\n",
              "\n",
              "  [theme=dark] .colab-df-quickchart {\n",
              "      --bg-color: #3B4455;\n",
              "      --fill-color: #D2E3FC;\n",
              "      --hover-bg-color: #434B5C;\n",
              "      --hover-fill-color: #FFFFFF;\n",
              "      --disabled-bg-color: #3B4455;\n",
              "      --disabled-fill-color: #666;\n",
              "  }\n",
              "\n",
              "  .colab-df-quickchart {\n",
              "    background-color: var(--bg-color);\n",
              "    border: none;\n",
              "    border-radius: 50%;\n",
              "    cursor: pointer;\n",
              "    display: none;\n",
              "    fill: var(--fill-color);\n",
              "    height: 32px;\n",
              "    padding: 0;\n",
              "    width: 32px;\n",
              "  }\n",
              "\n",
              "  .colab-df-quickchart:hover {\n",
              "    background-color: var(--hover-bg-color);\n",
              "    box-shadow: 0 1px 2px rgba(60, 64, 67, 0.3), 0 1px 3px 1px rgba(60, 64, 67, 0.15);\n",
              "    fill: var(--button-hover-fill-color);\n",
              "  }\n",
              "\n",
              "  .colab-df-quickchart-complete:disabled,\n",
              "  .colab-df-quickchart-complete:disabled:hover {\n",
              "    background-color: var(--disabled-bg-color);\n",
              "    fill: var(--disabled-fill-color);\n",
              "    box-shadow: none;\n",
              "  }\n",
              "\n",
              "  .colab-df-spinner {\n",
              "    border: 2px solid var(--fill-color);\n",
              "    border-color: transparent;\n",
              "    border-bottom-color: var(--fill-color);\n",
              "    animation:\n",
              "      spin 1s steps(1) infinite;\n",
              "  }\n",
              "\n",
              "  @keyframes spin {\n",
              "    0% {\n",
              "      border-color: transparent;\n",
              "      border-bottom-color: var(--fill-color);\n",
              "      border-left-color: var(--fill-color);\n",
              "    }\n",
              "    20% {\n",
              "      border-color: transparent;\n",
              "      border-left-color: var(--fill-color);\n",
              "      border-top-color: var(--fill-color);\n",
              "    }\n",
              "    30% {\n",
              "      border-color: transparent;\n",
              "      border-left-color: var(--fill-color);\n",
              "      border-top-color: var(--fill-color);\n",
              "      border-right-color: var(--fill-color);\n",
              "    }\n",
              "    40% {\n",
              "      border-color: transparent;\n",
              "      border-right-color: var(--fill-color);\n",
              "      border-top-color: var(--fill-color);\n",
              "    }\n",
              "    60% {\n",
              "      border-color: transparent;\n",
              "      border-right-color: var(--fill-color);\n",
              "    }\n",
              "    80% {\n",
              "      border-color: transparent;\n",
              "      border-right-color: var(--fill-color);\n",
              "      border-bottom-color: var(--fill-color);\n",
              "    }\n",
              "    90% {\n",
              "      border-color: transparent;\n",
              "      border-bottom-color: var(--fill-color);\n",
              "    }\n",
              "  }\n",
              "</style>\n",
              "\n",
              "  <script>\n",
              "    async function quickchart(key) {\n",
              "      const quickchartButtonEl =\n",
              "        document.querySelector('#' + key + ' button');\n",
              "      quickchartButtonEl.disabled = true;  // To prevent multiple clicks.\n",
              "      quickchartButtonEl.classList.add('colab-df-spinner');\n",
              "      try {\n",
              "        const charts = await google.colab.kernel.invokeFunction(\n",
              "            'suggestCharts', [key], {});\n",
              "      } catch (error) {\n",
              "        console.error('Error during call to suggestCharts:', error);\n",
              "      }\n",
              "      quickchartButtonEl.classList.remove('colab-df-spinner');\n",
              "      quickchartButtonEl.classList.add('colab-df-quickchart-complete');\n",
              "    }\n",
              "    (() => {\n",
              "      let quickchartButtonEl =\n",
              "        document.querySelector('#df-67f39c86-4592-48c0-9ca2-310702a31b18 button');\n",
              "      quickchartButtonEl.style.display =\n",
              "        google.colab.kernel.accessAllowed ? 'block' : 'none';\n",
              "    })();\n",
              "  </script>\n",
              "</div>\n",
              "\n",
              "    </div>\n",
              "  </div>\n"
            ],
            "application/vnd.google.colaboratory.intrinsic+json": {
              "type": "dataframe",
              "variable_name": "df_train"
            }
          },
          "metadata": {},
          "execution_count": 2
        }
      ],
      "source": [
        "df_train.head()"
      ]
    },
    {
      "cell_type": "code",
      "execution_count": null,
      "metadata": {
        "id": "AzXcpScvJzSE",
        "outputId": "70ad145e-fc68-4ab8-f33a-b729b0a9c5b2",
        "colab": {
          "base_uri": "https://localhost:8080/"
        }
      },
      "outputs": [
        {
          "output_type": "stream",
          "name": "stdout",
          "text": [
            "Dataset Shape: (124915, 3)\n",
            "\n",
            "Columns in the dataset: ['category', 'sub_category', 'crimeaditionalinfo']\n"
          ]
        }
      ],
      "source": [
        "print(\"Dataset Shape:\", df_train.shape)\n",
        "print(\"\\nColumns in the dataset:\", df_train.columns.tolist())"
      ]
    },
    {
      "cell_type": "markdown",
      "metadata": {
        "id": "EkQEIjNhJzSE"
      },
      "source": [
        "### **Empty or whitespace values, missing values, duplicates, charecters length < 150**"
      ]
    },
    {
      "cell_type": "code",
      "execution_count": null,
      "metadata": {
        "id": "9ALOPW6vJzSF"
      },
      "outputs": [],
      "source": [
        "df_train_cleaned = df_train.copy()\n",
        "df_train_cleaned.dropna(subset=['crimeaditionalinfo'] ,inplace=True)"
      ]
    },
    {
      "cell_type": "code",
      "execution_count": null,
      "metadata": {
        "id": "fsj7cu7TJzSF",
        "outputId": "5af07dc4-19e4-40cc-818d-aa040e2f18b3",
        "colab": {
          "base_uri": "https://localhost:8080/"
        }
      },
      "outputs": [
        {
          "output_type": "stream",
          "name": "stdout",
          "text": [
            "(1582, 3)\n"
          ]
        }
      ],
      "source": [
        "# 1. Empty or whitespace values\n",
        "def strip_warn(row):\n",
        "    try:\n",
        "        x = row.strip()\n",
        "        return x\n",
        "    except:\n",
        "        print(row)\n",
        "        return \"\"\n",
        "\n",
        "\n",
        "print(df_train_cleaned[df_train_cleaned['crimeaditionalinfo'].str.strip().str.len() == 0].shape)\n",
        "df_train_cleaned['crimeaditionalinfo'] = df_train_cleaned['crimeaditionalinfo'].apply(strip_warn)\n",
        "df_train_cleaned = df_train_cleaned[df_train_cleaned['crimeaditionalinfo'].str.strip().str.len() > 0]"
      ]
    },
    {
      "cell_type": "code",
      "execution_count": null,
      "metadata": {
        "id": "XFs68solJzSF",
        "outputId": "ab800bab-fa40-4c1c-b236-4d3b17e2c0dd",
        "colab": {
          "base_uri": "https://localhost:8080/"
        }
      },
      "outputs": [
        {
          "output_type": "stream",
          "name": "stdout",
          "text": [
            "category                 0\n",
            "sub_category          8758\n",
            "crimeaditionalinfo       0\n",
            "dtype: int64\n"
          ]
        }
      ],
      "source": [
        "# 2. Missing values\n",
        "print(df_train_cleaned.isnull().sum())"
      ]
    },
    {
      "cell_type": "code",
      "execution_count": null,
      "metadata": {
        "id": "TbKky6i1JzSG"
      },
      "outputs": [],
      "source": [
        "# df_train_cleaned=df_train_cleaned.dropna(subset=[\"crimeaditionalinfo\"])"
      ]
    },
    {
      "cell_type": "code",
      "execution_count": null,
      "metadata": {
        "id": "si2gBRJYJzSG",
        "outputId": "1dd042ea-8065-4255-cf89-69cc446f088d",
        "colab": {
          "base_uri": "https://localhost:8080/"
        }
      },
      "outputs": [
        {
          "output_type": "stream",
          "name": "stdout",
          "text": [
            "11295\n"
          ]
        }
      ],
      "source": [
        "# 3. Duplicates\n",
        "print(df_train_cleaned.duplicated().sum())"
      ]
    },
    {
      "cell_type": "code",
      "execution_count": null,
      "metadata": {
        "id": "O8zCsFuOJzSG"
      },
      "outputs": [],
      "source": [
        "df_train_cleaned=df_train_cleaned.drop_duplicates()"
      ]
    },
    {
      "cell_type": "code",
      "execution_count": null,
      "metadata": {
        "id": "bZiqccK2JzSG",
        "outputId": "43188451-bd96-4842-a148-fe7c448e71f6",
        "colab": {
          "base_uri": "https://localhost:8080/"
        }
      },
      "outputs": [
        {
          "output_type": "stream",
          "name": "stdout",
          "text": [
            "643\n"
          ]
        }
      ],
      "source": [
        "print(df_train_cleaned['crimeaditionalinfo'].duplicated().sum())"
      ]
    },
    {
      "cell_type": "code",
      "execution_count": null,
      "metadata": {
        "id": "fD6HZB7RJzSH"
      },
      "outputs": [],
      "source": [
        "df_train_cleaned = df_train_cleaned.drop_duplicates(subset=['crimeaditionalinfo'])"
      ]
    },
    {
      "cell_type": "code",
      "execution_count": null,
      "metadata": {
        "id": "KXqlT9FcJzSH",
        "outputId": "b158af9a-f3c6-44ec-db28-856d226d6ed9",
        "colab": {
          "base_uri": "https://localhost:8080/"
        }
      },
      "outputs": [
        {
          "output_type": "stream",
          "name": "stdout",
          "text": [
            "Number of rows with less than 150 characters in the crimeaditionalinfo column: 8237\n"
          ]
        }
      ],
      "source": [
        "# 4. Character length check\n",
        "count_less_than_150 = df_train_cleaned[df_train_cleaned['crimeaditionalinfo'].str.len() <= 150].shape[0]\n",
        "print(\"Number of rows with less than 150 characters in the crimeaditionalinfo column:\", count_less_than_150)"
      ]
    },
    {
      "cell_type": "code",
      "execution_count": null,
      "metadata": {
        "id": "-TkQILU_JzSH"
      },
      "outputs": [],
      "source": [
        "# Keep only rows where text length is > 150 characters\n",
        "df_train_cleaned = df_train_cleaned[df_train_cleaned['crimeaditionalinfo'].str.len() > 150]\n",
        "\n",
        "# Reset index\n",
        "df_train_cleaned.reset_index(drop=True, inplace=True)"
      ]
    },
    {
      "cell_type": "code",
      "execution_count": null,
      "metadata": {
        "id": "5jClAqBcJzSH",
        "outputId": "d2cdacd2-bb2a-4e38-bd90-457f5d4b785b",
        "colab": {
          "base_uri": "https://localhost:8080/"
        }
      },
      "outputs": [
        {
          "output_type": "execute_result",
          "data": {
            "text/plain": [
              "(103130, 3)"
            ]
          },
          "metadata": {},
          "execution_count": 14
        }
      ],
      "source": [
        "df_train_cleaned.shape"
      ]
    },
    {
      "cell_type": "code",
      "execution_count": null,
      "metadata": {
        "id": "VqJVgYDxJzSH"
      },
      "outputs": [],
      "source": [
        "pd.set_option('display.max_colwidth', None)\n",
        "pd.set_option('display.max_rows', None)"
      ]
    },
    {
      "cell_type": "code",
      "execution_count": null,
      "metadata": {
        "id": "DuJpMj8FJzSH",
        "outputId": "66d8fc84-397b-47a7-eb93-5d839b17b276",
        "colab": {
          "base_uri": "https://localhost:8080/",
          "height": 1000
        }
      },
      "outputs": [
        {
          "output_type": "execute_result",
          "data": {
            "text/plain": [
              "                                     category  \\\n",
              "45585                  Online Financial Fraud   \n",
              "94992                  Online Financial Fraud   \n",
              "48152                  Online Financial Fraud   \n",
              "99167          Cyber Attack/ Dependent Crimes   \n",
              "36097                  Online Financial Fraud   \n",
              "16710                  Online Financial Fraud   \n",
              "64139   Online and Social Media Related Crime   \n",
              "67106                  Online Financial Fraud   \n",
              "6105                   Online Financial Fraud   \n",
              "100064  Online and Social Media Related Crime   \n",
              "\n",
              "                                    sub_category  \\\n",
              "45585             Internet Banking Related Fraud   \n",
              "94992                         UPI Related Frauds   \n",
              "48152                          Fraud CallVishing   \n",
              "99167   Tampering with computer source documents   \n",
              "36097                         UPI Related Frauds   \n",
              "16710                         UPI Related Frauds   \n",
              "64139          Cyber Bullying  Stalking  Sexting   \n",
              "67106       DebitCredit Card FraudSim Swap Fraud   \n",
              "6105              Internet Banking Related Fraud   \n",
              "100064                 Cheating by Impersonation   \n",
              "\n",
              "                                                                                                                                                                                                                                                                                                                                                                                                                                                                                                                                                                                                                                                                                                                                                                                                                                                                                                                                                                                                                                                                                                                                                                                                                                                                                                                                                                                                                                                               crimeaditionalinfo  \n",
              "45585                                                                                                                                                                                                                                                                                                                                                                                                                                                                                                                                                                                                                                                                                                                                                                                                                                                                                                                                                                                                                                                                                                                                                                                                                Online Frauds   Advertisement Portal Fraud  eCommerce platform  OLX\\r\\nvictim posted a ad of product in OLX to sell it fraudster approached him as buyer and sent QR codes to pay amount victim scanned the QR codes and lost money instead of getting money  \n",
              "94992                                                                                                                                                                                                                                                                                                                                                                                                                                                                                                                                                                                                                                                                                                                                                                                                                                                                                                                                                                                                                                                                                                                                                                                                                         Respected Sir  today suddenly I received sms of deduction amount from my PayTm account I did not any activity with phone or with my account Neither I share OTP nor I make any order Without Sharing any details amount of Rs   deducted from PayTm  \n",
              "48152                                                                                                                                                                                                                                                                                                                                                                                                                                                                                                                                                                                                                                                                                                                                                                                                                                                                                                               sir i had taken loan from express app  its due date was on th jan  i made payment but it was not updated then forced again todo payment then i did extension by paying now the due date came again on th i made the payment but it was not updated again took my  two time i have made all these payment through this app still these people are doing fraud these are all number sir  these companykeep changing their upi id every  hoursthese people are now abusing sir dirty dirty and threating to send porn videos to relative contacts pls hlp me sir  \n",
              "99167                                                                                                                                                                                                                                                                                                                                                                                                                                                                                                                                                                                                              I never imagined something like this could happen to me, especially since I'm so cautious. But then I started noticing that my online activity felt different, slower even. I can't even describe it well because everything seemed normal, except for the fact that I was constantly getting logged out of my accounts. Looking back, maybe I should have paid more attention to the little details, but now it's too late. My accounts are compromised. The more I tried to fix it, the more problems came up. My bank account was recived, and then I got locked out of everything. I feel so helpless, like there’s nothing I can do to fix this. No matter how many times I change my password, it’s like someone’s always one step ahead. Even my phone isn’t working right anymore. It’s so stange how everything just fell apart after that one email.  \n",
              "36097                                                                                                                                                                                                                                                                                                                                                                                                                                                                                                                                                                                                                                                                                                                                                                                                                                                                                                                                                                                                                                                                                                                                                                                                                     Message came with phone pe logo and they asked that i have received  cash back then i scrach the coupon then they asked for sending money to your account i clicked that icon then phone pe opened asked for UPI and then Money debited from my account  \n",
              "16710                                                                                                                                                                                                                                                                                                                                                                                                                                                                                                                                                                                                                                                                                                                                                                                                                                                                                                                                                                                                                                                                                                                           Respected one\\r\\nthis incidence occured  times previously from the same person firstvtime they took Rs  from my account as per refund money but it didnt refund back and i didnt have any trasaction history about this but they called me to take my information \\r\\nPlease accept my request and procide futher\\r\\nhoping for positive response  \n",
              "64139   On th Feb night on reaching home from the office I opened my FB account to check some messages from my industry contacts I got a friend request from an anonymous girl named Radhika from Nasik Since she looked familiar I accepted the request and she started chatting on FB Messenger I just wanted to know who she was I exchanged messages and WhatsApp no was shared mutually to contact Immediately I started getting messages on WhatsApp and she asked for a video call I grew suspicious but on a Fair Note I wanted to know about her and accepted to take the call She started the VIDEO Call and became NUDE and in a few seconds I disconnected the call  In less than a minute the recorded VIDEO got shared with me and some anonymous male got in touch and asked to pay Rs for not to upload this onto FB Since I did not want to take any chances and got under PRESSURE  paid Rs Later again I got another message and audio recording asking to pay another  and the messages got exchanged with that person till almost  pm Finally I had paid more than    to close the issue But to my surprise I started receiving calls  msgs now DEMANDING to pay  for not uploading on YOUTUBE I understood that this would be a chain of THREATS I postponed paying the same for th Feb afternoon And later it is not paid I blocked the number but started receiving calls from another no Finally I blocked that as well and seek your help Kindly oblige  \n",
              "67106                                                                                                                                                                                                                                                                                                                                                                                                                                                                                                                                                                                                                                                                                                                                                                                                                                                                                                                                                                                                                                                                                                                                                                                                                                    I HAVE NO IDEA REGARDING THE INCIDENT WHEN I GOT TO HOME AND Realised THAT I DID NOT HAVE MY WALLET AND MOBILE I WENT OUT TO  LOOK FOR IT BUT DID NOT FIND WHEN I MADE A CALL ON MY LOST MOBILEIT WAS RINGING BUT NONE RECEIVED THE CALL  \n",
              "6105                                                                                                                                                                                                                                                                                                                                                                                                                                                                                                                                                                                                                                                                                                                                                                                                                                                                    I Bought a bike in emi my first emi starts this month  So today i got msg that  Payment of Rs  for your LT Finance  loan T is overdue Click  httpsspayuinotqndpm  to pay online now and avoid adverse credit rating or additional charges Pls ignore if already paid from payu team  This was that message it was like real one so i Paid with fear of overdue after paying only i came to know that PAYU is a fraud in Money transferI lost  Please take some serious action Fastly sir please recovee my money im poor Im believe in you Please \\r\\nMy finance name is LT\\r\\nThe msg i got from is Payu  \n",
              "100064                                                                                                                                                                                                                                                                                                                                                                                                                                                                                                                                                                                                                                                                                                                                                                                                                                                                                                                                                                                                                                           Sir  that link is given is mine fake accound opend by someone else \\r\\nI m very scared  plz help me \\r\\nIf my family or that girl family will see it we have to face so much problem That Picture from leaked by my gallary and someone used it to create my fake account \\r\\nMy real id url is httpswwwfacebookcommeronaamxaina          plz help us plz help us if we did not get any aasist we have to Sucide no other option  "
            ],
            "text/html": [
              "\n",
              "  <div id=\"df-3b955ab5-5ed9-4521-aa3a-424ff73df228\" class=\"colab-df-container\">\n",
              "    <div>\n",
              "<style scoped>\n",
              "    .dataframe tbody tr th:only-of-type {\n",
              "        vertical-align: middle;\n",
              "    }\n",
              "\n",
              "    .dataframe tbody tr th {\n",
              "        vertical-align: top;\n",
              "    }\n",
              "\n",
              "    .dataframe thead th {\n",
              "        text-align: right;\n",
              "    }\n",
              "</style>\n",
              "<table border=\"1\" class=\"dataframe\">\n",
              "  <thead>\n",
              "    <tr style=\"text-align: right;\">\n",
              "      <th></th>\n",
              "      <th>category</th>\n",
              "      <th>sub_category</th>\n",
              "      <th>crimeaditionalinfo</th>\n",
              "    </tr>\n",
              "  </thead>\n",
              "  <tbody>\n",
              "    <tr>\n",
              "      <th>45585</th>\n",
              "      <td>Online Financial Fraud</td>\n",
              "      <td>Internet Banking Related Fraud</td>\n",
              "      <td>Online Frauds   Advertisement Portal Fraud  eCommerce platform  OLX\\r\\nvictim posted a ad of product in OLX to sell it fraudster approached him as buyer and sent QR codes to pay amount victim scanned the QR codes and lost money instead of getting money</td>\n",
              "    </tr>\n",
              "    <tr>\n",
              "      <th>94992</th>\n",
              "      <td>Online Financial Fraud</td>\n",
              "      <td>UPI Related Frauds</td>\n",
              "      <td>Respected Sir  today suddenly I received sms of deduction amount from my PayTm account I did not any activity with phone or with my account Neither I share OTP nor I make any order Without Sharing any details amount of Rs   deducted from PayTm</td>\n",
              "    </tr>\n",
              "    <tr>\n",
              "      <th>48152</th>\n",
              "      <td>Online Financial Fraud</td>\n",
              "      <td>Fraud CallVishing</td>\n",
              "      <td>sir i had taken loan from express app  its due date was on th jan  i made payment but it was not updated then forced again todo payment then i did extension by paying now the due date came again on th i made the payment but it was not updated again took my  two time i have made all these payment through this app still these people are doing fraud these are all number sir  these companykeep changing their upi id every  hoursthese people are now abusing sir dirty dirty and threating to send porn videos to relative contacts pls hlp me sir</td>\n",
              "    </tr>\n",
              "    <tr>\n",
              "      <th>99167</th>\n",
              "      <td>Cyber Attack/ Dependent Crimes</td>\n",
              "      <td>Tampering with computer source documents</td>\n",
              "      <td>I never imagined something like this could happen to me, especially since I'm so cautious. But then I started noticing that my online activity felt different, slower even. I can't even describe it well because everything seemed normal, except for the fact that I was constantly getting logged out of my accounts. Looking back, maybe I should have paid more attention to the little details, but now it's too late. My accounts are compromised. The more I tried to fix it, the more problems came up. My bank account was recived, and then I got locked out of everything. I feel so helpless, like there’s nothing I can do to fix this. No matter how many times I change my password, it’s like someone’s always one step ahead. Even my phone isn’t working right anymore. It’s so stange how everything just fell apart after that one email.</td>\n",
              "    </tr>\n",
              "    <tr>\n",
              "      <th>36097</th>\n",
              "      <td>Online Financial Fraud</td>\n",
              "      <td>UPI Related Frauds</td>\n",
              "      <td>Message came with phone pe logo and they asked that i have received  cash back then i scrach the coupon then they asked for sending money to your account i clicked that icon then phone pe opened asked for UPI and then Money debited from my account</td>\n",
              "    </tr>\n",
              "    <tr>\n",
              "      <th>16710</th>\n",
              "      <td>Online Financial Fraud</td>\n",
              "      <td>UPI Related Frauds</td>\n",
              "      <td>Respected one\\r\\nthis incidence occured  times previously from the same person firstvtime they took Rs  from my account as per refund money but it didnt refund back and i didnt have any trasaction history about this but they called me to take my information \\r\\nPlease accept my request and procide futher\\r\\nhoping for positive response</td>\n",
              "    </tr>\n",
              "    <tr>\n",
              "      <th>64139</th>\n",
              "      <td>Online and Social Media Related Crime</td>\n",
              "      <td>Cyber Bullying  Stalking  Sexting</td>\n",
              "      <td>On th Feb night on reaching home from the office I opened my FB account to check some messages from my industry contacts I got a friend request from an anonymous girl named Radhika from Nasik Since she looked familiar I accepted the request and she started chatting on FB Messenger I just wanted to know who she was I exchanged messages and WhatsApp no was shared mutually to contact Immediately I started getting messages on WhatsApp and she asked for a video call I grew suspicious but on a Fair Note I wanted to know about her and accepted to take the call She started the VIDEO Call and became NUDE and in a few seconds I disconnected the call  In less than a minute the recorded VIDEO got shared with me and some anonymous male got in touch and asked to pay Rs for not to upload this onto FB Since I did not want to take any chances and got under PRESSURE  paid Rs Later again I got another message and audio recording asking to pay another  and the messages got exchanged with that person till almost  pm Finally I had paid more than    to close the issue But to my surprise I started receiving calls  msgs now DEMANDING to pay  for not uploading on YOUTUBE I understood that this would be a chain of THREATS I postponed paying the same for th Feb afternoon And later it is not paid I blocked the number but started receiving calls from another no Finally I blocked that as well and seek your help Kindly oblige</td>\n",
              "    </tr>\n",
              "    <tr>\n",
              "      <th>67106</th>\n",
              "      <td>Online Financial Fraud</td>\n",
              "      <td>DebitCredit Card FraudSim Swap Fraud</td>\n",
              "      <td>I HAVE NO IDEA REGARDING THE INCIDENT WHEN I GOT TO HOME AND Realised THAT I DID NOT HAVE MY WALLET AND MOBILE I WENT OUT TO  LOOK FOR IT BUT DID NOT FIND WHEN I MADE A CALL ON MY LOST MOBILEIT WAS RINGING BUT NONE RECEIVED THE CALL</td>\n",
              "    </tr>\n",
              "    <tr>\n",
              "      <th>6105</th>\n",
              "      <td>Online Financial Fraud</td>\n",
              "      <td>Internet Banking Related Fraud</td>\n",
              "      <td>I Bought a bike in emi my first emi starts this month  So today i got msg that  Payment of Rs  for your LT Finance  loan T is overdue Click  httpsspayuinotqndpm  to pay online now and avoid adverse credit rating or additional charges Pls ignore if already paid from payu team  This was that message it was like real one so i Paid with fear of overdue after paying only i came to know that PAYU is a fraud in Money transferI lost  Please take some serious action Fastly sir please recovee my money im poor Im believe in you Please \\r\\nMy finance name is LT\\r\\nThe msg i got from is Payu</td>\n",
              "    </tr>\n",
              "    <tr>\n",
              "      <th>100064</th>\n",
              "      <td>Online and Social Media Related Crime</td>\n",
              "      <td>Cheating by Impersonation</td>\n",
              "      <td>Sir  that link is given is mine fake accound opend by someone else \\r\\nI m very scared  plz help me \\r\\nIf my family or that girl family will see it we have to face so much problem That Picture from leaked by my gallary and someone used it to create my fake account \\r\\nMy real id url is httpswwwfacebookcommeronaamxaina          plz help us plz help us if we did not get any aasist we have to Sucide no other option</td>\n",
              "    </tr>\n",
              "  </tbody>\n",
              "</table>\n",
              "</div>\n",
              "    <div class=\"colab-df-buttons\">\n",
              "\n",
              "  <div class=\"colab-df-container\">\n",
              "    <button class=\"colab-df-convert\" onclick=\"convertToInteractive('df-3b955ab5-5ed9-4521-aa3a-424ff73df228')\"\n",
              "            title=\"Convert this dataframe to an interactive table.\"\n",
              "            style=\"display:none;\">\n",
              "\n",
              "  <svg xmlns=\"http://www.w3.org/2000/svg\" height=\"24px\" viewBox=\"0 -960 960 960\">\n",
              "    <path d=\"M120-120v-720h720v720H120Zm60-500h600v-160H180v160Zm220 220h160v-160H400v160Zm0 220h160v-160H400v160ZM180-400h160v-160H180v160Zm440 0h160v-160H620v160ZM180-180h160v-160H180v160Zm440 0h160v-160H620v160Z\"/>\n",
              "  </svg>\n",
              "    </button>\n",
              "\n",
              "  <style>\n",
              "    .colab-df-container {\n",
              "      display:flex;\n",
              "      gap: 12px;\n",
              "    }\n",
              "\n",
              "    .colab-df-convert {\n",
              "      background-color: #E8F0FE;\n",
              "      border: none;\n",
              "      border-radius: 50%;\n",
              "      cursor: pointer;\n",
              "      display: none;\n",
              "      fill: #1967D2;\n",
              "      height: 32px;\n",
              "      padding: 0 0 0 0;\n",
              "      width: 32px;\n",
              "    }\n",
              "\n",
              "    .colab-df-convert:hover {\n",
              "      background-color: #E2EBFA;\n",
              "      box-shadow: 0px 1px 2px rgba(60, 64, 67, 0.3), 0px 1px 3px 1px rgba(60, 64, 67, 0.15);\n",
              "      fill: #174EA6;\n",
              "    }\n",
              "\n",
              "    .colab-df-buttons div {\n",
              "      margin-bottom: 4px;\n",
              "    }\n",
              "\n",
              "    [theme=dark] .colab-df-convert {\n",
              "      background-color: #3B4455;\n",
              "      fill: #D2E3FC;\n",
              "    }\n",
              "\n",
              "    [theme=dark] .colab-df-convert:hover {\n",
              "      background-color: #434B5C;\n",
              "      box-shadow: 0px 1px 3px 1px rgba(0, 0, 0, 0.15);\n",
              "      filter: drop-shadow(0px 1px 2px rgba(0, 0, 0, 0.3));\n",
              "      fill: #FFFFFF;\n",
              "    }\n",
              "  </style>\n",
              "\n",
              "    <script>\n",
              "      const buttonEl =\n",
              "        document.querySelector('#df-3b955ab5-5ed9-4521-aa3a-424ff73df228 button.colab-df-convert');\n",
              "      buttonEl.style.display =\n",
              "        google.colab.kernel.accessAllowed ? 'block' : 'none';\n",
              "\n",
              "      async function convertToInteractive(key) {\n",
              "        const element = document.querySelector('#df-3b955ab5-5ed9-4521-aa3a-424ff73df228');\n",
              "        const dataTable =\n",
              "          await google.colab.kernel.invokeFunction('convertToInteractive',\n",
              "                                                    [key], {});\n",
              "        if (!dataTable) return;\n",
              "\n",
              "        const docLinkHtml = 'Like what you see? Visit the ' +\n",
              "          '<a target=\"_blank\" href=https://colab.research.google.com/notebooks/data_table.ipynb>data table notebook</a>'\n",
              "          + ' to learn more about interactive tables.';\n",
              "        element.innerHTML = '';\n",
              "        dataTable['output_type'] = 'display_data';\n",
              "        await google.colab.output.renderOutput(dataTable, element);\n",
              "        const docLink = document.createElement('div');\n",
              "        docLink.innerHTML = docLinkHtml;\n",
              "        element.appendChild(docLink);\n",
              "      }\n",
              "    </script>\n",
              "  </div>\n",
              "\n",
              "\n",
              "<div id=\"df-0748b66e-0f67-49be-a305-e86a89374747\">\n",
              "  <button class=\"colab-df-quickchart\" onclick=\"quickchart('df-0748b66e-0f67-49be-a305-e86a89374747')\"\n",
              "            title=\"Suggest charts\"\n",
              "            style=\"display:none;\">\n",
              "\n",
              "<svg xmlns=\"http://www.w3.org/2000/svg\" height=\"24px\"viewBox=\"0 0 24 24\"\n",
              "     width=\"24px\">\n",
              "    <g>\n",
              "        <path d=\"M19 3H5c-1.1 0-2 .9-2 2v14c0 1.1.9 2 2 2h14c1.1 0 2-.9 2-2V5c0-1.1-.9-2-2-2zM9 17H7v-7h2v7zm4 0h-2V7h2v10zm4 0h-2v-4h2v4z\"/>\n",
              "    </g>\n",
              "</svg>\n",
              "  </button>\n",
              "\n",
              "<style>\n",
              "  .colab-df-quickchart {\n",
              "      --bg-color: #E8F0FE;\n",
              "      --fill-color: #1967D2;\n",
              "      --hover-bg-color: #E2EBFA;\n",
              "      --hover-fill-color: #174EA6;\n",
              "      --disabled-fill-color: #AAA;\n",
              "      --disabled-bg-color: #DDD;\n",
              "  }\n",
              "\n",
              "  [theme=dark] .colab-df-quickchart {\n",
              "      --bg-color: #3B4455;\n",
              "      --fill-color: #D2E3FC;\n",
              "      --hover-bg-color: #434B5C;\n",
              "      --hover-fill-color: #FFFFFF;\n",
              "      --disabled-bg-color: #3B4455;\n",
              "      --disabled-fill-color: #666;\n",
              "  }\n",
              "\n",
              "  .colab-df-quickchart {\n",
              "    background-color: var(--bg-color);\n",
              "    border: none;\n",
              "    border-radius: 50%;\n",
              "    cursor: pointer;\n",
              "    display: none;\n",
              "    fill: var(--fill-color);\n",
              "    height: 32px;\n",
              "    padding: 0;\n",
              "    width: 32px;\n",
              "  }\n",
              "\n",
              "  .colab-df-quickchart:hover {\n",
              "    background-color: var(--hover-bg-color);\n",
              "    box-shadow: 0 1px 2px rgba(60, 64, 67, 0.3), 0 1px 3px 1px rgba(60, 64, 67, 0.15);\n",
              "    fill: var(--button-hover-fill-color);\n",
              "  }\n",
              "\n",
              "  .colab-df-quickchart-complete:disabled,\n",
              "  .colab-df-quickchart-complete:disabled:hover {\n",
              "    background-color: var(--disabled-bg-color);\n",
              "    fill: var(--disabled-fill-color);\n",
              "    box-shadow: none;\n",
              "  }\n",
              "\n",
              "  .colab-df-spinner {\n",
              "    border: 2px solid var(--fill-color);\n",
              "    border-color: transparent;\n",
              "    border-bottom-color: var(--fill-color);\n",
              "    animation:\n",
              "      spin 1s steps(1) infinite;\n",
              "  }\n",
              "\n",
              "  @keyframes spin {\n",
              "    0% {\n",
              "      border-color: transparent;\n",
              "      border-bottom-color: var(--fill-color);\n",
              "      border-left-color: var(--fill-color);\n",
              "    }\n",
              "    20% {\n",
              "      border-color: transparent;\n",
              "      border-left-color: var(--fill-color);\n",
              "      border-top-color: var(--fill-color);\n",
              "    }\n",
              "    30% {\n",
              "      border-color: transparent;\n",
              "      border-left-color: var(--fill-color);\n",
              "      border-top-color: var(--fill-color);\n",
              "      border-right-color: var(--fill-color);\n",
              "    }\n",
              "    40% {\n",
              "      border-color: transparent;\n",
              "      border-right-color: var(--fill-color);\n",
              "      border-top-color: var(--fill-color);\n",
              "    }\n",
              "    60% {\n",
              "      border-color: transparent;\n",
              "      border-right-color: var(--fill-color);\n",
              "    }\n",
              "    80% {\n",
              "      border-color: transparent;\n",
              "      border-right-color: var(--fill-color);\n",
              "      border-bottom-color: var(--fill-color);\n",
              "    }\n",
              "    90% {\n",
              "      border-color: transparent;\n",
              "      border-bottom-color: var(--fill-color);\n",
              "    }\n",
              "  }\n",
              "</style>\n",
              "\n",
              "  <script>\n",
              "    async function quickchart(key) {\n",
              "      const quickchartButtonEl =\n",
              "        document.querySelector('#' + key + ' button');\n",
              "      quickchartButtonEl.disabled = true;  // To prevent multiple clicks.\n",
              "      quickchartButtonEl.classList.add('colab-df-spinner');\n",
              "      try {\n",
              "        const charts = await google.colab.kernel.invokeFunction(\n",
              "            'suggestCharts', [key], {});\n",
              "      } catch (error) {\n",
              "        console.error('Error during call to suggestCharts:', error);\n",
              "      }\n",
              "      quickchartButtonEl.classList.remove('colab-df-spinner');\n",
              "      quickchartButtonEl.classList.add('colab-df-quickchart-complete');\n",
              "    }\n",
              "    (() => {\n",
              "      let quickchartButtonEl =\n",
              "        document.querySelector('#df-0748b66e-0f67-49be-a305-e86a89374747 button');\n",
              "      quickchartButtonEl.style.display =\n",
              "        google.colab.kernel.accessAllowed ? 'block' : 'none';\n",
              "    })();\n",
              "  </script>\n",
              "</div>\n",
              "\n",
              "    </div>\n",
              "  </div>\n"
            ],
            "application/vnd.google.colaboratory.intrinsic+json": {
              "type": "dataframe",
              "summary": "{\n  \"name\": \"df_train_cleaned\",\n  \"rows\": 10,\n  \"fields\": [\n    {\n      \"column\": \"category\",\n      \"properties\": {\n        \"dtype\": \"category\",\n        \"num_unique_values\": 3,\n        \"samples\": [\n          \"Online Financial Fraud\",\n          \"Cyber Attack/ Dependent Crimes\",\n          \"Online and Social Media Related Crime\"\n        ],\n        \"semantic_type\": \"\",\n        \"description\": \"\"\n      }\n    },\n    {\n      \"column\": \"sub_category\",\n      \"properties\": {\n        \"dtype\": \"string\",\n        \"num_unique_values\": 7,\n        \"samples\": [\n          \"Internet Banking Related Fraud\",\n          \"UPI Related Frauds\",\n          \"DebitCredit Card FraudSim Swap Fraud\"\n        ],\n        \"semantic_type\": \"\",\n        \"description\": \"\"\n      }\n    },\n    {\n      \"column\": \"crimeaditionalinfo\",\n      \"properties\": {\n        \"dtype\": \"string\",\n        \"num_unique_values\": 10,\n        \"samples\": [\n          \"I Bought a bike in emi my first emi starts this month  So today i got msg that  Payment of Rs  for your LT Finance  loan T is overdue Click  httpsspayuinotqndpm  to pay online now and avoid adverse credit rating or additional charges Pls ignore if already paid from payu team  This was that message it was like real one so i Paid with fear of overdue after paying only i came to know that PAYU is a fraud in Money transferI lost  Please take some serious action Fastly sir please recovee my money im poor Im believe in you Please \\r\\nMy finance name is LT\\r\\nThe msg i got from is Payu\",\n          \"Respected Sir  today suddenly I received sms of deduction amount from my PayTm account I did not any activity with phone or with my account Neither I share OTP nor I make any order Without Sharing any details amount of Rs   deducted from PayTm\",\n          \"Respected one\\r\\nthis incidence occured  times previously from the same person firstvtime they took Rs  from my account as per refund money but it didnt refund back and i didnt have any trasaction history about this but they called me to take my information \\r\\nPlease accept my request and procide futher\\r\\nhoping for positive response\"\n        ],\n        \"semantic_type\": \"\",\n        \"description\": \"\"\n      }\n    }\n  ]\n}"
            }
          },
          "metadata": {},
          "execution_count": 16
        }
      ],
      "source": [
        "df_train_cleaned.sample(10)"
      ]
    },
    {
      "cell_type": "markdown",
      "metadata": {
        "id": "LV22d3vyJzSH"
      },
      "source": [
        "### **Reduce noise in data**"
      ]
    },
    {
      "cell_type": "code",
      "execution_count": null,
      "metadata": {
        "id": "_E16JeLoJzSI",
        "colab": {
          "base_uri": "https://localhost:8080/"
        },
        "outputId": "3f851f26-3d80-4c16-d069-73dae391d89b"
      },
      "outputs": [
        {
          "output_type": "stream",
          "name": "stdout",
          "text": [
            "\u001b[?25l   \u001b[90m━━━━━━━━━━━━━━━━━━━━━━━━━━━━━━━━━━━━━━━━\u001b[0m \u001b[32m0.0/289.9 kB\u001b[0m \u001b[31m?\u001b[0m eta \u001b[36m-:--:--\u001b[0m\r\u001b[2K   \u001b[91m━━━━━━━━━━━━━━━━━━━\u001b[0m\u001b[91m╸\u001b[0m\u001b[90m━━━━━━━━━━━━━━━━━━━━\u001b[0m \u001b[32m143.4/289.9 kB\u001b[0m \u001b[31m4.1 MB/s\u001b[0m eta \u001b[36m0:00:01\u001b[0m\r\u001b[2K   \u001b[90m━━━━━━━━━━━━━━━━━━━━━━━━━━━━━━━━━━━━━━━━\u001b[0m \u001b[32m289.9/289.9 kB\u001b[0m \u001b[31m4.7 MB/s\u001b[0m eta \u001b[36m0:00:00\u001b[0m\n",
            "\u001b[?25h\u001b[?25l   \u001b[90m━━━━━━━━━━━━━━━━━━━━━━━━━━━━━━━━━━━━━━━━\u001b[0m \u001b[32m0.0/118.3 kB\u001b[0m \u001b[31m?\u001b[0m eta \u001b[36m-:--:--\u001b[0m\r\u001b[2K   \u001b[90m━━━━━━━━━━━━━━━━━━━━━━━━━━━━━━━━━━━━━━━━\u001b[0m \u001b[32m118.3/118.3 kB\u001b[0m \u001b[31m8.8 MB/s\u001b[0m eta \u001b[36m0:00:00\u001b[0m\n",
            "\u001b[?25h"
          ]
        }
      ],
      "source": [
        "! pip install contractions -q"
      ]
    },
    {
      "cell_type": "code",
      "execution_count": null,
      "metadata": {
        "id": "Xq4OaqRdJzSI"
      },
      "outputs": [],
      "source": [
        "# Import required libraries\n",
        "import re\n",
        "import unicodedata\n",
        "import contractions\n",
        "\n",
        "\n",
        "# Fix encoding and handle accented characters\n",
        "df_train_cleaned['crimeaditionalinfo'] = df_train_cleaned['crimeaditionalinfo'].apply(lambda x: unicodedata.normalize('NFKD', x))\n",
        "df_train_cleaned['crimeaditionalinfo'] = df_train_cleaned['crimeaditionalinfo'].apply(lambda x: x.encode('ascii', 'ignore').decode('utf-8'))\n",
        "\n",
        "# Expand contractions\n",
        "df_train_cleaned['crimeaditionalinfo'] = df_train_cleaned['crimeaditionalinfo'].apply(lambda x: contractions.fix(x))\n",
        "\n",
        "# Remove noise but keep periods\n",
        "df_train_cleaned['crimeaditionalinfo'] = df_train_cleaned['crimeaditionalinfo'].apply(lambda x: x.lower())\n",
        "df_train_cleaned['crimeaditionalinfo'] = df_train_cleaned['crimeaditionalinfo'].apply(lambda x: re.sub(r'\\S+@\\S+', '', x))\n",
        "df_train_cleaned['crimeaditionalinfo'] = df_train_cleaned['crimeaditionalinfo'].apply(lambda x: re.sub(r'http\\S+|www.\\S+', '', x))\n",
        "# Modified to keep periods while removing other punctuation\n",
        "df_train_cleaned['crimeaditionalinfo'] = df_train_cleaned['crimeaditionalinfo'].apply(lambda x: re.sub(r'[^\\w\\s\\.]', '', x))\n",
        "df_train_cleaned['crimeaditionalinfo'] = df_train_cleaned['crimeaditionalinfo'].apply(lambda x: re.sub(r'\\s+', ' ', x))\n",
        "df_train_cleaned['crimeaditionalinfo'] = df_train_cleaned['crimeaditionalinfo'].apply(lambda x: x.strip())"
      ]
    },
    {
      "cell_type": "code",
      "execution_count": null,
      "metadata": {
        "id": "4Xm2t4I9JzSI",
        "outputId": "8e375f14-eb66-45ad-b6dc-7c335502b632",
        "colab": {
          "base_uri": "https://localhost:8080/",
          "height": 1000
        }
      },
      "outputs": [
        {
          "output_type": "execute_result",
          "data": {
            "text/plain": [
              "                                    category  \\\n",
              "96592  Online and Social Media Related Crime   \n",
              "45305         Cyber Attack/ Dependent Crimes   \n",
              "82322                   Cryptocurrency Crime   \n",
              "57402  Online and Social Media Related Crime   \n",
              "33342  Online and Social Media Related Crime   \n",
              "89824                  Any Other Cyber Crime   \n",
              "94504                 Online Financial Fraud   \n",
              "94291              Sexually Obscene material   \n",
              "66923                 Online Financial Fraud   \n",
              "58071                  Any Other Cyber Crime   \n",
              "\n",
              "                                                               sub_category  \\\n",
              "96592                                             Cheating by Impersonation   \n",
              "45305  Denial of Service (DoS)/Distributed Denial of Service (DDOS) attacks   \n",
              "82322                                                  Cryptocurrency Fraud   \n",
              "57402                                                        EMail Phishing   \n",
              "33342                                             FakeImpersonating Profile   \n",
              "89824                                                                 Other   \n",
              "94504                                                    UPI Related Frauds   \n",
              "94291                                                                   NaN   \n",
              "66923                                        Internet Banking Related Fraud   \n",
              "58071                                                                 Other   \n",
              "\n",
              "                                                                                                                                                                                                                                                                                                                                                                                                                                                                                                                                                                                                                                                                                                                                                                                                                                     crimeaditionalinfo  \n",
              "96592                                                                                                                                                                                                                                                                                                                                                                                                                                                                                                                                                                                                                                                            elza me mene payment kiya tha tb bola tha muje ki bin ka aaye ga din tak or abhi mere account me withdraw nhi ho rha he roj skim dete he ki etne lgao to payment wapas account aaye he  \n",
              "45305  this all happened a few days after i accidentally clicked on a strange link on social media. i did not think much of it until things started going wrong. the next thing i knew people were calling me asking if i had sent them strange messages and i had not touched my phone all day. honestly its such a mess and i do not even know where to start. i have contacted support but they keep giving me the runaround. the more i tried to fix it the more problems came up. my email was notifiction and then i got locked out of everything. this has really left me anxious and frustrated i cannot sleep knowing my information is out there. i have even considered deleting all my accounts but that is not a solution. even my laptop is not working right anymore. its so stange how everything just fell apart after that one email.  \n",
              "82322                                                                                                                                                                                                                                                                                                                                                                                                                                                                                                                                                                                                                                                                    whatsapp number and i have transferred amount from binance account they not refunding my amount kindly check and help me i have transferred dollar make a complain pls help me  \n",
              "57402                                                                                                                                                                                                                                                                                                                                                                                                                                                                                                                                                                                                   an email impersonating my university was received by me which asked to fill a google form and they sought to fill my details like aadhar my admission details etc i being unknown of the fact that it was fake filled the form and submitted it  \n",
              "33342                                                                                                                                                                        dear sir my name is mdsalim so late mdnasimuddin and i am presently live in kolkata narayapur rajarhat pin and my home town jamshedpur east singhbhum jharkand pin yesterday on dated jan at pm i have received calls from my friends frequently somebody used my facebook fake ids with my photo and asked money chat details provide me through whatapps same uploaded in your website during chatting identified two mobile numbers and pytm name of numbers name rohit singh account numbers ifsc code pytm upi id paytm fake facebook fake id profile sunilkumarsunilkumsr and my facebook profile id requesting kindly investigate the matter and take strong action  \n",
              "89824                                                                                                                                                                                                                                                                                                                                                                                                                                                                       we sent our children to their aunty house we gave the phone also to attend online class when ready to go home they kept phone in their bag but reached our home we check their bag we not found the phone so we made call evening time the phone was switchoff but night time the phone was ringing next days also the phone was ringing but rd day the phone was switchoff  \n",
              "94504                                                                                                                                                                                                                                                                                                                                                                                                                                                                                                                                                                                                                                         i posted an add on facebook to sell my wardrobe and got a call from indian army asking for price and he agreed to buy for advance payment he sent a link to accept the creditwhich resulted in fraud of k  \n",
              "94291                                                                                                                                                                                                                                                                                                                                                                                                                                                                                                                                                  dear sir please help us this message from small loan o cash application i was take loan and day overdue but their recovery agent is still abusing and harrassing me like this on what is app they send message like this to everyone sir i trust you you will take immediate action sir jai hind  \n",
              "66923                                                                                                                                                                                                                                                                                                                                                                                               identity theft fake customer care service fraud any othersvictim saw a add inyou tube about bajaj finance loan victim contacted to bajaj customer care number and connecting later automatically it is disconnecting after some time victim got call from unknown number he introduced him self as a bajaj employee so victim believed his words and victim shares card details and download any desk app later amount was debited from his account  \n",
              "58071                                                                                                                                                                              my husband went to pnb atm outlet at pm on he withdrew rs at pm we returened home and at i pm rs ii pm rs was fraudulently debited from my account which we came to know from the message this rs was debitted from different atm outlet kaneez apartment as per epassbook statement after talking to customer care center for blocking the card we came to know that my debit card has been exchanged with another pnb debit card numbered i have blocked my debit card and also debit freezed my account at pmi have already submitted the exchanged debit card to my pnb base branch today please take appropriate action so that my rs is refunded in my account  "
            ],
            "text/html": [
              "\n",
              "  <div id=\"df-8355a204-1dcb-478f-ab1a-60224129b5b1\" class=\"colab-df-container\">\n",
              "    <div>\n",
              "<style scoped>\n",
              "    .dataframe tbody tr th:only-of-type {\n",
              "        vertical-align: middle;\n",
              "    }\n",
              "\n",
              "    .dataframe tbody tr th {\n",
              "        vertical-align: top;\n",
              "    }\n",
              "\n",
              "    .dataframe thead th {\n",
              "        text-align: right;\n",
              "    }\n",
              "</style>\n",
              "<table border=\"1\" class=\"dataframe\">\n",
              "  <thead>\n",
              "    <tr style=\"text-align: right;\">\n",
              "      <th></th>\n",
              "      <th>category</th>\n",
              "      <th>sub_category</th>\n",
              "      <th>crimeaditionalinfo</th>\n",
              "    </tr>\n",
              "  </thead>\n",
              "  <tbody>\n",
              "    <tr>\n",
              "      <th>96592</th>\n",
              "      <td>Online and Social Media Related Crime</td>\n",
              "      <td>Cheating by Impersonation</td>\n",
              "      <td>elza me mene payment kiya tha tb bola tha muje ki bin ka aaye ga din tak or abhi mere account me withdraw nhi ho rha he roj skim dete he ki etne lgao to payment wapas account aaye he</td>\n",
              "    </tr>\n",
              "    <tr>\n",
              "      <th>45305</th>\n",
              "      <td>Cyber Attack/ Dependent Crimes</td>\n",
              "      <td>Denial of Service (DoS)/Distributed Denial of Service (DDOS) attacks</td>\n",
              "      <td>this all happened a few days after i accidentally clicked on a strange link on social media. i did not think much of it until things started going wrong. the next thing i knew people were calling me asking if i had sent them strange messages and i had not touched my phone all day. honestly its such a mess and i do not even know where to start. i have contacted support but they keep giving me the runaround. the more i tried to fix it the more problems came up. my email was notifiction and then i got locked out of everything. this has really left me anxious and frustrated i cannot sleep knowing my information is out there. i have even considered deleting all my accounts but that is not a solution. even my laptop is not working right anymore. its so stange how everything just fell apart after that one email.</td>\n",
              "    </tr>\n",
              "    <tr>\n",
              "      <th>82322</th>\n",
              "      <td>Cryptocurrency Crime</td>\n",
              "      <td>Cryptocurrency Fraud</td>\n",
              "      <td>whatsapp number and i have transferred amount from binance account they not refunding my amount kindly check and help me i have transferred dollar make a complain pls help me</td>\n",
              "    </tr>\n",
              "    <tr>\n",
              "      <th>57402</th>\n",
              "      <td>Online and Social Media Related Crime</td>\n",
              "      <td>EMail Phishing</td>\n",
              "      <td>an email impersonating my university was received by me which asked to fill a google form and they sought to fill my details like aadhar my admission details etc i being unknown of the fact that it was fake filled the form and submitted it</td>\n",
              "    </tr>\n",
              "    <tr>\n",
              "      <th>33342</th>\n",
              "      <td>Online and Social Media Related Crime</td>\n",
              "      <td>FakeImpersonating Profile</td>\n",
              "      <td>dear sir my name is mdsalim so late mdnasimuddin and i am presently live in kolkata narayapur rajarhat pin and my home town jamshedpur east singhbhum jharkand pin yesterday on dated jan at pm i have received calls from my friends frequently somebody used my facebook fake ids with my photo and asked money chat details provide me through whatapps same uploaded in your website during chatting identified two mobile numbers and pytm name of numbers name rohit singh account numbers ifsc code pytm upi id paytm fake facebook fake id profile sunilkumarsunilkumsr and my facebook profile id requesting kindly investigate the matter and take strong action</td>\n",
              "    </tr>\n",
              "    <tr>\n",
              "      <th>89824</th>\n",
              "      <td>Any Other Cyber Crime</td>\n",
              "      <td>Other</td>\n",
              "      <td>we sent our children to their aunty house we gave the phone also to attend online class when ready to go home they kept phone in their bag but reached our home we check their bag we not found the phone so we made call evening time the phone was switchoff but night time the phone was ringing next days also the phone was ringing but rd day the phone was switchoff</td>\n",
              "    </tr>\n",
              "    <tr>\n",
              "      <th>94504</th>\n",
              "      <td>Online Financial Fraud</td>\n",
              "      <td>UPI Related Frauds</td>\n",
              "      <td>i posted an add on facebook to sell my wardrobe and got a call from indian army asking for price and he agreed to buy for advance payment he sent a link to accept the creditwhich resulted in fraud of k</td>\n",
              "    </tr>\n",
              "    <tr>\n",
              "      <th>94291</th>\n",
              "      <td>Sexually Obscene material</td>\n",
              "      <td>NaN</td>\n",
              "      <td>dear sir please help us this message from small loan o cash application i was take loan and day overdue but their recovery agent is still abusing and harrassing me like this on what is app they send message like this to everyone sir i trust you you will take immediate action sir jai hind</td>\n",
              "    </tr>\n",
              "    <tr>\n",
              "      <th>66923</th>\n",
              "      <td>Online Financial Fraud</td>\n",
              "      <td>Internet Banking Related Fraud</td>\n",
              "      <td>identity theft fake customer care service fraud any othersvictim saw a add inyou tube about bajaj finance loan victim contacted to bajaj customer care number and connecting later automatically it is disconnecting after some time victim got call from unknown number he introduced him self as a bajaj employee so victim believed his words and victim shares card details and download any desk app later amount was debited from his account</td>\n",
              "    </tr>\n",
              "    <tr>\n",
              "      <th>58071</th>\n",
              "      <td>Any Other Cyber Crime</td>\n",
              "      <td>Other</td>\n",
              "      <td>my husband went to pnb atm outlet at pm on he withdrew rs at pm we returened home and at i pm rs ii pm rs was fraudulently debited from my account which we came to know from the message this rs was debitted from different atm outlet kaneez apartment as per epassbook statement after talking to customer care center for blocking the card we came to know that my debit card has been exchanged with another pnb debit card numbered i have blocked my debit card and also debit freezed my account at pmi have already submitted the exchanged debit card to my pnb base branch today please take appropriate action so that my rs is refunded in my account</td>\n",
              "    </tr>\n",
              "  </tbody>\n",
              "</table>\n",
              "</div>\n",
              "    <div class=\"colab-df-buttons\">\n",
              "\n",
              "  <div class=\"colab-df-container\">\n",
              "    <button class=\"colab-df-convert\" onclick=\"convertToInteractive('df-8355a204-1dcb-478f-ab1a-60224129b5b1')\"\n",
              "            title=\"Convert this dataframe to an interactive table.\"\n",
              "            style=\"display:none;\">\n",
              "\n",
              "  <svg xmlns=\"http://www.w3.org/2000/svg\" height=\"24px\" viewBox=\"0 -960 960 960\">\n",
              "    <path d=\"M120-120v-720h720v720H120Zm60-500h600v-160H180v160Zm220 220h160v-160H400v160Zm0 220h160v-160H400v160ZM180-400h160v-160H180v160Zm440 0h160v-160H620v160ZM180-180h160v-160H180v160Zm440 0h160v-160H620v160Z\"/>\n",
              "  </svg>\n",
              "    </button>\n",
              "\n",
              "  <style>\n",
              "    .colab-df-container {\n",
              "      display:flex;\n",
              "      gap: 12px;\n",
              "    }\n",
              "\n",
              "    .colab-df-convert {\n",
              "      background-color: #E8F0FE;\n",
              "      border: none;\n",
              "      border-radius: 50%;\n",
              "      cursor: pointer;\n",
              "      display: none;\n",
              "      fill: #1967D2;\n",
              "      height: 32px;\n",
              "      padding: 0 0 0 0;\n",
              "      width: 32px;\n",
              "    }\n",
              "\n",
              "    .colab-df-convert:hover {\n",
              "      background-color: #E2EBFA;\n",
              "      box-shadow: 0px 1px 2px rgba(60, 64, 67, 0.3), 0px 1px 3px 1px rgba(60, 64, 67, 0.15);\n",
              "      fill: #174EA6;\n",
              "    }\n",
              "\n",
              "    .colab-df-buttons div {\n",
              "      margin-bottom: 4px;\n",
              "    }\n",
              "\n",
              "    [theme=dark] .colab-df-convert {\n",
              "      background-color: #3B4455;\n",
              "      fill: #D2E3FC;\n",
              "    }\n",
              "\n",
              "    [theme=dark] .colab-df-convert:hover {\n",
              "      background-color: #434B5C;\n",
              "      box-shadow: 0px 1px 3px 1px rgba(0, 0, 0, 0.15);\n",
              "      filter: drop-shadow(0px 1px 2px rgba(0, 0, 0, 0.3));\n",
              "      fill: #FFFFFF;\n",
              "    }\n",
              "  </style>\n",
              "\n",
              "    <script>\n",
              "      const buttonEl =\n",
              "        document.querySelector('#df-8355a204-1dcb-478f-ab1a-60224129b5b1 button.colab-df-convert');\n",
              "      buttonEl.style.display =\n",
              "        google.colab.kernel.accessAllowed ? 'block' : 'none';\n",
              "\n",
              "      async function convertToInteractive(key) {\n",
              "        const element = document.querySelector('#df-8355a204-1dcb-478f-ab1a-60224129b5b1');\n",
              "        const dataTable =\n",
              "          await google.colab.kernel.invokeFunction('convertToInteractive',\n",
              "                                                    [key], {});\n",
              "        if (!dataTable) return;\n",
              "\n",
              "        const docLinkHtml = 'Like what you see? Visit the ' +\n",
              "          '<a target=\"_blank\" href=https://colab.research.google.com/notebooks/data_table.ipynb>data table notebook</a>'\n",
              "          + ' to learn more about interactive tables.';\n",
              "        element.innerHTML = '';\n",
              "        dataTable['output_type'] = 'display_data';\n",
              "        await google.colab.output.renderOutput(dataTable, element);\n",
              "        const docLink = document.createElement('div');\n",
              "        docLink.innerHTML = docLinkHtml;\n",
              "        element.appendChild(docLink);\n",
              "      }\n",
              "    </script>\n",
              "  </div>\n",
              "\n",
              "\n",
              "<div id=\"df-177f1c9d-2582-41eb-9c8d-55bd194090f9\">\n",
              "  <button class=\"colab-df-quickchart\" onclick=\"quickchart('df-177f1c9d-2582-41eb-9c8d-55bd194090f9')\"\n",
              "            title=\"Suggest charts\"\n",
              "            style=\"display:none;\">\n",
              "\n",
              "<svg xmlns=\"http://www.w3.org/2000/svg\" height=\"24px\"viewBox=\"0 0 24 24\"\n",
              "     width=\"24px\">\n",
              "    <g>\n",
              "        <path d=\"M19 3H5c-1.1 0-2 .9-2 2v14c0 1.1.9 2 2 2h14c1.1 0 2-.9 2-2V5c0-1.1-.9-2-2-2zM9 17H7v-7h2v7zm4 0h-2V7h2v10zm4 0h-2v-4h2v4z\"/>\n",
              "    </g>\n",
              "</svg>\n",
              "  </button>\n",
              "\n",
              "<style>\n",
              "  .colab-df-quickchart {\n",
              "      --bg-color: #E8F0FE;\n",
              "      --fill-color: #1967D2;\n",
              "      --hover-bg-color: #E2EBFA;\n",
              "      --hover-fill-color: #174EA6;\n",
              "      --disabled-fill-color: #AAA;\n",
              "      --disabled-bg-color: #DDD;\n",
              "  }\n",
              "\n",
              "  [theme=dark] .colab-df-quickchart {\n",
              "      --bg-color: #3B4455;\n",
              "      --fill-color: #D2E3FC;\n",
              "      --hover-bg-color: #434B5C;\n",
              "      --hover-fill-color: #FFFFFF;\n",
              "      --disabled-bg-color: #3B4455;\n",
              "      --disabled-fill-color: #666;\n",
              "  }\n",
              "\n",
              "  .colab-df-quickchart {\n",
              "    background-color: var(--bg-color);\n",
              "    border: none;\n",
              "    border-radius: 50%;\n",
              "    cursor: pointer;\n",
              "    display: none;\n",
              "    fill: var(--fill-color);\n",
              "    height: 32px;\n",
              "    padding: 0;\n",
              "    width: 32px;\n",
              "  }\n",
              "\n",
              "  .colab-df-quickchart:hover {\n",
              "    background-color: var(--hover-bg-color);\n",
              "    box-shadow: 0 1px 2px rgba(60, 64, 67, 0.3), 0 1px 3px 1px rgba(60, 64, 67, 0.15);\n",
              "    fill: var(--button-hover-fill-color);\n",
              "  }\n",
              "\n",
              "  .colab-df-quickchart-complete:disabled,\n",
              "  .colab-df-quickchart-complete:disabled:hover {\n",
              "    background-color: var(--disabled-bg-color);\n",
              "    fill: var(--disabled-fill-color);\n",
              "    box-shadow: none;\n",
              "  }\n",
              "\n",
              "  .colab-df-spinner {\n",
              "    border: 2px solid var(--fill-color);\n",
              "    border-color: transparent;\n",
              "    border-bottom-color: var(--fill-color);\n",
              "    animation:\n",
              "      spin 1s steps(1) infinite;\n",
              "  }\n",
              "\n",
              "  @keyframes spin {\n",
              "    0% {\n",
              "      border-color: transparent;\n",
              "      border-bottom-color: var(--fill-color);\n",
              "      border-left-color: var(--fill-color);\n",
              "    }\n",
              "    20% {\n",
              "      border-color: transparent;\n",
              "      border-left-color: var(--fill-color);\n",
              "      border-top-color: var(--fill-color);\n",
              "    }\n",
              "    30% {\n",
              "      border-color: transparent;\n",
              "      border-left-color: var(--fill-color);\n",
              "      border-top-color: var(--fill-color);\n",
              "      border-right-color: var(--fill-color);\n",
              "    }\n",
              "    40% {\n",
              "      border-color: transparent;\n",
              "      border-right-color: var(--fill-color);\n",
              "      border-top-color: var(--fill-color);\n",
              "    }\n",
              "    60% {\n",
              "      border-color: transparent;\n",
              "      border-right-color: var(--fill-color);\n",
              "    }\n",
              "    80% {\n",
              "      border-color: transparent;\n",
              "      border-right-color: var(--fill-color);\n",
              "      border-bottom-color: var(--fill-color);\n",
              "    }\n",
              "    90% {\n",
              "      border-color: transparent;\n",
              "      border-bottom-color: var(--fill-color);\n",
              "    }\n",
              "  }\n",
              "</style>\n",
              "\n",
              "  <script>\n",
              "    async function quickchart(key) {\n",
              "      const quickchartButtonEl =\n",
              "        document.querySelector('#' + key + ' button');\n",
              "      quickchartButtonEl.disabled = true;  // To prevent multiple clicks.\n",
              "      quickchartButtonEl.classList.add('colab-df-spinner');\n",
              "      try {\n",
              "        const charts = await google.colab.kernel.invokeFunction(\n",
              "            'suggestCharts', [key], {});\n",
              "      } catch (error) {\n",
              "        console.error('Error during call to suggestCharts:', error);\n",
              "      }\n",
              "      quickchartButtonEl.classList.remove('colab-df-spinner');\n",
              "      quickchartButtonEl.classList.add('colab-df-quickchart-complete');\n",
              "    }\n",
              "    (() => {\n",
              "      let quickchartButtonEl =\n",
              "        document.querySelector('#df-177f1c9d-2582-41eb-9c8d-55bd194090f9 button');\n",
              "      quickchartButtonEl.style.display =\n",
              "        google.colab.kernel.accessAllowed ? 'block' : 'none';\n",
              "    })();\n",
              "  </script>\n",
              "</div>\n",
              "\n",
              "    </div>\n",
              "  </div>\n"
            ],
            "application/vnd.google.colaboratory.intrinsic+json": {
              "type": "dataframe",
              "summary": "{\n  \"name\": \"df_train_cleaned\",\n  \"rows\": 10,\n  \"fields\": [\n    {\n      \"column\": \"category\",\n      \"properties\": {\n        \"dtype\": \"string\",\n        \"num_unique_values\": 6,\n        \"samples\": [\n          \"Online and Social Media Related Crime\",\n          \"Cyber Attack/ Dependent Crimes\",\n          \"Sexually Obscene material\"\n        ],\n        \"semantic_type\": \"\",\n        \"description\": \"\"\n      }\n    },\n    {\n      \"column\": \"sub_category\",\n      \"properties\": {\n        \"dtype\": \"string\",\n        \"num_unique_values\": 8,\n        \"samples\": [\n          \"Denial of Service (DoS)/Distributed Denial of Service (DDOS) attacks\",\n          \"Other\",\n          \"Cheating by Impersonation\"\n        ],\n        \"semantic_type\": \"\",\n        \"description\": \"\"\n      }\n    },\n    {\n      \"column\": \"crimeaditionalinfo\",\n      \"properties\": {\n        \"dtype\": \"string\",\n        \"num_unique_values\": 10,\n        \"samples\": [\n          \"identity theft fake customer care service fraud any othersvictim saw a add inyou tube about bajaj finance loan victim contacted to bajaj customer care number and connecting later automatically it is disconnecting after some time victim got call from unknown number he introduced him self as a bajaj employee so victim believed his words and victim shares card details and download any desk app later amount was debited from his account\",\n          \"this all happened a few days after i accidentally clicked on a strange link on social media. i did not think much of it until things started going wrong. the next thing i knew people were calling me asking if i had sent them strange messages and i had not touched my phone all day. honestly its such a mess and i do not even know where to start. i have contacted support but they keep giving me the runaround. the more i tried to fix it the more problems came up. my email was notifiction and then i got locked out of everything. this has really left me anxious and frustrated i cannot sleep knowing my information is out there. i have even considered deleting all my accounts but that is not a solution. even my laptop is not working right anymore. its so stange how everything just fell apart after that one email.\",\n          \"we sent our children to their aunty house we gave the phone also to attend online class when ready to go home they kept phone in their bag but reached our home we check their bag we not found the phone so we made call evening time the phone was switchoff but night time the phone was ringing next days also the phone was ringing but rd day the phone was switchoff\"\n        ],\n        \"semantic_type\": \"\",\n        \"description\": \"\"\n      }\n    }\n  ]\n}"
            }
          },
          "metadata": {},
          "execution_count": 19
        }
      ],
      "source": [
        "df_train_cleaned.sample(10)"
      ]
    },
    {
      "cell_type": "markdown",
      "source": [
        "Language detection for stop word removal\n",
        "(on hold)"
      ],
      "metadata": {
        "id": "1QmrcO6dpTZI"
      }
    },
    {
      "cell_type": "code",
      "source": [
        "'''!pip install indic-nlp-library langdetect\n",
        "!pip install polyglot\n",
        "!pip install pyicu\n",
        "!pip install pycld2\n",
        "\n",
        "import pandas as pd\n",
        "import matplotlib.pyplot as plt\n",
        "from nltk.corpus import stopwords\n",
        "from nltk.stem import WordNetLemmatizer\n",
        "from indicnlp.tokenize import indic_tokenize\n",
        "from indicnlp.normalize import indic_normalize\n",
        "import re\n",
        "import nltk\n",
        "\n",
        "nltk.download('stopwords')\n",
        "nltk.download('wordnet')\n",
        "nltk.download('punkt')\n",
        "\n",
        "def preprocess_text(text):\n",
        "    if not isinstance(text, str):\n",
        "        return \"\"\n",
        "\n",
        "    # Normalize Indic text\n",
        "    if lang in [\"hi\", \"bn\", \"ta\", \"te\", \"mr\"]:\n",
        "        normalizer = indic_normalize.Normalizer()\n",
        "        text = normalizer.normalize(text)\n",
        "\n",
        "    # Remove special characters and digits\n",
        "    text = re.sub(r'[^\\w\\s]', '', text)\n",
        "    text = re.sub(r'\\d+', '', text)\n",
        "\n",
        "    # Tokenization\n",
        "    words = text.split() if lang == \"en\" else indic_tokenize.trivial_tokenize(text)\n",
        "\n",
        "    # Stopword removal and lemmatization\n",
        "    if lang == \"en\":\n",
        "        words = [lemmatizer.lemmatize(word.lower()) for word in words if word.lower() not in stop_words]\n",
        "    elif lang in [\"hi\", \"bn\", \"ta\", \"te\", \"mr\"]:\n",
        "        words = [word for word in words if word not in indic_stopwords]\n",
        "\n",
        "    return \" \".join(words)\n",
        "\n",
        "'''"
      ],
      "metadata": {
        "colab": {
          "base_uri": "https://localhost:8080/",
          "height": 243
        },
        "id": "aWbpHEFcpcgJ",
        "outputId": "5e23d892-0a6c-49a8-f53b-f0af5a6be2f0"
      },
      "execution_count": null,
      "outputs": [
        {
          "output_type": "execute_result",
          "data": {
            "text/plain": [
              "'!pip install indic-nlp-library langdetect\\n!pip install polyglot\\n!pip install pyicu\\n!pip install pycld2\\n\\nimport pandas as pd\\nimport matplotlib.pyplot as plt\\nfrom nltk.corpus import stopwords\\nfrom nltk.stem import WordNetLemmatizer\\nfrom indicnlp.tokenize import indic_tokenize\\nfrom indicnlp.normalize import indic_normalize\\nimport re\\nimport nltk\\n\\nnltk.download(\\'stopwords\\')\\nnltk.download(\\'wordnet\\')\\nnltk.download(\\'punkt\\')\\n\\ndef preprocess_text(text):\\n    if not isinstance(text, str):\\n        return \"\"\\n\\n    # Normalize Indic text\\n    if lang in [\"hi\", \"bn\", \"ta\", \"te\", \"mr\"]:\\n        normalizer = indic_normalize.Normalizer()\\n        text = normalizer.normalize(text)\\n\\n    # Remove special characters and digits\\n    text = re.sub(r\\'[^\\\\w\\\\s]\\', \\'\\', text)\\n    text = re.sub(r\\'\\\\d+\\', \\'\\', text)\\n\\n    # Tokenization\\n    words = text.split() if lang == \"en\" else indic_tokenize.trivial_tokenize(text)\\n\\n    # Stopword removal and lemmatization\\n    if lang == \"en\":\\n        words = [lemmatizer.lemmatize(word.lower()) for word in words if word.lower() not in stop_words]\\n    elif lang in [\"hi\", \"bn\", \"ta\", \"te\", \"mr\"]:\\n        words = [word for word in words if word not in indic_stopwords]\\n\\n    return \" \".join(words)\\n\\n'"
            ],
            "application/vnd.google.colaboratory.intrinsic+json": {
              "type": "string"
            }
          },
          "metadata": {},
          "execution_count": 20
        }
      ]
    },
    {
      "cell_type": "markdown",
      "metadata": {
        "id": "Ozu1UbYTJzSI"
      },
      "source": [
        "## **Stop-word removal, lemmatization, vectorization, tokenization, normalization**"
      ]
    },
    {
      "cell_type": "code",
      "execution_count": null,
      "metadata": {
        "id": "InI7CF1WJzSI",
        "colab": {
          "base_uri": "https://localhost:8080/"
        },
        "outputId": "42e4f22d-d7e2-40a0-b103-8a52a45cbeb0"
      },
      "outputs": [
        {
          "output_type": "stream",
          "name": "stdout",
          "text": [
            "\u001b[2K     \u001b[90m━━━━━━━━━━━━━━━━━━━━━━━━━━━━━━━━━━━━━━━━\u001b[0m \u001b[32m60.6/60.6 kB\u001b[0m \u001b[31m1.5 MB/s\u001b[0m eta \u001b[36m0:00:00\u001b[0m\n",
            "\u001b[2K     \u001b[90m━━━━━━━━━━━━━━━━━━━━━━━━━━━━━━━━━━━━━━━━\u001b[0m \u001b[32m622.8/622.8 kB\u001b[0m \u001b[31m11.8 MB/s\u001b[0m eta \u001b[36m0:00:00\u001b[0m\n",
            "\u001b[?25h  Preparing metadata (setup.py) ... \u001b[?25l\u001b[?25hdone\n",
            "\u001b[2K   \u001b[90m━━━━━━━━━━━━━━━━━━━━━━━━━━━━━━━━━━━━━━━━\u001b[0m \u001b[32m40.3/40.3 kB\u001b[0m \u001b[31m1.9 MB/s\u001b[0m eta \u001b[36m0:00:00\u001b[0m\n",
            "\u001b[2K   \u001b[90m━━━━━━━━━━━━━━━━━━━━━━━━━━━━━━━━━━━━━━━━\u001b[0m \u001b[32m347.8/347.8 kB\u001b[0m \u001b[31m12.1 MB/s\u001b[0m eta \u001b[36m0:00:00\u001b[0m\n",
            "\u001b[2K   \u001b[90m━━━━━━━━━━━━━━━━━━━━━━━━━━━━━━━━━━━━━━━━\u001b[0m \u001b[32m235.5/235.5 kB\u001b[0m \u001b[31m7.3 MB/s\u001b[0m eta \u001b[36m0:00:00\u001b[0m\n",
            "\u001b[2K   \u001b[90m━━━━━━━━━━━━━━━━━━━━━━━━━━━━━━━━━━━━━━━━\u001b[0m \u001b[32m7.7/7.7 MB\u001b[0m \u001b[31m30.8 MB/s\u001b[0m eta \u001b[36m0:00:00\u001b[0m\n",
            "\u001b[2K   \u001b[90m━━━━━━━━━━━━━━━━━━━━━━━━━━━━━━━━━━━━━━━━\u001b[0m \u001b[32m121.1/121.1 kB\u001b[0m \u001b[31m6.9 MB/s\u001b[0m eta \u001b[36m0:00:00\u001b[0m\n",
            "\u001b[?25h  Building wheel for autocorrect (setup.py) ... \u001b[?25l\u001b[?25hdone\n"
          ]
        }
      ],
      "source": [
        "! pip install nltk indic-nlp-library cleanlab unidecode autocorrect -q"
      ]
    },
    {
      "cell_type": "code",
      "execution_count": null,
      "metadata": {
        "id": "5qHHdpFfJzSI"
      },
      "outputs": [],
      "source": [
        "import re\n",
        "import nltk\n",
        "import unidecode\n",
        "from nltk.corpus import stopwords\n",
        "from nltk.tokenize import word_tokenize\n",
        "from nltk.stem import WordNetLemmatizer"
      ]
    },
    {
      "cell_type": "code",
      "source": [
        "nltk.download('punkt')\n",
        "nltk.download('stopwords')\n",
        "nltk.download('wordnet')\n",
        "nltk.download('punkt_tab')"
      ],
      "metadata": {
        "colab": {
          "base_uri": "https://localhost:8080/"
        },
        "id": "-BHr4xhBuES0",
        "outputId": "d3b35175-4356-4342-f5f2-1f1730084135"
      },
      "execution_count": null,
      "outputs": [
        {
          "output_type": "stream",
          "name": "stderr",
          "text": [
            "[nltk_data] Downloading package punkt to /root/nltk_data...\n",
            "[nltk_data]   Unzipping tokenizers/punkt.zip.\n",
            "[nltk_data] Downloading package stopwords to /root/nltk_data...\n",
            "[nltk_data]   Unzipping corpora/stopwords.zip.\n",
            "[nltk_data] Downloading package wordnet to /root/nltk_data...\n",
            "[nltk_data] Downloading package punkt_tab to /root/nltk_data...\n",
            "[nltk_data]   Unzipping tokenizers/punkt_tab.zip.\n"
          ]
        },
        {
          "output_type": "execute_result",
          "data": {
            "text/plain": [
              "True"
            ]
          },
          "metadata": {},
          "execution_count": 23
        }
      ]
    },
    {
      "cell_type": "code",
      "execution_count": null,
      "metadata": {
        "id": "YOzmJlXVJzSJ"
      },
      "outputs": [],
      "source": [
        "stop_words = set(stopwords.words('english'))\n",
        "indic_stopwords = set([\n",
        "    \"aur\", \"ki\", \"hai\", \"huyi\", \"ho\", \"mein\", \"ye\", \"ke\", \"jo\", \"saath\", \"ko\",\n",
        "    \"bhi\", \"tatha\", \"par\", \"se\", \"kisi\", \"un\", \"apna\", \"tum\", \"main\", \"aap\", \"inhe\",\n",
        "    \"in\", \"abhi\", \"ab\", \"woh\", \"hum\", \"unka\", \"is\", \"us\", \"kintu\", \"athva\", \"nahin\",\n",
        "    \"kar\",\"firto\",\"fir\",\"kese\",\"esse\",\"ka\",\"kabhi\",\"karna\"\n",
        "])\n",
        "stop_words=stop_words.union(indic_stopwords)"
      ]
    },
    {
      "cell_type": "code",
      "execution_count": null,
      "metadata": {
        "id": "FGinnM2WJzSJ"
      },
      "outputs": [],
      "source": [
        "lemmatizer = WordNetLemmatizer()"
      ]
    },
    {
      "cell_type": "code",
      "execution_count": null,
      "metadata": {
        "id": "xHS9I_3qJzSJ"
      },
      "outputs": [],
      "source": [
        "def preprocess_text(text):\n",
        "    # Lowercasing\n",
        "    text = text.lower()\n",
        "\n",
        "    # Remove special characters and punctuation\n",
        "    text = re.sub(r'[^a-zA-Z0-9\\s]', '', text)\n",
        "\n",
        "    # Remove extra whitespaces\n",
        "    text = re.sub(r'\\s+', ' ', text).strip()\n",
        "\n",
        "    # Normalize Unicode characters\n",
        "    text = unidecode.unidecode(text)\n",
        "\n",
        "    # Tokenization\n",
        "    words = word_tokenize(text)\n",
        "\n",
        "    # Lemmatization\n",
        "    words = [lemmatizer.lemmatize(word) for word in words]\n",
        "\n",
        "    # Removing stopwords\n",
        "    words = [word for word in words if word not in stop_words]\n",
        "\n",
        "    return ' '.join(words)"
      ]
    },
    {
      "cell_type": "code",
      "source": [
        "# Apply preprocessing\n",
        "df_train_cleaned[\"crimeaditionalinfo\"] = df_train_cleaned.apply(lambda row: preprocess_text(row[\"crimeaditionalinfo\"]), axis=1)\n"
      ],
      "metadata": {
        "id": "Lpzuv7bFtKtO"
      },
      "execution_count": null,
      "outputs": []
    },
    {
      "cell_type": "markdown",
      "source": [
        "### Word Embeddings"
      ],
      "metadata": {
        "id": "VFhEdE1Gu01f"
      }
    },
    {
      "cell_type": "code",
      "source": [
        "!pip install tqdm -q\n",
        "from tqdm.auto import tqdm  # Import tqdm\n",
        "import pandas as pd\n",
        "\n",
        "tqdm.pandas()  # Integrate tqdm with pandas\n",
        "\n",
        "sentences = df_train_cleaned['crimeaditionalinfo']\n",
        "train_sentences = list(sentences.progress_apply(str.split).values) # Now progress_apply will work"
      ],
      "metadata": {
        "colab": {
          "base_uri": "https://localhost:8080/",
          "height": 49,
          "referenced_widgets": [
            "ee29ae87e17c4f5f994b3ee899a711f8",
            "0c15d8e395254415b28113828ff5f7b3",
            "51c2df9e57c24ff798e0f253f040ca6e",
            "cc764208282a48d6ba650fa3543fceca",
            "56c4769fde6a47fe80f80441c523288f",
            "0d0bf1a400d446a995f3d7ee61c475f4",
            "fcb3d94a7bf14d119447fed75eb9aef7",
            "b5d34b77a16e4ce7bb11b596f07a6881",
            "c58c4376e3d54616b57ade7d65bd03c4",
            "cedf65913e2c401b967f9da599cc29fd",
            "a1e81187029c41cfa775d00ad7cdafd5"
          ]
        },
        "id": "HVyYOAEBu6iI",
        "outputId": "8638552f-4729-41f3-a702-8b8d05a477b4"
      },
      "execution_count": null,
      "outputs": [
        {
          "output_type": "display_data",
          "data": {
            "text/plain": [
              "  0%|          | 0/103130 [00:00<?, ?it/s]"
            ],
            "application/vnd.jupyter.widget-view+json": {
              "version_major": 2,
              "version_minor": 0,
              "model_id": "ee29ae87e17c4f5f994b3ee899a711f8"
            }
          },
          "metadata": {}
        }
      ]
    },
    {
      "cell_type": "code",
      "source": [
        "import numpy as np\n",
        "import pandas as pd\n",
        "import os\n",
        "import re\n",
        "import time\n",
        "\n",
        "from gensim.models import Word2Vec\n",
        "from tqdm import tqdm\n",
        "\n",
        "tqdm.pandas()"
      ],
      "metadata": {
        "id": "p8RhiIuA3GkG"
      },
      "execution_count": null,
      "outputs": []
    },
    {
      "cell_type": "code",
      "source": [
        "start_time = time.time()\n",
        "\n",
        "model = Word2Vec(sentences=train_sentences,\n",
        "                 sg=1,\n",
        "                 vector_size=100,\n",
        "                 workers=4)\n",
        "\n",
        "print(f'Time taken : {(time.time() - start_time) / 60:.2f} mins')"
      ],
      "metadata": {
        "colab": {
          "base_uri": "https://localhost:8080/"
        },
        "id": "smGI-LJvu6lA",
        "outputId": "b1162045-a961-4f53-c341-33bc1b6533c9"
      },
      "execution_count": null,
      "outputs": [
        {
          "output_type": "stream",
          "name": "stdout",
          "text": [
            "Time taken : 2.31 mins\n"
          ]
        }
      ]
    },
    {
      "cell_type": "code",
      "source": [
        "len(model.wv.vocab.keys())"
      ],
      "metadata": {
        "colab": {
          "base_uri": "https://localhost:8080/",
          "height": 384
        },
        "id": "z0_RnDI83ACZ",
        "outputId": "b322dbdc-29ae-40b5-a0dd-b73930bab544"
      },
      "execution_count": null,
      "outputs": [
        {
          "output_type": "error",
          "ename": "AttributeError",
          "evalue": "The vocab attribute was removed from KeyedVector in Gensim 4.0.0.\nUse KeyedVector's .key_to_index dict, .index_to_key list, and methods .get_vecattr(key, attr) and .set_vecattr(key, attr, new_val) instead.\nSee https://github.com/RaRe-Technologies/gensim/wiki/Migrating-from-Gensim-3.x-to-4",
          "traceback": [
            "\u001b[0;31m---------------------------------------------------------------------------\u001b[0m",
            "\u001b[0;31mAttributeError\u001b[0m                            Traceback (most recent call last)",
            "\u001b[0;32m<ipython-input-36-85a2b3a75812>\u001b[0m in \u001b[0;36m<cell line: 0>\u001b[0;34m()\u001b[0m\n\u001b[0;32m----> 1\u001b[0;31m \u001b[0mlen\u001b[0m\u001b[0;34m(\u001b[0m\u001b[0mmodel\u001b[0m\u001b[0;34m.\u001b[0m\u001b[0mwv\u001b[0m\u001b[0;34m.\u001b[0m\u001b[0mvocab\u001b[0m\u001b[0;34m.\u001b[0m\u001b[0mkeys\u001b[0m\u001b[0;34m(\u001b[0m\u001b[0;34m)\u001b[0m\u001b[0;34m)\u001b[0m\u001b[0;34m\u001b[0m\u001b[0;34m\u001b[0m\u001b[0m\n\u001b[0m",
            "\u001b[0;32m/usr/local/lib/python3.11/dist-packages/gensim/models/keyedvectors.py\u001b[0m in \u001b[0;36mvocab\u001b[0;34m(self)\u001b[0m\n\u001b[1;32m    732\u001b[0m     \u001b[0;34m@\u001b[0m\u001b[0mproperty\u001b[0m\u001b[0;34m\u001b[0m\u001b[0;34m\u001b[0m\u001b[0m\n\u001b[1;32m    733\u001b[0m     \u001b[0;32mdef\u001b[0m \u001b[0mvocab\u001b[0m\u001b[0;34m(\u001b[0m\u001b[0mself\u001b[0m\u001b[0;34m)\u001b[0m\u001b[0;34m:\u001b[0m\u001b[0;34m\u001b[0m\u001b[0;34m\u001b[0m\u001b[0m\n\u001b[0;32m--> 734\u001b[0;31m         raise AttributeError(\n\u001b[0m\u001b[1;32m    735\u001b[0m             \u001b[0;34m\"The vocab attribute was removed from KeyedVector in Gensim 4.0.0.\\n\"\u001b[0m\u001b[0;34m\u001b[0m\u001b[0;34m\u001b[0m\u001b[0m\n\u001b[1;32m    736\u001b[0m             \u001b[0;34m\"Use KeyedVector's .key_to_index dict, .index_to_key list, and methods \"\u001b[0m\u001b[0;34m\u001b[0m\u001b[0;34m\u001b[0m\u001b[0m\n",
            "\u001b[0;31mAttributeError\u001b[0m: The vocab attribute was removed from KeyedVector in Gensim 4.0.0.\nUse KeyedVector's .key_to_index dict, .index_to_key list, and methods .get_vecattr(key, attr) and .set_vecattr(key, attr, new_val) instead.\nSee https://github.com/RaRe-Technologies/gensim/wiki/Migrating-from-Gensim-3.x-to-4"
          ]
        }
      ]
    },
    {
      "cell_type": "code",
      "source": [
        "model.wv.vector_size"
      ],
      "metadata": {
        "id": "QDfw-aFD3sqZ"
      },
      "execution_count": null,
      "outputs": []
    },
    {
      "cell_type": "code",
      "source": [
        "model.wv.get_vector('iphone')"
      ],
      "metadata": {
        "id": "HPFIE90j3wuz"
      },
      "execution_count": null,
      "outputs": []
    },
    {
      "cell_type": "markdown",
      "source": [
        "## Bakwas"
      ],
      "metadata": {
        "id": "3RdDtwBv3e7A"
      }
    },
    {
      "cell_type": "code",
      "execution_count": null,
      "metadata": {
        "id": "tIpp5hTsJzSJ"
      },
      "outputs": [],
      "source": [
        "from sklearn.feature_extraction.text import TfidfVectorizer\n",
        "import numpy as np\n",
        "import cleanlab\n",
        "from cleanlab.classification import CleanLearning\n",
        "from sklearn.linear_model import LogisticRegression"
      ]
    },
    {
      "cell_type": "code",
      "execution_count": null,
      "metadata": {
        "id": "84qU2MuaJzSJ"
      },
      "outputs": [],
      "source": [
        "# Vectorize text using TF-IDF\n",
        "vectorizer = TfidfVectorizer()\n",
        "X = vectorizer.fit_transform(df_train_cleaned[\"crimeaditionalinfo\"])"
      ]
    },
    {
      "cell_type": "code",
      "source": [
        "'''\n",
        "#Dont run unless you really have to check\n",
        "tf_idf = pd.DataFrame(data = X.toarray(), columns=vectorizer.get_feature_names_out())\n",
        "\n",
        "final_df = tf_idf\n",
        "\n",
        "print(\"{} rows\".format(final_df.shape[0]))\n",
        "final_df.T.nlargest(5, 0)\n",
        "'''"
      ],
      "metadata": {
        "colab": {
          "base_uri": "https://localhost:8080/",
          "height": 70
        },
        "id": "PaczHcMmvOD8",
        "outputId": "5f25d926-25ae-4cdb-be74-e5ce004da15f"
      },
      "execution_count": null,
      "outputs": [
        {
          "output_type": "execute_result",
          "data": {
            "text/plain": [
              "'\\n#Dont run unless you really have to check\\ntf_idf = pd.DataFrame(data = X.toarray(), columns=vectorizer.get_feature_names_out())\\n\\nfinal_df = tf_idf\\n\\nprint(\"{} rows\".format(final_df.shape[0]))\\nfinal_df.T.nlargest(5, 0)\\n'"
            ],
            "application/vnd.google.colaboratory.intrinsic+json": {
              "type": "string"
            }
          },
          "metadata": {},
          "execution_count": 30
        }
      ]
    },
    {
      "cell_type": "markdown",
      "source": [
        "## NN with LSTM approach.... did not use embeddings"
      ],
      "metadata": {
        "id": "M7MVb5a3IpQC"
      }
    },
    {
      "cell_type": "code",
      "source": [
        "import pandas as pd\n",
        "import numpy as np\n",
        "import tensorflow as tf\n",
        "from tensorflow.keras.preprocessing.text import Tokenizer\n",
        "from tensorflow.keras.preprocessing.sequence import pad_sequences\n",
        "from tensorflow.keras.models import Sequential,Model\n",
        "from tensorflow.keras.layers import Embedding, LSTM, Dense, Bidirectional, Input, RepeatVector, TimeDistributed\n",
        "from sklearn.preprocessing import LabelEncoder\n",
        "from sklearn.model_selection import train_test_split\n",
        "from tensorflow.keras.utils import to_categorical\n",
        "import matplotlib.pyplot as plt\n",
        "from sklearn.ensemble import IsolationForest\n",
        "from imblearn.over_sampling import SMOTE  # Import SMOTE"
      ],
      "metadata": {
        "id": "ogXQktamqUbr"
      },
      "execution_count": null,
      "outputs": []
    },
    {
      "cell_type": "code",
      "source": [
        "df2=df_train_cleaned.copy()"
      ],
      "metadata": {
        "id": "dYy5SSEwSZ1Q"
      },
      "execution_count": null,
      "outputs": []
    },
    {
      "cell_type": "code",
      "source": [
        "# Load Pretrained GloVe Embeddings (100D)\n",
        "embedding_index = {}\n",
        "with open(\"/content/glove.6B.100d.txt\", encoding=\"utf-8\") as f:  # Replace with actual GloVe file\n",
        "    for line in f:\n",
        "        values = line.split()\n",
        "        word = values[0]\n",
        "        coefs = np.asarray(values[1:], dtype=\"float32\")\n",
        "        embedding_index[word] = coefs"
      ],
      "metadata": {
        "id": "JJ1gBk9KSoBd"
      },
      "execution_count": null,
      "outputs": []
    },
    {
      "cell_type": "code",
      "source": [
        "# Tokenization & Padding\n",
        "tokenizer = Tokenizer(num_words=5000, oov_token=\"<OOV>\")\n",
        "tokenizer.fit_on_texts(df2['crimeaditionalinfo'])\n",
        "word_index = tokenizer.word_index\n",
        "sequences = tokenizer.texts_to_sequences(df2['crimeaditionalinfo'])\n",
        "padded_sequences = pad_sequences(sequences, maxlen=200, padding='post')\n"
      ],
      "metadata": {
        "id": "QVuyQOcASpRV"
      },
      "execution_count": null,
      "outputs": []
    },
    {
      "cell_type": "code",
      "source": [
        "# Prepare Embedding Matrix\n",
        "embedding_dim = 100  # Must match GloVe vector dimension\n",
        "embedding_matrix = np.zeros((5000, embedding_dim))\n",
        "for word, i in word_index.items():\n",
        "    if i < 5000:\n",
        "        embedding_vector = embedding_index.get(word)\n",
        "        if embedding_vector is not None:\n",
        "            embedding_matrix[i] = embedding_vector"
      ],
      "metadata": {
        "id": "iZlVEW16Stnf"
      },
      "execution_count": null,
      "outputs": []
    },
    {
      "cell_type": "code",
      "source": [
        "# Encode labels\n",
        "label_encoder = LabelEncoder()\n",
        "df2['category_encoded'] = label_encoder.fit_transform(df2['category'])\n"
      ],
      "metadata": {
        "id": "k2qnb4-GSy4t"
      },
      "execution_count": null,
      "outputs": []
    },
    {
      "cell_type": "code",
      "source": [
        "# Train-Test Split\n",
        "X_train, X_test, y_train, y_test = train_test_split(\n",
        "    padded_sequences, df2['category_encoded'], test_size=0.2, random_state=42\n",
        ")"
      ],
      "metadata": {
        "id": "n3OCDe3-Sgu9"
      },
      "execution_count": null,
      "outputs": []
    },
    {
      "cell_type": "code",
      "source": [
        "# Apply SMOTE on Labels\n",
        "smote = SMOTE(random_state=42, k_neighbors=min(3, len(np.unique(y_train))))\n",
        "X_train_resampled, y_train_resampled = smote.fit_resample(X_train, y_train)\n",
        "\n",
        "# Convert X_train_resampled back to sequences (Needed if using Tokenizer on text)\n",
        "X_train_resampled = pad_sequences(X_train_resampled, maxlen=200, padding='post')\n"
      ],
      "metadata": {
        "id": "NC_c95jlNl6N"
      },
      "execution_count": null,
      "outputs": []
    },
    {
      "cell_type": "code",
      "source": [
        "# Build LSTM model\n",
        "model = Sequential([\n",
        "    Embedding(5000, 64, input_length=200),\n",
        "    Bidirectional(LSTM(64, return_sequences=True)),\n",
        "    Bidirectional(LSTM(32)),\n",
        "    Dense(32, activation='relu'),\n",
        "    Dense(len(label_encoder.classes_), activation='softmax')  # Output layer for classification\n",
        "])\n"
      ],
      "metadata": {
        "colab": {
          "base_uri": "https://localhost:8080/"
        },
        "id": "OeHP9A0A5wkp",
        "outputId": "69ddead6-e9f7-4a46-8210-69825eaf5fbc"
      },
      "execution_count": null,
      "outputs": [
        {
          "output_type": "stream",
          "name": "stderr",
          "text": [
            "/usr/local/lib/python3.11/dist-packages/keras/src/layers/core/embedding.py:90: UserWarning: Argument `input_length` is deprecated. Just remove it.\n",
            "  warnings.warn(\n"
          ]
        }
      ]
    },
    {
      "cell_type": "code",
      "source": [
        "model.compile(loss='sparse_categorical_crossentropy', optimizer='adam', metrics=['accuracy'])"
      ],
      "metadata": {
        "id": "O-vl0gCI52XK"
      },
      "execution_count": null,
      "outputs": []
    },
    {
      "cell_type": "code",
      "source": [
        "# Train the model\n",
        "history=model.fit(X_train_resampled, y_train_resampled, epochs=5, validation_data=(X_test, y_test), batch_size=32)\n"
      ],
      "metadata": {
        "colab": {
          "base_uri": "https://localhost:8080/"
        },
        "id": "UXr2zTvY59Ce",
        "outputId": "ed9e430f-9a95-412f-e226-73477c3d0960"
      },
      "execution_count": null,
      "outputs": [
        {
          "output_type": "stream",
          "name": "stdout",
          "text": [
            "Epoch 1/5\n",
            "\u001b[1m19908/22783\u001b[0m \u001b[32m━━━━━━━━━━━━━━━━━\u001b[0m\u001b[37m━━━\u001b[0m \u001b[1m18:57\u001b[0m 396ms/step - accuracy: 0.3150 - loss: 1.9808"
          ]
        }
      ]
    },
    {
      "cell_type": "code",
      "source": [
        "# Predict category\n",
        "y_pred = model.predict(X_test)\n",
        "y_pred_labels = np.argmax(y_pred, axis=1)\n",
        "\n",
        "# Check for mislabeled data\n",
        "df_test = df2.iloc[y_test.index].copy() # Use y_test.index to access the correct indices\n",
        "df_test['predicted_category'] = label_encoder.inverse_transform(y_pred_labels)\n",
        "df_test['mislabel_flag_lstm'] = df_test['category'] != df_test['predicted_category']\n"
      ],
      "metadata": {
        "id": "whB_HEjW6GvK"
      },
      "execution_count": null,
      "outputs": []
    },
    {
      "cell_type": "code",
      "source": [
        "# Print potential mislabeled cases\n",
        "mislabeled_cases = df_test[df_test['mislabel_flag_lstm']]\n",
        "# Count the number of mislabeled cases\n",
        "mislabeled_count = df_test['mislabel_flag_lstm'].sum()\n",
        "\n",
        "# Print the count\n",
        "print(f\"Number of mislabeled cases: {mislabeled_count}\")"
      ],
      "metadata": {
        "id": "0raLGcx7xfSp"
      },
      "execution_count": null,
      "outputs": []
    },
    {
      "cell_type": "code",
      "source": [
        "# Save DataFrame as CSV\n",
        "df_test.to_csv('relabelled_data_lstm_withsmote.csv', index=False)"
      ],
      "metadata": {
        "id": "Z86vjgdKoQw7"
      },
      "execution_count": null,
      "outputs": []
    },
    {
      "cell_type": "code",
      "source": [
        "from sklearn.metrics import accuracy_score, precision_score, recall_score, f1_score\n",
        "import matplotlib.pyplot as plt"
      ],
      "metadata": {
        "id": "3fk_zv7Wvw5E"
      },
      "execution_count": null,
      "outputs": []
    },
    {
      "cell_type": "code",
      "source": [
        "# Compute Accuracy, Precision, Recall, and F1-Score\n",
        "accuracy = accuracy_score(y_test, y_pred_labels)\n",
        "precision = precision_score(y_test, y_pred_labels, average='weighted')\n",
        "recall = recall_score(y_test, y_pred_labels, average='weighted')\n",
        "f1 = f1_score(y_test, y_pred_labels, average='weighted')\n",
        "\n",
        "# Print Metrics\n",
        "print(f\"Accuracy: {accuracy:.4f}\")\n",
        "print(f\"Precision: {precision:.4f}\")\n",
        "print(f\"Recall: {recall:.4f}\")\n",
        "print(f\"F1 Score: {f1:.4f}\")"
      ],
      "metadata": {
        "id": "HaNEmqLAwjhg"
      },
      "execution_count": null,
      "outputs": []
    },
    {
      "cell_type": "code",
      "source": [
        "# Plot Loss\n",
        "plt.figure(figsize=(8, 5))\n",
        "plt.plot(history.history['loss'], label='Training Loss')\n",
        "plt.plot(history.history['val_loss'], label='Validation Loss')\n",
        "plt.xlabel(\"Epochs\")\n",
        "plt.ylabel(\"Loss\")\n",
        "plt.title(\"Training & Validation Loss Over Epochs\")\n",
        "plt.legend()\n",
        "plt.show()"
      ],
      "metadata": {
        "id": "S0_bCEOAwq0I"
      },
      "execution_count": null,
      "outputs": []
    },
    {
      "cell_type": "code",
      "source": [],
      "metadata": {
        "id": "qD4r6PWkMeFF"
      },
      "execution_count": null,
      "outputs": []
    }
  ],
  "metadata": {
    "kernelspec": {
      "display_name": "Python 3",
      "language": "python",
      "name": "python3"
    },
    "language_info": {
      "codemirror_mode": {
        "name": "ipython",
        "version": 3
      },
      "file_extension": ".py",
      "mimetype": "text/x-python",
      "name": "python",
      "nbconvert_exporter": "python",
      "pygments_lexer": "ipython3",
      "version": "3.11.9"
    },
    "colab": {
      "provenance": []
    },
    "widgets": {
      "application/vnd.jupyter.widget-state+json": {
        "ee29ae87e17c4f5f994b3ee899a711f8": {
          "model_module": "@jupyter-widgets/controls",
          "model_name": "HBoxModel",
          "model_module_version": "1.5.0",
          "state": {
            "_dom_classes": [],
            "_model_module": "@jupyter-widgets/controls",
            "_model_module_version": "1.5.0",
            "_model_name": "HBoxModel",
            "_view_count": null,
            "_view_module": "@jupyter-widgets/controls",
            "_view_module_version": "1.5.0",
            "_view_name": "HBoxView",
            "box_style": "",
            "children": [
              "IPY_MODEL_0c15d8e395254415b28113828ff5f7b3",
              "IPY_MODEL_51c2df9e57c24ff798e0f253f040ca6e",
              "IPY_MODEL_cc764208282a48d6ba650fa3543fceca"
            ],
            "layout": "IPY_MODEL_56c4769fde6a47fe80f80441c523288f"
          }
        },
        "0c15d8e395254415b28113828ff5f7b3": {
          "model_module": "@jupyter-widgets/controls",
          "model_name": "HTMLModel",
          "model_module_version": "1.5.0",
          "state": {
            "_dom_classes": [],
            "_model_module": "@jupyter-widgets/controls",
            "_model_module_version": "1.5.0",
            "_model_name": "HTMLModel",
            "_view_count": null,
            "_view_module": "@jupyter-widgets/controls",
            "_view_module_version": "1.5.0",
            "_view_name": "HTMLView",
            "description": "",
            "description_tooltip": null,
            "layout": "IPY_MODEL_0d0bf1a400d446a995f3d7ee61c475f4",
            "placeholder": "​",
            "style": "IPY_MODEL_fcb3d94a7bf14d119447fed75eb9aef7",
            "value": "100%"
          }
        },
        "51c2df9e57c24ff798e0f253f040ca6e": {
          "model_module": "@jupyter-widgets/controls",
          "model_name": "FloatProgressModel",
          "model_module_version": "1.5.0",
          "state": {
            "_dom_classes": [],
            "_model_module": "@jupyter-widgets/controls",
            "_model_module_version": "1.5.0",
            "_model_name": "FloatProgressModel",
            "_view_count": null,
            "_view_module": "@jupyter-widgets/controls",
            "_view_module_version": "1.5.0",
            "_view_name": "ProgressView",
            "bar_style": "success",
            "description": "",
            "description_tooltip": null,
            "layout": "IPY_MODEL_b5d34b77a16e4ce7bb11b596f07a6881",
            "max": 103130,
            "min": 0,
            "orientation": "horizontal",
            "style": "IPY_MODEL_c58c4376e3d54616b57ade7d65bd03c4",
            "value": 103130
          }
        },
        "cc764208282a48d6ba650fa3543fceca": {
          "model_module": "@jupyter-widgets/controls",
          "model_name": "HTMLModel",
          "model_module_version": "1.5.0",
          "state": {
            "_dom_classes": [],
            "_model_module": "@jupyter-widgets/controls",
            "_model_module_version": "1.5.0",
            "_model_name": "HTMLModel",
            "_view_count": null,
            "_view_module": "@jupyter-widgets/controls",
            "_view_module_version": "1.5.0",
            "_view_name": "HTMLView",
            "description": "",
            "description_tooltip": null,
            "layout": "IPY_MODEL_cedf65913e2c401b967f9da599cc29fd",
            "placeholder": "​",
            "style": "IPY_MODEL_a1e81187029c41cfa775d00ad7cdafd5",
            "value": " 103130/103130 [00:01&lt;00:00, 111057.99it/s]"
          }
        },
        "56c4769fde6a47fe80f80441c523288f": {
          "model_module": "@jupyter-widgets/base",
          "model_name": "LayoutModel",
          "model_module_version": "1.2.0",
          "state": {
            "_model_module": "@jupyter-widgets/base",
            "_model_module_version": "1.2.0",
            "_model_name": "LayoutModel",
            "_view_count": null,
            "_view_module": "@jupyter-widgets/base",
            "_view_module_version": "1.2.0",
            "_view_name": "LayoutView",
            "align_content": null,
            "align_items": null,
            "align_self": null,
            "border": null,
            "bottom": null,
            "display": null,
            "flex": null,
            "flex_flow": null,
            "grid_area": null,
            "grid_auto_columns": null,
            "grid_auto_flow": null,
            "grid_auto_rows": null,
            "grid_column": null,
            "grid_gap": null,
            "grid_row": null,
            "grid_template_areas": null,
            "grid_template_columns": null,
            "grid_template_rows": null,
            "height": null,
            "justify_content": null,
            "justify_items": null,
            "left": null,
            "margin": null,
            "max_height": null,
            "max_width": null,
            "min_height": null,
            "min_width": null,
            "object_fit": null,
            "object_position": null,
            "order": null,
            "overflow": null,
            "overflow_x": null,
            "overflow_y": null,
            "padding": null,
            "right": null,
            "top": null,
            "visibility": null,
            "width": null
          }
        },
        "0d0bf1a400d446a995f3d7ee61c475f4": {
          "model_module": "@jupyter-widgets/base",
          "model_name": "LayoutModel",
          "model_module_version": "1.2.0",
          "state": {
            "_model_module": "@jupyter-widgets/base",
            "_model_module_version": "1.2.0",
            "_model_name": "LayoutModel",
            "_view_count": null,
            "_view_module": "@jupyter-widgets/base",
            "_view_module_version": "1.2.0",
            "_view_name": "LayoutView",
            "align_content": null,
            "align_items": null,
            "align_self": null,
            "border": null,
            "bottom": null,
            "display": null,
            "flex": null,
            "flex_flow": null,
            "grid_area": null,
            "grid_auto_columns": null,
            "grid_auto_flow": null,
            "grid_auto_rows": null,
            "grid_column": null,
            "grid_gap": null,
            "grid_row": null,
            "grid_template_areas": null,
            "grid_template_columns": null,
            "grid_template_rows": null,
            "height": null,
            "justify_content": null,
            "justify_items": null,
            "left": null,
            "margin": null,
            "max_height": null,
            "max_width": null,
            "min_height": null,
            "min_width": null,
            "object_fit": null,
            "object_position": null,
            "order": null,
            "overflow": null,
            "overflow_x": null,
            "overflow_y": null,
            "padding": null,
            "right": null,
            "top": null,
            "visibility": null,
            "width": null
          }
        },
        "fcb3d94a7bf14d119447fed75eb9aef7": {
          "model_module": "@jupyter-widgets/controls",
          "model_name": "DescriptionStyleModel",
          "model_module_version": "1.5.0",
          "state": {
            "_model_module": "@jupyter-widgets/controls",
            "_model_module_version": "1.5.0",
            "_model_name": "DescriptionStyleModel",
            "_view_count": null,
            "_view_module": "@jupyter-widgets/base",
            "_view_module_version": "1.2.0",
            "_view_name": "StyleView",
            "description_width": ""
          }
        },
        "b5d34b77a16e4ce7bb11b596f07a6881": {
          "model_module": "@jupyter-widgets/base",
          "model_name": "LayoutModel",
          "model_module_version": "1.2.0",
          "state": {
            "_model_module": "@jupyter-widgets/base",
            "_model_module_version": "1.2.0",
            "_model_name": "LayoutModel",
            "_view_count": null,
            "_view_module": "@jupyter-widgets/base",
            "_view_module_version": "1.2.0",
            "_view_name": "LayoutView",
            "align_content": null,
            "align_items": null,
            "align_self": null,
            "border": null,
            "bottom": null,
            "display": null,
            "flex": null,
            "flex_flow": null,
            "grid_area": null,
            "grid_auto_columns": null,
            "grid_auto_flow": null,
            "grid_auto_rows": null,
            "grid_column": null,
            "grid_gap": null,
            "grid_row": null,
            "grid_template_areas": null,
            "grid_template_columns": null,
            "grid_template_rows": null,
            "height": null,
            "justify_content": null,
            "justify_items": null,
            "left": null,
            "margin": null,
            "max_height": null,
            "max_width": null,
            "min_height": null,
            "min_width": null,
            "object_fit": null,
            "object_position": null,
            "order": null,
            "overflow": null,
            "overflow_x": null,
            "overflow_y": null,
            "padding": null,
            "right": null,
            "top": null,
            "visibility": null,
            "width": null
          }
        },
        "c58c4376e3d54616b57ade7d65bd03c4": {
          "model_module": "@jupyter-widgets/controls",
          "model_name": "ProgressStyleModel",
          "model_module_version": "1.5.0",
          "state": {
            "_model_module": "@jupyter-widgets/controls",
            "_model_module_version": "1.5.0",
            "_model_name": "ProgressStyleModel",
            "_view_count": null,
            "_view_module": "@jupyter-widgets/base",
            "_view_module_version": "1.2.0",
            "_view_name": "StyleView",
            "bar_color": null,
            "description_width": ""
          }
        },
        "cedf65913e2c401b967f9da599cc29fd": {
          "model_module": "@jupyter-widgets/base",
          "model_name": "LayoutModel",
          "model_module_version": "1.2.0",
          "state": {
            "_model_module": "@jupyter-widgets/base",
            "_model_module_version": "1.2.0",
            "_model_name": "LayoutModel",
            "_view_count": null,
            "_view_module": "@jupyter-widgets/base",
            "_view_module_version": "1.2.0",
            "_view_name": "LayoutView",
            "align_content": null,
            "align_items": null,
            "align_self": null,
            "border": null,
            "bottom": null,
            "display": null,
            "flex": null,
            "flex_flow": null,
            "grid_area": null,
            "grid_auto_columns": null,
            "grid_auto_flow": null,
            "grid_auto_rows": null,
            "grid_column": null,
            "grid_gap": null,
            "grid_row": null,
            "grid_template_areas": null,
            "grid_template_columns": null,
            "grid_template_rows": null,
            "height": null,
            "justify_content": null,
            "justify_items": null,
            "left": null,
            "margin": null,
            "max_height": null,
            "max_width": null,
            "min_height": null,
            "min_width": null,
            "object_fit": null,
            "object_position": null,
            "order": null,
            "overflow": null,
            "overflow_x": null,
            "overflow_y": null,
            "padding": null,
            "right": null,
            "top": null,
            "visibility": null,
            "width": null
          }
        },
        "a1e81187029c41cfa775d00ad7cdafd5": {
          "model_module": "@jupyter-widgets/controls",
          "model_name": "DescriptionStyleModel",
          "model_module_version": "1.5.0",
          "state": {
            "_model_module": "@jupyter-widgets/controls",
            "_model_module_version": "1.5.0",
            "_model_name": "DescriptionStyleModel",
            "_view_count": null,
            "_view_module": "@jupyter-widgets/base",
            "_view_module_version": "1.2.0",
            "_view_name": "StyleView",
            "description_width": ""
          }
        }
      }
    }
  },
  "nbformat": 4,
  "nbformat_minor": 0
}