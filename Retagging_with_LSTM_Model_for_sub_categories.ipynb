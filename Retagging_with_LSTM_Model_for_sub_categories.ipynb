{
  "cells": [
    {
      "cell_type": "code",
      "execution_count": null,
      "metadata": {
        "id": "ZITSzTR6JzSB"
      },
      "outputs": [],
      "source": [
        "import pandas as pd\n",
        "df_train=pd.read_csv(\"women_and_crime_train.csv\")"
      ]
    },
    {
      "cell_type": "code",
      "execution_count": null,
      "metadata": {
        "id": "_rwblhZ8JzSD",
        "outputId": "0ce956fb-adc0-42af-f314-5368408d2f32",
        "colab": {
          "base_uri": "https://localhost:8080/",
          "height": 206
        }
      },
      "outputs": [
        {
          "output_type": "execute_result",
          "data": {
            "text/plain": [
              "                                category                       sub_category  \\\n",
              "0  Online and Social Media Related Crime  Cyber Bullying  Stalking  Sexting   \n",
              "1                 Online Financial Fraud                  Fraud CallVishing   \n",
              "2               Online Gambling  Betting           Online Gambling  Betting   \n",
              "3  Online and Social Media Related Crime                   Online Job Fraud   \n",
              "4                 Online Financial Fraud                  Fraud CallVishing   \n",
              "\n",
              "                                  crimeaditionalinfo  \n",
              "0  I had continue received random calls and abusi...  \n",
              "1  The above fraudster is continuously messaging ...  \n",
              "2  He is acting like a police and demanding for m...  \n",
              "3  In apna Job I have applied for job interview f...  \n",
              "4  I received a call from lady stating that she w...  "
            ],
            "text/html": [
              "\n",
              "  <div id=\"df-a875ef53-5be4-43e4-be89-e65e299ba92d\" class=\"colab-df-container\">\n",
              "    <div>\n",
              "<style scoped>\n",
              "    .dataframe tbody tr th:only-of-type {\n",
              "        vertical-align: middle;\n",
              "    }\n",
              "\n",
              "    .dataframe tbody tr th {\n",
              "        vertical-align: top;\n",
              "    }\n",
              "\n",
              "    .dataframe thead th {\n",
              "        text-align: right;\n",
              "    }\n",
              "</style>\n",
              "<table border=\"1\" class=\"dataframe\">\n",
              "  <thead>\n",
              "    <tr style=\"text-align: right;\">\n",
              "      <th></th>\n",
              "      <th>category</th>\n",
              "      <th>sub_category</th>\n",
              "      <th>crimeaditionalinfo</th>\n",
              "    </tr>\n",
              "  </thead>\n",
              "  <tbody>\n",
              "    <tr>\n",
              "      <th>0</th>\n",
              "      <td>Online and Social Media Related Crime</td>\n",
              "      <td>Cyber Bullying  Stalking  Sexting</td>\n",
              "      <td>I had continue received random calls and abusi...</td>\n",
              "    </tr>\n",
              "    <tr>\n",
              "      <th>1</th>\n",
              "      <td>Online Financial Fraud</td>\n",
              "      <td>Fraud CallVishing</td>\n",
              "      <td>The above fraudster is continuously messaging ...</td>\n",
              "    </tr>\n",
              "    <tr>\n",
              "      <th>2</th>\n",
              "      <td>Online Gambling  Betting</td>\n",
              "      <td>Online Gambling  Betting</td>\n",
              "      <td>He is acting like a police and demanding for m...</td>\n",
              "    </tr>\n",
              "    <tr>\n",
              "      <th>3</th>\n",
              "      <td>Online and Social Media Related Crime</td>\n",
              "      <td>Online Job Fraud</td>\n",
              "      <td>In apna Job I have applied for job interview f...</td>\n",
              "    </tr>\n",
              "    <tr>\n",
              "      <th>4</th>\n",
              "      <td>Online Financial Fraud</td>\n",
              "      <td>Fraud CallVishing</td>\n",
              "      <td>I received a call from lady stating that she w...</td>\n",
              "    </tr>\n",
              "  </tbody>\n",
              "</table>\n",
              "</div>\n",
              "    <div class=\"colab-df-buttons\">\n",
              "\n",
              "  <div class=\"colab-df-container\">\n",
              "    <button class=\"colab-df-convert\" onclick=\"convertToInteractive('df-a875ef53-5be4-43e4-be89-e65e299ba92d')\"\n",
              "            title=\"Convert this dataframe to an interactive table.\"\n",
              "            style=\"display:none;\">\n",
              "\n",
              "  <svg xmlns=\"http://www.w3.org/2000/svg\" height=\"24px\" viewBox=\"0 -960 960 960\">\n",
              "    <path d=\"M120-120v-720h720v720H120Zm60-500h600v-160H180v160Zm220 220h160v-160H400v160Zm0 220h160v-160H400v160ZM180-400h160v-160H180v160Zm440 0h160v-160H620v160ZM180-180h160v-160H180v160Zm440 0h160v-160H620v160Z\"/>\n",
              "  </svg>\n",
              "    </button>\n",
              "\n",
              "  <style>\n",
              "    .colab-df-container {\n",
              "      display:flex;\n",
              "      gap: 12px;\n",
              "    }\n",
              "\n",
              "    .colab-df-convert {\n",
              "      background-color: #E8F0FE;\n",
              "      border: none;\n",
              "      border-radius: 50%;\n",
              "      cursor: pointer;\n",
              "      display: none;\n",
              "      fill: #1967D2;\n",
              "      height: 32px;\n",
              "      padding: 0 0 0 0;\n",
              "      width: 32px;\n",
              "    }\n",
              "\n",
              "    .colab-df-convert:hover {\n",
              "      background-color: #E2EBFA;\n",
              "      box-shadow: 0px 1px 2px rgba(60, 64, 67, 0.3), 0px 1px 3px 1px rgba(60, 64, 67, 0.15);\n",
              "      fill: #174EA6;\n",
              "    }\n",
              "\n",
              "    .colab-df-buttons div {\n",
              "      margin-bottom: 4px;\n",
              "    }\n",
              "\n",
              "    [theme=dark] .colab-df-convert {\n",
              "      background-color: #3B4455;\n",
              "      fill: #D2E3FC;\n",
              "    }\n",
              "\n",
              "    [theme=dark] .colab-df-convert:hover {\n",
              "      background-color: #434B5C;\n",
              "      box-shadow: 0px 1px 3px 1px rgba(0, 0, 0, 0.15);\n",
              "      filter: drop-shadow(0px 1px 2px rgba(0, 0, 0, 0.3));\n",
              "      fill: #FFFFFF;\n",
              "    }\n",
              "  </style>\n",
              "\n",
              "    <script>\n",
              "      const buttonEl =\n",
              "        document.querySelector('#df-a875ef53-5be4-43e4-be89-e65e299ba92d button.colab-df-convert');\n",
              "      buttonEl.style.display =\n",
              "        google.colab.kernel.accessAllowed ? 'block' : 'none';\n",
              "\n",
              "      async function convertToInteractive(key) {\n",
              "        const element = document.querySelector('#df-a875ef53-5be4-43e4-be89-e65e299ba92d');\n",
              "        const dataTable =\n",
              "          await google.colab.kernel.invokeFunction('convertToInteractive',\n",
              "                                                    [key], {});\n",
              "        if (!dataTable) return;\n",
              "\n",
              "        const docLinkHtml = 'Like what you see? Visit the ' +\n",
              "          '<a target=\"_blank\" href=https://colab.research.google.com/notebooks/data_table.ipynb>data table notebook</a>'\n",
              "          + ' to learn more about interactive tables.';\n",
              "        element.innerHTML = '';\n",
              "        dataTable['output_type'] = 'display_data';\n",
              "        await google.colab.output.renderOutput(dataTable, element);\n",
              "        const docLink = document.createElement('div');\n",
              "        docLink.innerHTML = docLinkHtml;\n",
              "        element.appendChild(docLink);\n",
              "      }\n",
              "    </script>\n",
              "  </div>\n",
              "\n",
              "\n",
              "<div id=\"df-19786867-e81f-4435-b098-7681bfa8f9e4\">\n",
              "  <button class=\"colab-df-quickchart\" onclick=\"quickchart('df-19786867-e81f-4435-b098-7681bfa8f9e4')\"\n",
              "            title=\"Suggest charts\"\n",
              "            style=\"display:none;\">\n",
              "\n",
              "<svg xmlns=\"http://www.w3.org/2000/svg\" height=\"24px\"viewBox=\"0 0 24 24\"\n",
              "     width=\"24px\">\n",
              "    <g>\n",
              "        <path d=\"M19 3H5c-1.1 0-2 .9-2 2v14c0 1.1.9 2 2 2h14c1.1 0 2-.9 2-2V5c0-1.1-.9-2-2-2zM9 17H7v-7h2v7zm4 0h-2V7h2v10zm4 0h-2v-4h2v4z\"/>\n",
              "    </g>\n",
              "</svg>\n",
              "  </button>\n",
              "\n",
              "<style>\n",
              "  .colab-df-quickchart {\n",
              "      --bg-color: #E8F0FE;\n",
              "      --fill-color: #1967D2;\n",
              "      --hover-bg-color: #E2EBFA;\n",
              "      --hover-fill-color: #174EA6;\n",
              "      --disabled-fill-color: #AAA;\n",
              "      --disabled-bg-color: #DDD;\n",
              "  }\n",
              "\n",
              "  [theme=dark] .colab-df-quickchart {\n",
              "      --bg-color: #3B4455;\n",
              "      --fill-color: #D2E3FC;\n",
              "      --hover-bg-color: #434B5C;\n",
              "      --hover-fill-color: #FFFFFF;\n",
              "      --disabled-bg-color: #3B4455;\n",
              "      --disabled-fill-color: #666;\n",
              "  }\n",
              "\n",
              "  .colab-df-quickchart {\n",
              "    background-color: var(--bg-color);\n",
              "    border: none;\n",
              "    border-radius: 50%;\n",
              "    cursor: pointer;\n",
              "    display: none;\n",
              "    fill: var(--fill-color);\n",
              "    height: 32px;\n",
              "    padding: 0;\n",
              "    width: 32px;\n",
              "  }\n",
              "\n",
              "  .colab-df-quickchart:hover {\n",
              "    background-color: var(--hover-bg-color);\n",
              "    box-shadow: 0 1px 2px rgba(60, 64, 67, 0.3), 0 1px 3px 1px rgba(60, 64, 67, 0.15);\n",
              "    fill: var(--button-hover-fill-color);\n",
              "  }\n",
              "\n",
              "  .colab-df-quickchart-complete:disabled,\n",
              "  .colab-df-quickchart-complete:disabled:hover {\n",
              "    background-color: var(--disabled-bg-color);\n",
              "    fill: var(--disabled-fill-color);\n",
              "    box-shadow: none;\n",
              "  }\n",
              "\n",
              "  .colab-df-spinner {\n",
              "    border: 2px solid var(--fill-color);\n",
              "    border-color: transparent;\n",
              "    border-bottom-color: var(--fill-color);\n",
              "    animation:\n",
              "      spin 1s steps(1) infinite;\n",
              "  }\n",
              "\n",
              "  @keyframes spin {\n",
              "    0% {\n",
              "      border-color: transparent;\n",
              "      border-bottom-color: var(--fill-color);\n",
              "      border-left-color: var(--fill-color);\n",
              "    }\n",
              "    20% {\n",
              "      border-color: transparent;\n",
              "      border-left-color: var(--fill-color);\n",
              "      border-top-color: var(--fill-color);\n",
              "    }\n",
              "    30% {\n",
              "      border-color: transparent;\n",
              "      border-left-color: var(--fill-color);\n",
              "      border-top-color: var(--fill-color);\n",
              "      border-right-color: var(--fill-color);\n",
              "    }\n",
              "    40% {\n",
              "      border-color: transparent;\n",
              "      border-right-color: var(--fill-color);\n",
              "      border-top-color: var(--fill-color);\n",
              "    }\n",
              "    60% {\n",
              "      border-color: transparent;\n",
              "      border-right-color: var(--fill-color);\n",
              "    }\n",
              "    80% {\n",
              "      border-color: transparent;\n",
              "      border-right-color: var(--fill-color);\n",
              "      border-bottom-color: var(--fill-color);\n",
              "    }\n",
              "    90% {\n",
              "      border-color: transparent;\n",
              "      border-bottom-color: var(--fill-color);\n",
              "    }\n",
              "  }\n",
              "</style>\n",
              "\n",
              "  <script>\n",
              "    async function quickchart(key) {\n",
              "      const quickchartButtonEl =\n",
              "        document.querySelector('#' + key + ' button');\n",
              "      quickchartButtonEl.disabled = true;  // To prevent multiple clicks.\n",
              "      quickchartButtonEl.classList.add('colab-df-spinner');\n",
              "      try {\n",
              "        const charts = await google.colab.kernel.invokeFunction(\n",
              "            'suggestCharts', [key], {});\n",
              "      } catch (error) {\n",
              "        console.error('Error during call to suggestCharts:', error);\n",
              "      }\n",
              "      quickchartButtonEl.classList.remove('colab-df-spinner');\n",
              "      quickchartButtonEl.classList.add('colab-df-quickchart-complete');\n",
              "    }\n",
              "    (() => {\n",
              "      let quickchartButtonEl =\n",
              "        document.querySelector('#df-19786867-e81f-4435-b098-7681bfa8f9e4 button');\n",
              "      quickchartButtonEl.style.display =\n",
              "        google.colab.kernel.accessAllowed ? 'block' : 'none';\n",
              "    })();\n",
              "  </script>\n",
              "</div>\n",
              "\n",
              "    </div>\n",
              "  </div>\n"
            ],
            "application/vnd.google.colaboratory.intrinsic+json": {
              "type": "dataframe",
              "variable_name": "df_train"
            }
          },
          "metadata": {},
          "execution_count": 2
        }
      ],
      "source": [
        "df_train.head()"
      ]
    },
    {
      "cell_type": "code",
      "execution_count": null,
      "metadata": {
        "id": "AzXcpScvJzSE",
        "outputId": "08beafaa-de3a-48e0-f260-077a86cd2b64",
        "colab": {
          "base_uri": "https://localhost:8080/"
        }
      },
      "outputs": [
        {
          "output_type": "stream",
          "name": "stdout",
          "text": [
            "Dataset Shape: (124915, 3)\n",
            "\n",
            "Columns in the dataset: ['category', 'sub_category', 'crimeaditionalinfo']\n"
          ]
        }
      ],
      "source": [
        "print(\"Dataset Shape:\", df_train.shape)\n",
        "print(\"\\nColumns in the dataset:\", df_train.columns.tolist())"
      ]
    },
    {
      "cell_type": "markdown",
      "metadata": {
        "id": "EkQEIjNhJzSE"
      },
      "source": [
        "### **Empty or whitespace values, missing values, duplicates, charecters length < 150**"
      ]
    },
    {
      "cell_type": "code",
      "execution_count": null,
      "metadata": {
        "id": "9ALOPW6vJzSF"
      },
      "outputs": [],
      "source": [
        "df_train_cleaned = df_train.copy()\n",
        "df_train_cleaned.dropna(subset=['crimeaditionalinfo'] ,inplace=True)"
      ]
    },
    {
      "cell_type": "code",
      "execution_count": null,
      "metadata": {
        "id": "fsj7cu7TJzSF",
        "outputId": "8ef22c9a-9095-4ba4-afe7-f57afebb35e3",
        "colab": {
          "base_uri": "https://localhost:8080/"
        }
      },
      "outputs": [
        {
          "output_type": "stream",
          "name": "stdout",
          "text": [
            "(1582, 3)\n"
          ]
        }
      ],
      "source": [
        "# 1. Empty or whitespace values\n",
        "def strip_warn(row):\n",
        "    try:\n",
        "        x = row.strip()\n",
        "        return x\n",
        "    except:\n",
        "        print(row)\n",
        "        return \"\"\n",
        "\n",
        "\n",
        "print(df_train_cleaned[df_train_cleaned['crimeaditionalinfo'].str.strip().str.len() == 0].shape)\n",
        "df_train_cleaned['crimeaditionalinfo'] = df_train_cleaned['crimeaditionalinfo'].apply(strip_warn)\n",
        "df_train_cleaned = df_train_cleaned[df_train_cleaned['crimeaditionalinfo'].str.strip().str.len() > 0]"
      ]
    },
    {
      "cell_type": "code",
      "execution_count": null,
      "metadata": {
        "id": "XFs68solJzSF",
        "outputId": "12b7ffd9-eb8b-4a42-bbf7-f1793a42b7e6",
        "colab": {
          "base_uri": "https://localhost:8080/"
        }
      },
      "outputs": [
        {
          "output_type": "stream",
          "name": "stdout",
          "text": [
            "category                 0\n",
            "sub_category          8758\n",
            "crimeaditionalinfo       0\n",
            "dtype: int64\n"
          ]
        }
      ],
      "source": [
        "# 2. Missing values\n",
        "print(df_train_cleaned.isnull().sum())"
      ]
    },
    {
      "cell_type": "code",
      "execution_count": null,
      "metadata": {
        "id": "TbKky6i1JzSG"
      },
      "outputs": [],
      "source": [
        "# df_train_cleaned=df_train_cleaned.dropna(subset=[\"crimeaditionalinfo\"])"
      ]
    },
    {
      "cell_type": "code",
      "execution_count": null,
      "metadata": {
        "id": "si2gBRJYJzSG",
        "outputId": "2dba910b-d14e-4f2a-ac1b-306766fd22a1",
        "colab": {
          "base_uri": "https://localhost:8080/"
        }
      },
      "outputs": [
        {
          "output_type": "stream",
          "name": "stdout",
          "text": [
            "11295\n"
          ]
        }
      ],
      "source": [
        "# 3. Duplicates\n",
        "print(df_train_cleaned.duplicated().sum())"
      ]
    },
    {
      "cell_type": "code",
      "execution_count": null,
      "metadata": {
        "id": "O8zCsFuOJzSG"
      },
      "outputs": [],
      "source": [
        "df_train_cleaned=df_train_cleaned.drop_duplicates()"
      ]
    },
    {
      "cell_type": "code",
      "execution_count": null,
      "metadata": {
        "id": "bZiqccK2JzSG",
        "outputId": "b9a30be8-49a6-4919-bac1-1bc5f6aaedf3",
        "colab": {
          "base_uri": "https://localhost:8080/"
        }
      },
      "outputs": [
        {
          "output_type": "stream",
          "name": "stdout",
          "text": [
            "643\n"
          ]
        }
      ],
      "source": [
        "print(df_train_cleaned['crimeaditionalinfo'].duplicated().sum())"
      ]
    },
    {
      "cell_type": "code",
      "execution_count": null,
      "metadata": {
        "id": "fD6HZB7RJzSH"
      },
      "outputs": [],
      "source": [
        "df_train_cleaned = df_train_cleaned.drop_duplicates(subset=['crimeaditionalinfo'])"
      ]
    },
    {
      "cell_type": "code",
      "execution_count": null,
      "metadata": {
        "id": "KXqlT9FcJzSH",
        "outputId": "b07e75a3-e456-4c72-e927-8d6c8d41b8f0",
        "colab": {
          "base_uri": "https://localhost:8080/"
        }
      },
      "outputs": [
        {
          "output_type": "stream",
          "name": "stdout",
          "text": [
            "Number of rows with less than 150 characters in the crimeaditionalinfo column: 8237\n"
          ]
        }
      ],
      "source": [
        "# 4. Character length check\n",
        "count_less_than_150 = df_train_cleaned[df_train_cleaned['crimeaditionalinfo'].str.len() <= 150].shape[0]\n",
        "print(\"Number of rows with less than 150 characters in the crimeaditionalinfo column:\", count_less_than_150)"
      ]
    },
    {
      "cell_type": "code",
      "execution_count": null,
      "metadata": {
        "id": "-TkQILU_JzSH"
      },
      "outputs": [],
      "source": [
        "# Keep only rows where text length is > 150 characters\n",
        "df_train_cleaned = df_train_cleaned[df_train_cleaned['crimeaditionalinfo'].str.len() > 150]\n",
        "\n",
        "# Reset index\n",
        "df_train_cleaned.reset_index(drop=True, inplace=True)"
      ]
    },
    {
      "cell_type": "code",
      "execution_count": null,
      "metadata": {
        "id": "5jClAqBcJzSH",
        "outputId": "a5373529-ec0c-41ad-c5d9-f334f1b01837",
        "colab": {
          "base_uri": "https://localhost:8080/"
        }
      },
      "outputs": [
        {
          "output_type": "execute_result",
          "data": {
            "text/plain": [
              "(103130, 3)"
            ]
          },
          "metadata": {},
          "execution_count": 14
        }
      ],
      "source": [
        "df_train_cleaned.shape"
      ]
    },
    {
      "cell_type": "code",
      "execution_count": null,
      "metadata": {
        "id": "VqJVgYDxJzSH"
      },
      "outputs": [],
      "source": [
        "pd.set_option('display.max_colwidth', None)\n",
        "pd.set_option('display.max_rows', None)"
      ]
    },
    {
      "cell_type": "code",
      "execution_count": null,
      "metadata": {
        "id": "DuJpMj8FJzSH",
        "outputId": "3ed63cac-351d-42dc-f937-033d3589343a",
        "colab": {
          "base_uri": "https://localhost:8080/",
          "height": 1000
        }
      },
      "outputs": [
        {
          "output_type": "execute_result",
          "data": {
            "text/plain": [
              "                                                    category  \\\n",
              "19361                                 Online Financial Fraud   \n",
              "46173                                  Any Other Cyber Crime   \n",
              "51709                                 Online Financial Fraud   \n",
              "51831   Child Pornography CPChild Sexual Abuse Material CSAM   \n",
              "5379                                  Online Financial Fraud   \n",
              "73063                                  Any Other Cyber Crime   \n",
              "43475                                 Online Financial Fraud   \n",
              "36722                  Online and Social Media Related Crime   \n",
              "100450                                Online Financial Fraud   \n",
              "33570                                 Online Financial Fraud   \n",
              "\n",
              "                                sub_category  \\\n",
              "19361                     UPI Related Frauds   \n",
              "46173                                  Other   \n",
              "51709                     UPI Related Frauds   \n",
              "51831                                    NaN   \n",
              "5379                   DematDepository Fraud   \n",
              "73063                                  Other   \n",
              "43475                      Fraud CallVishing   \n",
              "36722              Cheating by Impersonation   \n",
              "100450        Internet Banking Related Fraud   \n",
              "33570   DebitCredit Card FraudSim Swap Fraud   \n",
              "\n",
              "                                                                                                                                                                                                                                                                                                                                                                                                                                                                                                                                                                                                                                                                                                                                                                                      crimeaditionalinfo  \n",
              "19361                                                                                                                                                                                                                                                                                                                                                                                                                                                                                                                                                                                      CALL KR K PAISE TRANSFER RWAYA HAI OR PAISE LIYA PHLE UNSE SERVISE DENE KA BOL KR  KA KRWAYA FIR SERVIS CHARD  LIYA FIR SECORITY DEPOJT LOBOL KR  DOR BAR TRANFER KRBAYA FIR POLICE VERFICATIN BOL KR  KRBAYA  \n",
              "46173   Gani Gafur Patel told me he is a big land or property  agent and would help me sell my agricultural land at very good price for which he wanted some govt documents like NA copy DPR plan etc for my land and took money online from phone pay account fraudulently without doing anything and is absconding now and not paying back any amount nor coming in person to report the problem He took similar money from one of my employees also at the same time for same work and duped him also I paid him Rs  on  Feb  and my employee paid him a total of  on  Feb and  Feb   He is a big online fraudster and has been duping many like this by finding land owners numbers from paper advertisements and contacting them by giving false promises and taking money online and doing nothing  \n",
              "51709                                                                                                                                                                                                                                                                                                                                                                                                                                                                                                                                                                                   FRAUD THROUGH    UPI Fraud PhonePE\\r\\nBANK  \\t STATE BANK OF INDIA \\r\\n\\r\\nACCOUNT NUMBER     \\r\\n\\r\\nTOTAL AMOUNT  \\r\\n\\r\\nPLEASE HOLD  REVERSE TOTAL AMOUNT IN THE COMPLAINT ACCOUNT AND TAKE NECESSARY ACTION  \n",
              "51831                                                                                                                                                                                                                                                                                                                                                                                                                                                                                                                                            Found this user uTraditionalBite  spreading and encouraging wrong content towards minors on Reddit The subreddit rDegradeBollyWhores is full of shameful and demeaning content involving women of all kinds More can be found on the users profile page  \n",
              "5379                                                                                                                                     SIR THIS WHATSAPP NO  SEND ME A QR CODE AND SAYS TO ME YOU CAN PAYMENT ON THIS QR CODE \\r\\nI AM FROM RICH CASH APP EMPLOYEE \\r\\nRICH CASH APP IS A FINANCE APP AND HE CLAIMED\\r\\nHER COMPANY IS INSTANT LOAN IN  DAYS \\r\\nSO I AM PAYMENT ONLINE  AND OTHER WHATSAPP NO IS   SEND ME SIR YOUR PAYMENT IS DUE  SO I AM SAY SIR I AM ALREADY PAID MONEY  RUPEES AND HE SAY SIR YOUR HAVE FRAUD OTHER PERSON AND YOU CAN COMPALAINT CYBER CRIME\\r\\nSO I AM GOTO NEAREST POLICE STATION HE SAY WE ARE NOT FILLED CYBER CRIME COMPLAINT YOU ARE COMPAINT ONLINE CYBER CRIME \\r\\n\\r\\nSO \\r\\n KINEDLY FREQUEST TO YOU SIR PLEASE REFUND MY MONEY \\r\\n\\r\\nTHANK YOU SIR  \n",
              "73063                                                                                                                                                                                                                                                                                                                                                                                                                                                                                                                                                     I got WhatsApp messages from  and  regarding a job in the tata group they asked me to submit a  rupee for the gate pass  httpstatajobsmrtblogspotcom  they also sent me this link which is looking fake please take necessary action thank you  \n",
              "43475                                                                                                                                                                                                                                                                                                                                                                                                                                                                                                                                                                            I have received a phone call from  today at  PM he asked me to open my phone pe and see the notification there was a request for  rs He asked me to approve that but I didnt do that i realised thta it is a fraud call  \n",
              "36722                                                                                                                                                                                                                                                                                                                                                                                                                             Got a call from number and told me they are calling from ajio and I have selected for purchasing the product and asked me to select the product for the payment of  or to purchase a giftcard of  and I have purchased a gift card through google pay and after that when they have asked me dispatch GST payment I have asked the refund and they have shut the phone  \n",
              "100450                                                                                                                                                                                                                                                                                                                Identity theft   Smishing SMS Fraud  CreditDebit Cards Fraud  PAN Card Linkage\\r\\nThe Victim received an SMS with a weblink to update his PAN details Upon clicking on the link he was directed to a webportal to enter his banking credential and his OTPs This resulted in amount being debited from his account twice \\r\\nFraud message\\r\\nDear Customer your SBI NET BANKING Account will be Suspended by todayPlease Update Your Pancard now visit the link httpscuttlyBOiNSY  \n",
              "33570                                                                                                                                                                                                                                                                                                                                                              Hello sir my account number is in HDFC branch Gadchiroli by FRAUD from my account munna kumar the person from MICRO ATM SE has withdrawn  thousand rupees on  on  AM I have not given my PIN or ATM to anyone Have given and have not shared the message to anyone still money has been withdrawn from my account from MICRO ATM SE BARBIGA BIHAR I have my ATM with me still money has gone from my account please get my money back  "
            ],
            "text/html": [
              "\n",
              "  <div id=\"df-676e855a-bb4a-4797-b86e-2602fa30af65\" class=\"colab-df-container\">\n",
              "    <div>\n",
              "<style scoped>\n",
              "    .dataframe tbody tr th:only-of-type {\n",
              "        vertical-align: middle;\n",
              "    }\n",
              "\n",
              "    .dataframe tbody tr th {\n",
              "        vertical-align: top;\n",
              "    }\n",
              "\n",
              "    .dataframe thead th {\n",
              "        text-align: right;\n",
              "    }\n",
              "</style>\n",
              "<table border=\"1\" class=\"dataframe\">\n",
              "  <thead>\n",
              "    <tr style=\"text-align: right;\">\n",
              "      <th></th>\n",
              "      <th>category</th>\n",
              "      <th>sub_category</th>\n",
              "      <th>crimeaditionalinfo</th>\n",
              "    </tr>\n",
              "  </thead>\n",
              "  <tbody>\n",
              "    <tr>\n",
              "      <th>19361</th>\n",
              "      <td>Online Financial Fraud</td>\n",
              "      <td>UPI Related Frauds</td>\n",
              "      <td>CALL KR K PAISE TRANSFER RWAYA HAI OR PAISE LIYA PHLE UNSE SERVISE DENE KA BOL KR  KA KRWAYA FIR SERVIS CHARD  LIYA FIR SECORITY DEPOJT LOBOL KR  DOR BAR TRANFER KRBAYA FIR POLICE VERFICATIN BOL KR  KRBAYA</td>\n",
              "    </tr>\n",
              "    <tr>\n",
              "      <th>46173</th>\n",
              "      <td>Any Other Cyber Crime</td>\n",
              "      <td>Other</td>\n",
              "      <td>Gani Gafur Patel told me he is a big land or property  agent and would help me sell my agricultural land at very good price for which he wanted some govt documents like NA copy DPR plan etc for my land and took money online from phone pay account fraudulently without doing anything and is absconding now and not paying back any amount nor coming in person to report the problem He took similar money from one of my employees also at the same time for same work and duped him also I paid him Rs  on  Feb  and my employee paid him a total of  on  Feb and  Feb   He is a big online fraudster and has been duping many like this by finding land owners numbers from paper advertisements and contacting them by giving false promises and taking money online and doing nothing</td>\n",
              "    </tr>\n",
              "    <tr>\n",
              "      <th>51709</th>\n",
              "      <td>Online Financial Fraud</td>\n",
              "      <td>UPI Related Frauds</td>\n",
              "      <td>FRAUD THROUGH    UPI Fraud PhonePE\\r\\nBANK  \\t STATE BANK OF INDIA \\r\\n\\r\\nACCOUNT NUMBER     \\r\\n\\r\\nTOTAL AMOUNT  \\r\\n\\r\\nPLEASE HOLD  REVERSE TOTAL AMOUNT IN THE COMPLAINT ACCOUNT AND TAKE NECESSARY ACTION</td>\n",
              "    </tr>\n",
              "    <tr>\n",
              "      <th>51831</th>\n",
              "      <td>Child Pornography CPChild Sexual Abuse Material CSAM</td>\n",
              "      <td>NaN</td>\n",
              "      <td>Found this user uTraditionalBite  spreading and encouraging wrong content towards minors on Reddit The subreddit rDegradeBollyWhores is full of shameful and demeaning content involving women of all kinds More can be found on the users profile page</td>\n",
              "    </tr>\n",
              "    <tr>\n",
              "      <th>5379</th>\n",
              "      <td>Online Financial Fraud</td>\n",
              "      <td>DematDepository Fraud</td>\n",
              "      <td>SIR THIS WHATSAPP NO  SEND ME A QR CODE AND SAYS TO ME YOU CAN PAYMENT ON THIS QR CODE \\r\\nI AM FROM RICH CASH APP EMPLOYEE \\r\\nRICH CASH APP IS A FINANCE APP AND HE CLAIMED\\r\\nHER COMPANY IS INSTANT LOAN IN  DAYS \\r\\nSO I AM PAYMENT ONLINE  AND OTHER WHATSAPP NO IS   SEND ME SIR YOUR PAYMENT IS DUE  SO I AM SAY SIR I AM ALREADY PAID MONEY  RUPEES AND HE SAY SIR YOUR HAVE FRAUD OTHER PERSON AND YOU CAN COMPALAINT CYBER CRIME\\r\\nSO I AM GOTO NEAREST POLICE STATION HE SAY WE ARE NOT FILLED CYBER CRIME COMPLAINT YOU ARE COMPAINT ONLINE CYBER CRIME \\r\\n\\r\\nSO \\r\\n KINEDLY FREQUEST TO YOU SIR PLEASE REFUND MY MONEY \\r\\n\\r\\nTHANK YOU SIR</td>\n",
              "    </tr>\n",
              "    <tr>\n",
              "      <th>73063</th>\n",
              "      <td>Any Other Cyber Crime</td>\n",
              "      <td>Other</td>\n",
              "      <td>I got WhatsApp messages from  and  regarding a job in the tata group they asked me to submit a  rupee for the gate pass  httpstatajobsmrtblogspotcom  they also sent me this link which is looking fake please take necessary action thank you</td>\n",
              "    </tr>\n",
              "    <tr>\n",
              "      <th>43475</th>\n",
              "      <td>Online Financial Fraud</td>\n",
              "      <td>Fraud CallVishing</td>\n",
              "      <td>I have received a phone call from  today at  PM he asked me to open my phone pe and see the notification there was a request for  rs He asked me to approve that but I didnt do that i realised thta it is a fraud call</td>\n",
              "    </tr>\n",
              "    <tr>\n",
              "      <th>36722</th>\n",
              "      <td>Online and Social Media Related Crime</td>\n",
              "      <td>Cheating by Impersonation</td>\n",
              "      <td>Got a call from number and told me they are calling from ajio and I have selected for purchasing the product and asked me to select the product for the payment of  or to purchase a giftcard of  and I have purchased a gift card through google pay and after that when they have asked me dispatch GST payment I have asked the refund and they have shut the phone</td>\n",
              "    </tr>\n",
              "    <tr>\n",
              "      <th>100450</th>\n",
              "      <td>Online Financial Fraud</td>\n",
              "      <td>Internet Banking Related Fraud</td>\n",
              "      <td>Identity theft   Smishing SMS Fraud  CreditDebit Cards Fraud  PAN Card Linkage\\r\\nThe Victim received an SMS with a weblink to update his PAN details Upon clicking on the link he was directed to a webportal to enter his banking credential and his OTPs This resulted in amount being debited from his account twice \\r\\nFraud message\\r\\nDear Customer your SBI NET BANKING Account will be Suspended by todayPlease Update Your Pancard now visit the link httpscuttlyBOiNSY</td>\n",
              "    </tr>\n",
              "    <tr>\n",
              "      <th>33570</th>\n",
              "      <td>Online Financial Fraud</td>\n",
              "      <td>DebitCredit Card FraudSim Swap Fraud</td>\n",
              "      <td>Hello sir my account number is in HDFC branch Gadchiroli by FRAUD from my account munna kumar the person from MICRO ATM SE has withdrawn  thousand rupees on  on  AM I have not given my PIN or ATM to anyone Have given and have not shared the message to anyone still money has been withdrawn from my account from MICRO ATM SE BARBIGA BIHAR I have my ATM with me still money has gone from my account please get my money back</td>\n",
              "    </tr>\n",
              "  </tbody>\n",
              "</table>\n",
              "</div>\n",
              "    <div class=\"colab-df-buttons\">\n",
              "\n",
              "  <div class=\"colab-df-container\">\n",
              "    <button class=\"colab-df-convert\" onclick=\"convertToInteractive('df-676e855a-bb4a-4797-b86e-2602fa30af65')\"\n",
              "            title=\"Convert this dataframe to an interactive table.\"\n",
              "            style=\"display:none;\">\n",
              "\n",
              "  <svg xmlns=\"http://www.w3.org/2000/svg\" height=\"24px\" viewBox=\"0 -960 960 960\">\n",
              "    <path d=\"M120-120v-720h720v720H120Zm60-500h600v-160H180v160Zm220 220h160v-160H400v160Zm0 220h160v-160H400v160ZM180-400h160v-160H180v160Zm440 0h160v-160H620v160ZM180-180h160v-160H180v160Zm440 0h160v-160H620v160Z\"/>\n",
              "  </svg>\n",
              "    </button>\n",
              "\n",
              "  <style>\n",
              "    .colab-df-container {\n",
              "      display:flex;\n",
              "      gap: 12px;\n",
              "    }\n",
              "\n",
              "    .colab-df-convert {\n",
              "      background-color: #E8F0FE;\n",
              "      border: none;\n",
              "      border-radius: 50%;\n",
              "      cursor: pointer;\n",
              "      display: none;\n",
              "      fill: #1967D2;\n",
              "      height: 32px;\n",
              "      padding: 0 0 0 0;\n",
              "      width: 32px;\n",
              "    }\n",
              "\n",
              "    .colab-df-convert:hover {\n",
              "      background-color: #E2EBFA;\n",
              "      box-shadow: 0px 1px 2px rgba(60, 64, 67, 0.3), 0px 1px 3px 1px rgba(60, 64, 67, 0.15);\n",
              "      fill: #174EA6;\n",
              "    }\n",
              "\n",
              "    .colab-df-buttons div {\n",
              "      margin-bottom: 4px;\n",
              "    }\n",
              "\n",
              "    [theme=dark] .colab-df-convert {\n",
              "      background-color: #3B4455;\n",
              "      fill: #D2E3FC;\n",
              "    }\n",
              "\n",
              "    [theme=dark] .colab-df-convert:hover {\n",
              "      background-color: #434B5C;\n",
              "      box-shadow: 0px 1px 3px 1px rgba(0, 0, 0, 0.15);\n",
              "      filter: drop-shadow(0px 1px 2px rgba(0, 0, 0, 0.3));\n",
              "      fill: #FFFFFF;\n",
              "    }\n",
              "  </style>\n",
              "\n",
              "    <script>\n",
              "      const buttonEl =\n",
              "        document.querySelector('#df-676e855a-bb4a-4797-b86e-2602fa30af65 button.colab-df-convert');\n",
              "      buttonEl.style.display =\n",
              "        google.colab.kernel.accessAllowed ? 'block' : 'none';\n",
              "\n",
              "      async function convertToInteractive(key) {\n",
              "        const element = document.querySelector('#df-676e855a-bb4a-4797-b86e-2602fa30af65');\n",
              "        const dataTable =\n",
              "          await google.colab.kernel.invokeFunction('convertToInteractive',\n",
              "                                                    [key], {});\n",
              "        if (!dataTable) return;\n",
              "\n",
              "        const docLinkHtml = 'Like what you see? Visit the ' +\n",
              "          '<a target=\"_blank\" href=https://colab.research.google.com/notebooks/data_table.ipynb>data table notebook</a>'\n",
              "          + ' to learn more about interactive tables.';\n",
              "        element.innerHTML = '';\n",
              "        dataTable['output_type'] = 'display_data';\n",
              "        await google.colab.output.renderOutput(dataTable, element);\n",
              "        const docLink = document.createElement('div');\n",
              "        docLink.innerHTML = docLinkHtml;\n",
              "        element.appendChild(docLink);\n",
              "      }\n",
              "    </script>\n",
              "  </div>\n",
              "\n",
              "\n",
              "<div id=\"df-2c722388-5759-4b5f-a020-f8b8dab64346\">\n",
              "  <button class=\"colab-df-quickchart\" onclick=\"quickchart('df-2c722388-5759-4b5f-a020-f8b8dab64346')\"\n",
              "            title=\"Suggest charts\"\n",
              "            style=\"display:none;\">\n",
              "\n",
              "<svg xmlns=\"http://www.w3.org/2000/svg\" height=\"24px\"viewBox=\"0 0 24 24\"\n",
              "     width=\"24px\">\n",
              "    <g>\n",
              "        <path d=\"M19 3H5c-1.1 0-2 .9-2 2v14c0 1.1.9 2 2 2h14c1.1 0 2-.9 2-2V5c0-1.1-.9-2-2-2zM9 17H7v-7h2v7zm4 0h-2V7h2v10zm4 0h-2v-4h2v4z\"/>\n",
              "    </g>\n",
              "</svg>\n",
              "  </button>\n",
              "\n",
              "<style>\n",
              "  .colab-df-quickchart {\n",
              "      --bg-color: #E8F0FE;\n",
              "      --fill-color: #1967D2;\n",
              "      --hover-bg-color: #E2EBFA;\n",
              "      --hover-fill-color: #174EA6;\n",
              "      --disabled-fill-color: #AAA;\n",
              "      --disabled-bg-color: #DDD;\n",
              "  }\n",
              "\n",
              "  [theme=dark] .colab-df-quickchart {\n",
              "      --bg-color: #3B4455;\n",
              "      --fill-color: #D2E3FC;\n",
              "      --hover-bg-color: #434B5C;\n",
              "      --hover-fill-color: #FFFFFF;\n",
              "      --disabled-bg-color: #3B4455;\n",
              "      --disabled-fill-color: #666;\n",
              "  }\n",
              "\n",
              "  .colab-df-quickchart {\n",
              "    background-color: var(--bg-color);\n",
              "    border: none;\n",
              "    border-radius: 50%;\n",
              "    cursor: pointer;\n",
              "    display: none;\n",
              "    fill: var(--fill-color);\n",
              "    height: 32px;\n",
              "    padding: 0;\n",
              "    width: 32px;\n",
              "  }\n",
              "\n",
              "  .colab-df-quickchart:hover {\n",
              "    background-color: var(--hover-bg-color);\n",
              "    box-shadow: 0 1px 2px rgba(60, 64, 67, 0.3), 0 1px 3px 1px rgba(60, 64, 67, 0.15);\n",
              "    fill: var(--button-hover-fill-color);\n",
              "  }\n",
              "\n",
              "  .colab-df-quickchart-complete:disabled,\n",
              "  .colab-df-quickchart-complete:disabled:hover {\n",
              "    background-color: var(--disabled-bg-color);\n",
              "    fill: var(--disabled-fill-color);\n",
              "    box-shadow: none;\n",
              "  }\n",
              "\n",
              "  .colab-df-spinner {\n",
              "    border: 2px solid var(--fill-color);\n",
              "    border-color: transparent;\n",
              "    border-bottom-color: var(--fill-color);\n",
              "    animation:\n",
              "      spin 1s steps(1) infinite;\n",
              "  }\n",
              "\n",
              "  @keyframes spin {\n",
              "    0% {\n",
              "      border-color: transparent;\n",
              "      border-bottom-color: var(--fill-color);\n",
              "      border-left-color: var(--fill-color);\n",
              "    }\n",
              "    20% {\n",
              "      border-color: transparent;\n",
              "      border-left-color: var(--fill-color);\n",
              "      border-top-color: var(--fill-color);\n",
              "    }\n",
              "    30% {\n",
              "      border-color: transparent;\n",
              "      border-left-color: var(--fill-color);\n",
              "      border-top-color: var(--fill-color);\n",
              "      border-right-color: var(--fill-color);\n",
              "    }\n",
              "    40% {\n",
              "      border-color: transparent;\n",
              "      border-right-color: var(--fill-color);\n",
              "      border-top-color: var(--fill-color);\n",
              "    }\n",
              "    60% {\n",
              "      border-color: transparent;\n",
              "      border-right-color: var(--fill-color);\n",
              "    }\n",
              "    80% {\n",
              "      border-color: transparent;\n",
              "      border-right-color: var(--fill-color);\n",
              "      border-bottom-color: var(--fill-color);\n",
              "    }\n",
              "    90% {\n",
              "      border-color: transparent;\n",
              "      border-bottom-color: var(--fill-color);\n",
              "    }\n",
              "  }\n",
              "</style>\n",
              "\n",
              "  <script>\n",
              "    async function quickchart(key) {\n",
              "      const quickchartButtonEl =\n",
              "        document.querySelector('#' + key + ' button');\n",
              "      quickchartButtonEl.disabled = true;  // To prevent multiple clicks.\n",
              "      quickchartButtonEl.classList.add('colab-df-spinner');\n",
              "      try {\n",
              "        const charts = await google.colab.kernel.invokeFunction(\n",
              "            'suggestCharts', [key], {});\n",
              "      } catch (error) {\n",
              "        console.error('Error during call to suggestCharts:', error);\n",
              "      }\n",
              "      quickchartButtonEl.classList.remove('colab-df-spinner');\n",
              "      quickchartButtonEl.classList.add('colab-df-quickchart-complete');\n",
              "    }\n",
              "    (() => {\n",
              "      let quickchartButtonEl =\n",
              "        document.querySelector('#df-2c722388-5759-4b5f-a020-f8b8dab64346 button');\n",
              "      quickchartButtonEl.style.display =\n",
              "        google.colab.kernel.accessAllowed ? 'block' : 'none';\n",
              "    })();\n",
              "  </script>\n",
              "</div>\n",
              "\n",
              "    </div>\n",
              "  </div>\n"
            ],
            "application/vnd.google.colaboratory.intrinsic+json": {
              "type": "dataframe",
              "summary": "{\n  \"name\": \"df_train_cleaned\",\n  \"rows\": 10,\n  \"fields\": [\n    {\n      \"column\": \"category\",\n      \"properties\": {\n        \"dtype\": \"category\",\n        \"num_unique_values\": 4,\n        \"samples\": [\n          \"Any Other Cyber Crime\",\n          \"Online and Social Media Related Crime\",\n          \"Online Financial Fraud\"\n        ],\n        \"semantic_type\": \"\",\n        \"description\": \"\"\n      }\n    },\n    {\n      \"column\": \"sub_category\",\n      \"properties\": {\n        \"dtype\": \"string\",\n        \"num_unique_values\": 7,\n        \"samples\": [\n          \"UPI Related Frauds\",\n          \"Other\",\n          \"Internet Banking Related Fraud\"\n        ],\n        \"semantic_type\": \"\",\n        \"description\": \"\"\n      }\n    },\n    {\n      \"column\": \"crimeaditionalinfo\",\n      \"properties\": {\n        \"dtype\": \"string\",\n        \"num_unique_values\": 10,\n        \"samples\": [\n          \"Identity theft   Smishing SMS Fraud  CreditDebit Cards Fraud  PAN Card Linkage\\r\\nThe Victim received an SMS with a weblink to update his PAN details Upon clicking on the link he was directed to a webportal to enter his banking credential and his OTPs This resulted in amount being debited from his account twice \\r\\nFraud message\\r\\nDear Customer your SBI NET BANKING Account will be Suspended by todayPlease Update Your Pancard now visit the link httpscuttlyBOiNSY\",\n          \"Gani Gafur Patel told me he is a big land or property  agent and would help me sell my agricultural land at very good price for which he wanted some govt documents like NA copy DPR plan etc for my land and took money online from phone pay account fraudulently without doing anything and is absconding now and not paying back any amount nor coming in person to report the problem He took similar money from one of my employees also at the same time for same work and duped him also I paid him Rs  on  Feb  and my employee paid him a total of  on  Feb and  Feb   He is a big online fraudster and has been duping many like this by finding land owners numbers from paper advertisements and contacting them by giving false promises and taking money online and doing nothing\",\n          \"I got WhatsApp messages from  and  regarding a job in the tata group they asked me to submit a  rupee for the gate pass  httpstatajobsmrtblogspotcom  they also sent me this link which is looking fake please take necessary action thank you\"\n        ],\n        \"semantic_type\": \"\",\n        \"description\": \"\"\n      }\n    }\n  ]\n}"
            }
          },
          "metadata": {},
          "execution_count": 16
        }
      ],
      "source": [
        "df_train_cleaned.sample(10)"
      ]
    },
    {
      "cell_type": "markdown",
      "metadata": {
        "id": "LV22d3vyJzSH"
      },
      "source": [
        "### **Reduce noise in data**"
      ]
    },
    {
      "cell_type": "code",
      "execution_count": null,
      "metadata": {
        "id": "_E16JeLoJzSI",
        "colab": {
          "base_uri": "https://localhost:8080/"
        },
        "outputId": "11bc89cc-fccd-4168-9e68-e8e4b65a7348"
      },
      "outputs": [
        {
          "output_type": "stream",
          "name": "stdout",
          "text": [
            "\u001b[?25l   \u001b[90m━━━━━━━━━━━━━━━━━━━━━━━━━━━━━━━━━━━━━━━━\u001b[0m \u001b[32m0.0/289.9 kB\u001b[0m \u001b[31m?\u001b[0m eta \u001b[36m-:--:--\u001b[0m\r\u001b[2K   \u001b[90m━━━━━━━━━━━━━━━━━━━━━━━━━━━━━━━━━━━━━━━━\u001b[0m \u001b[32m289.9/289.9 kB\u001b[0m \u001b[31m12.8 MB/s\u001b[0m eta \u001b[36m0:00:00\u001b[0m\n",
            "\u001b[?25h\u001b[?25l   \u001b[90m━━━━━━━━━━━━━━━━━━━━━━━━━━━━━━━━━━━━━━━━\u001b[0m \u001b[32m0.0/118.3 kB\u001b[0m \u001b[31m?\u001b[0m eta \u001b[36m-:--:--\u001b[0m\r\u001b[2K   \u001b[90m━━━━━━━━━━━━━━━━━━━━━━━━━━━━━━━━━━━━━━━━\u001b[0m \u001b[32m118.3/118.3 kB\u001b[0m \u001b[31m9.0 MB/s\u001b[0m eta \u001b[36m0:00:00\u001b[0m\n",
            "\u001b[?25h"
          ]
        }
      ],
      "source": [
        "! pip install contractions -q"
      ]
    },
    {
      "cell_type": "code",
      "execution_count": null,
      "metadata": {
        "id": "Xq4OaqRdJzSI"
      },
      "outputs": [],
      "source": [
        "# Import required libraries\n",
        "import re\n",
        "import unicodedata\n",
        "import contractions\n",
        "\n",
        "\n",
        "# Fix encoding and handle accented characters\n",
        "df_train_cleaned['crimeaditionalinfo'] = df_train_cleaned['crimeaditionalinfo'].apply(lambda x: unicodedata.normalize('NFKD', x))\n",
        "df_train_cleaned['crimeaditionalinfo'] = df_train_cleaned['crimeaditionalinfo'].apply(lambda x: x.encode('ascii', 'ignore').decode('utf-8'))\n",
        "\n",
        "# Expand contractions\n",
        "df_train_cleaned['crimeaditionalinfo'] = df_train_cleaned['crimeaditionalinfo'].apply(lambda x: contractions.fix(x))\n",
        "\n",
        "# Remove noise but keep periods\n",
        "df_train_cleaned['crimeaditionalinfo'] = df_train_cleaned['crimeaditionalinfo'].apply(lambda x: x.lower())\n",
        "df_train_cleaned['crimeaditionalinfo'] = df_train_cleaned['crimeaditionalinfo'].apply(lambda x: re.sub(r'\\S+@\\S+', '', x))\n",
        "df_train_cleaned['crimeaditionalinfo'] = df_train_cleaned['crimeaditionalinfo'].apply(lambda x: re.sub(r'http\\S+|www.\\S+', '', x))\n",
        "# Modified to keep periods while removing other punctuation\n",
        "df_train_cleaned['crimeaditionalinfo'] = df_train_cleaned['crimeaditionalinfo'].apply(lambda x: re.sub(r'[^\\w\\s\\.]', '', x))\n",
        "df_train_cleaned['crimeaditionalinfo'] = df_train_cleaned['crimeaditionalinfo'].apply(lambda x: re.sub(r'\\s+', ' ', x))\n",
        "df_train_cleaned['crimeaditionalinfo'] = df_train_cleaned['crimeaditionalinfo'].apply(lambda x: x.strip())"
      ]
    },
    {
      "cell_type": "code",
      "execution_count": null,
      "metadata": {
        "id": "4Xm2t4I9JzSI",
        "outputId": "ca8ec56e-35a4-46f1-bfa9-ae8c8a545768",
        "colab": {
          "base_uri": "https://localhost:8080/",
          "height": 935
        }
      },
      "outputs": [
        {
          "output_type": "execute_result",
          "data": {
            "text/plain": [
              "                                             category  \\\n",
              "68921                          Online Financial Fraud   \n",
              "50693                          Online Financial Fraud   \n",
              "49638                       Sexually Obscene material   \n",
              "76601                           Any Other Cyber Crime   \n",
              "39710           Online and Social Media Related Crime   \n",
              "93718                           Any Other Cyber Crime   \n",
              "96764           Online and Social Media Related Crime   \n",
              "63223  Hacking  Damage to computercomputer system etc   \n",
              "13014                           Any Other Cyber Crime   \n",
              "77145                          Online Financial Fraud   \n",
              "\n",
              "                               sub_category  \\\n",
              "68921                     Fraud CallVishing   \n",
              "50693  DebitCredit Card FraudSim Swap Fraud   \n",
              "49638                                   NaN   \n",
              "76601                                 Other   \n",
              "39710             FakeImpersonating Profile   \n",
              "93718                                 Other   \n",
              "96764     Cyber Bullying  Stalking  Sexting   \n",
              "63223        Unauthorised AccessData Breach   \n",
              "13014                                 Other   \n",
              "77145                    UPI Related Frauds   \n",
              "\n",
              "                                                                                                                                                                                                                                                                                                                                                        crimeaditionalinfo  \n",
              "68921                                                                                                                                                 i received call on th january he made fraudulent words and drawn rs above from my account from th to th january and also withdrawal money from atm hence i request to take necessary action and do justice thank you  \n",
              "50693                             impersonation cheating as victim have recharge shop a person called and asked to install the my recaharge app so that they will provide the offers so to victim they asked to recharge with rs first by using debit card so he had done the same and insatlled any desk app later on amount was debited from victim acconutdebit card no  \n",
              "49638                                                                                                                                               make contact through whatsapp and then captured some private photos and videos now blackmailing for money or threatening to make them public over social media threatening to share video to all my family and friends  \n",
              "76601                                               i contacted him through facebookhe is self styled consultant who told that i will send you abroad for jobwhen i send him my passport and resume then he told me for moneyand i transferred him rsbut till this date he is absconding and looted my money kindly help me to trace this person and my money to send back  \n",
              "39710                                                                                                                                                                                                   using my profile and aending messages from above suspecting mobile to our colleagues some numbers kindly block that number and initiate necessary action thank you  \n",
              "93718                                                                                                                                                       please help me sir tp give my money back i am studying in visakhapatnam by the purpose of study i take a loan in the mobile loan app in this way i lost my money total eighteen hundred and twenty nine rupees  \n",
              "96764                                                                                                                                                             a girl video called me naked and now posting the video online and asking money in return phone numbers used by that girl and now she is calling and messaging and uploaded the video and blackmailing me  \n",
              "63223                                                                                                 last time i complain for hack phone contacts sms gallery misuse data documentsacknowledgement number after that criminals stopped message to my contact list buy today they start again sending shameful message to my contact list so plz help me what can i do now  \n",
              "13014  ek aadmi jiska nam aashish massey h usne job ka bharosa dila k mere sath rs ka froud kr diya us aadami se paise mangta hu to mujhe taal deta hai wo aadami dehli ka rhe wala haiplzzz help me mujhe mere paise waise lautane ki krip kre ki usne mujhe slip di h baaki ki bas transition id h mere pe jo ki pdf m dal di h saath mai ki transition id bhi h pdf mai  \n",
              "77145                                                                                                       mr jitendra shashikant zope is person who is willing to take my house on rent he is conrtinously calling me for getting details of my house then he is calling me for sending deposit he is sending qr code for receiving deposit but ia m blocking the person  "
            ],
            "text/html": [
              "\n",
              "  <div id=\"df-6be47d85-e122-4f4f-ac09-1fb7b309fad7\" class=\"colab-df-container\">\n",
              "    <div>\n",
              "<style scoped>\n",
              "    .dataframe tbody tr th:only-of-type {\n",
              "        vertical-align: middle;\n",
              "    }\n",
              "\n",
              "    .dataframe tbody tr th {\n",
              "        vertical-align: top;\n",
              "    }\n",
              "\n",
              "    .dataframe thead th {\n",
              "        text-align: right;\n",
              "    }\n",
              "</style>\n",
              "<table border=\"1\" class=\"dataframe\">\n",
              "  <thead>\n",
              "    <tr style=\"text-align: right;\">\n",
              "      <th></th>\n",
              "      <th>category</th>\n",
              "      <th>sub_category</th>\n",
              "      <th>crimeaditionalinfo</th>\n",
              "    </tr>\n",
              "  </thead>\n",
              "  <tbody>\n",
              "    <tr>\n",
              "      <th>68921</th>\n",
              "      <td>Online Financial Fraud</td>\n",
              "      <td>Fraud CallVishing</td>\n",
              "      <td>i received call on th january he made fraudulent words and drawn rs above from my account from th to th january and also withdrawal money from atm hence i request to take necessary action and do justice thank you</td>\n",
              "    </tr>\n",
              "    <tr>\n",
              "      <th>50693</th>\n",
              "      <td>Online Financial Fraud</td>\n",
              "      <td>DebitCredit Card FraudSim Swap Fraud</td>\n",
              "      <td>impersonation cheating as victim have recharge shop a person called and asked to install the my recaharge app so that they will provide the offers so to victim they asked to recharge with rs first by using debit card so he had done the same and insatlled any desk app later on amount was debited from victim acconutdebit card no</td>\n",
              "    </tr>\n",
              "    <tr>\n",
              "      <th>49638</th>\n",
              "      <td>Sexually Obscene material</td>\n",
              "      <td>NaN</td>\n",
              "      <td>make contact through whatsapp and then captured some private photos and videos now blackmailing for money or threatening to make them public over social media threatening to share video to all my family and friends</td>\n",
              "    </tr>\n",
              "    <tr>\n",
              "      <th>76601</th>\n",
              "      <td>Any Other Cyber Crime</td>\n",
              "      <td>Other</td>\n",
              "      <td>i contacted him through facebookhe is self styled consultant who told that i will send you abroad for jobwhen i send him my passport and resume then he told me for moneyand i transferred him rsbut till this date he is absconding and looted my money kindly help me to trace this person and my money to send back</td>\n",
              "    </tr>\n",
              "    <tr>\n",
              "      <th>39710</th>\n",
              "      <td>Online and Social Media Related Crime</td>\n",
              "      <td>FakeImpersonating Profile</td>\n",
              "      <td>using my profile and aending messages from above suspecting mobile to our colleagues some numbers kindly block that number and initiate necessary action thank you</td>\n",
              "    </tr>\n",
              "    <tr>\n",
              "      <th>93718</th>\n",
              "      <td>Any Other Cyber Crime</td>\n",
              "      <td>Other</td>\n",
              "      <td>please help me sir tp give my money back i am studying in visakhapatnam by the purpose of study i take a loan in the mobile loan app in this way i lost my money total eighteen hundred and twenty nine rupees</td>\n",
              "    </tr>\n",
              "    <tr>\n",
              "      <th>96764</th>\n",
              "      <td>Online and Social Media Related Crime</td>\n",
              "      <td>Cyber Bullying  Stalking  Sexting</td>\n",
              "      <td>a girl video called me naked and now posting the video online and asking money in return phone numbers used by that girl and now she is calling and messaging and uploaded the video and blackmailing me</td>\n",
              "    </tr>\n",
              "    <tr>\n",
              "      <th>63223</th>\n",
              "      <td>Hacking  Damage to computercomputer system etc</td>\n",
              "      <td>Unauthorised AccessData Breach</td>\n",
              "      <td>last time i complain for hack phone contacts sms gallery misuse data documentsacknowledgement number after that criminals stopped message to my contact list buy today they start again sending shameful message to my contact list so plz help me what can i do now</td>\n",
              "    </tr>\n",
              "    <tr>\n",
              "      <th>13014</th>\n",
              "      <td>Any Other Cyber Crime</td>\n",
              "      <td>Other</td>\n",
              "      <td>ek aadmi jiska nam aashish massey h usne job ka bharosa dila k mere sath rs ka froud kr diya us aadami se paise mangta hu to mujhe taal deta hai wo aadami dehli ka rhe wala haiplzzz help me mujhe mere paise waise lautane ki krip kre ki usne mujhe slip di h baaki ki bas transition id h mere pe jo ki pdf m dal di h saath mai ki transition id bhi h pdf mai</td>\n",
              "    </tr>\n",
              "    <tr>\n",
              "      <th>77145</th>\n",
              "      <td>Online Financial Fraud</td>\n",
              "      <td>UPI Related Frauds</td>\n",
              "      <td>mr jitendra shashikant zope is person who is willing to take my house on rent he is conrtinously calling me for getting details of my house then he is calling me for sending deposit he is sending qr code for receiving deposit but ia m blocking the person</td>\n",
              "    </tr>\n",
              "  </tbody>\n",
              "</table>\n",
              "</div>\n",
              "    <div class=\"colab-df-buttons\">\n",
              "\n",
              "  <div class=\"colab-df-container\">\n",
              "    <button class=\"colab-df-convert\" onclick=\"convertToInteractive('df-6be47d85-e122-4f4f-ac09-1fb7b309fad7')\"\n",
              "            title=\"Convert this dataframe to an interactive table.\"\n",
              "            style=\"display:none;\">\n",
              "\n",
              "  <svg xmlns=\"http://www.w3.org/2000/svg\" height=\"24px\" viewBox=\"0 -960 960 960\">\n",
              "    <path d=\"M120-120v-720h720v720H120Zm60-500h600v-160H180v160Zm220 220h160v-160H400v160Zm0 220h160v-160H400v160ZM180-400h160v-160H180v160Zm440 0h160v-160H620v160ZM180-180h160v-160H180v160Zm440 0h160v-160H620v160Z\"/>\n",
              "  </svg>\n",
              "    </button>\n",
              "\n",
              "  <style>\n",
              "    .colab-df-container {\n",
              "      display:flex;\n",
              "      gap: 12px;\n",
              "    }\n",
              "\n",
              "    .colab-df-convert {\n",
              "      background-color: #E8F0FE;\n",
              "      border: none;\n",
              "      border-radius: 50%;\n",
              "      cursor: pointer;\n",
              "      display: none;\n",
              "      fill: #1967D2;\n",
              "      height: 32px;\n",
              "      padding: 0 0 0 0;\n",
              "      width: 32px;\n",
              "    }\n",
              "\n",
              "    .colab-df-convert:hover {\n",
              "      background-color: #E2EBFA;\n",
              "      box-shadow: 0px 1px 2px rgba(60, 64, 67, 0.3), 0px 1px 3px 1px rgba(60, 64, 67, 0.15);\n",
              "      fill: #174EA6;\n",
              "    }\n",
              "\n",
              "    .colab-df-buttons div {\n",
              "      margin-bottom: 4px;\n",
              "    }\n",
              "\n",
              "    [theme=dark] .colab-df-convert {\n",
              "      background-color: #3B4455;\n",
              "      fill: #D2E3FC;\n",
              "    }\n",
              "\n",
              "    [theme=dark] .colab-df-convert:hover {\n",
              "      background-color: #434B5C;\n",
              "      box-shadow: 0px 1px 3px 1px rgba(0, 0, 0, 0.15);\n",
              "      filter: drop-shadow(0px 1px 2px rgba(0, 0, 0, 0.3));\n",
              "      fill: #FFFFFF;\n",
              "    }\n",
              "  </style>\n",
              "\n",
              "    <script>\n",
              "      const buttonEl =\n",
              "        document.querySelector('#df-6be47d85-e122-4f4f-ac09-1fb7b309fad7 button.colab-df-convert');\n",
              "      buttonEl.style.display =\n",
              "        google.colab.kernel.accessAllowed ? 'block' : 'none';\n",
              "\n",
              "      async function convertToInteractive(key) {\n",
              "        const element = document.querySelector('#df-6be47d85-e122-4f4f-ac09-1fb7b309fad7');\n",
              "        const dataTable =\n",
              "          await google.colab.kernel.invokeFunction('convertToInteractive',\n",
              "                                                    [key], {});\n",
              "        if (!dataTable) return;\n",
              "\n",
              "        const docLinkHtml = 'Like what you see? Visit the ' +\n",
              "          '<a target=\"_blank\" href=https://colab.research.google.com/notebooks/data_table.ipynb>data table notebook</a>'\n",
              "          + ' to learn more about interactive tables.';\n",
              "        element.innerHTML = '';\n",
              "        dataTable['output_type'] = 'display_data';\n",
              "        await google.colab.output.renderOutput(dataTable, element);\n",
              "        const docLink = document.createElement('div');\n",
              "        docLink.innerHTML = docLinkHtml;\n",
              "        element.appendChild(docLink);\n",
              "      }\n",
              "    </script>\n",
              "  </div>\n",
              "\n",
              "\n",
              "<div id=\"df-d9398f97-8fa1-479b-8fb7-23bc0f216976\">\n",
              "  <button class=\"colab-df-quickchart\" onclick=\"quickchart('df-d9398f97-8fa1-479b-8fb7-23bc0f216976')\"\n",
              "            title=\"Suggest charts\"\n",
              "            style=\"display:none;\">\n",
              "\n",
              "<svg xmlns=\"http://www.w3.org/2000/svg\" height=\"24px\"viewBox=\"0 0 24 24\"\n",
              "     width=\"24px\">\n",
              "    <g>\n",
              "        <path d=\"M19 3H5c-1.1 0-2 .9-2 2v14c0 1.1.9 2 2 2h14c1.1 0 2-.9 2-2V5c0-1.1-.9-2-2-2zM9 17H7v-7h2v7zm4 0h-2V7h2v10zm4 0h-2v-4h2v4z\"/>\n",
              "    </g>\n",
              "</svg>\n",
              "  </button>\n",
              "\n",
              "<style>\n",
              "  .colab-df-quickchart {\n",
              "      --bg-color: #E8F0FE;\n",
              "      --fill-color: #1967D2;\n",
              "      --hover-bg-color: #E2EBFA;\n",
              "      --hover-fill-color: #174EA6;\n",
              "      --disabled-fill-color: #AAA;\n",
              "      --disabled-bg-color: #DDD;\n",
              "  }\n",
              "\n",
              "  [theme=dark] .colab-df-quickchart {\n",
              "      --bg-color: #3B4455;\n",
              "      --fill-color: #D2E3FC;\n",
              "      --hover-bg-color: #434B5C;\n",
              "      --hover-fill-color: #FFFFFF;\n",
              "      --disabled-bg-color: #3B4455;\n",
              "      --disabled-fill-color: #666;\n",
              "  }\n",
              "\n",
              "  .colab-df-quickchart {\n",
              "    background-color: var(--bg-color);\n",
              "    border: none;\n",
              "    border-radius: 50%;\n",
              "    cursor: pointer;\n",
              "    display: none;\n",
              "    fill: var(--fill-color);\n",
              "    height: 32px;\n",
              "    padding: 0;\n",
              "    width: 32px;\n",
              "  }\n",
              "\n",
              "  .colab-df-quickchart:hover {\n",
              "    background-color: var(--hover-bg-color);\n",
              "    box-shadow: 0 1px 2px rgba(60, 64, 67, 0.3), 0 1px 3px 1px rgba(60, 64, 67, 0.15);\n",
              "    fill: var(--button-hover-fill-color);\n",
              "  }\n",
              "\n",
              "  .colab-df-quickchart-complete:disabled,\n",
              "  .colab-df-quickchart-complete:disabled:hover {\n",
              "    background-color: var(--disabled-bg-color);\n",
              "    fill: var(--disabled-fill-color);\n",
              "    box-shadow: none;\n",
              "  }\n",
              "\n",
              "  .colab-df-spinner {\n",
              "    border: 2px solid var(--fill-color);\n",
              "    border-color: transparent;\n",
              "    border-bottom-color: var(--fill-color);\n",
              "    animation:\n",
              "      spin 1s steps(1) infinite;\n",
              "  }\n",
              "\n",
              "  @keyframes spin {\n",
              "    0% {\n",
              "      border-color: transparent;\n",
              "      border-bottom-color: var(--fill-color);\n",
              "      border-left-color: var(--fill-color);\n",
              "    }\n",
              "    20% {\n",
              "      border-color: transparent;\n",
              "      border-left-color: var(--fill-color);\n",
              "      border-top-color: var(--fill-color);\n",
              "    }\n",
              "    30% {\n",
              "      border-color: transparent;\n",
              "      border-left-color: var(--fill-color);\n",
              "      border-top-color: var(--fill-color);\n",
              "      border-right-color: var(--fill-color);\n",
              "    }\n",
              "    40% {\n",
              "      border-color: transparent;\n",
              "      border-right-color: var(--fill-color);\n",
              "      border-top-color: var(--fill-color);\n",
              "    }\n",
              "    60% {\n",
              "      border-color: transparent;\n",
              "      border-right-color: var(--fill-color);\n",
              "    }\n",
              "    80% {\n",
              "      border-color: transparent;\n",
              "      border-right-color: var(--fill-color);\n",
              "      border-bottom-color: var(--fill-color);\n",
              "    }\n",
              "    90% {\n",
              "      border-color: transparent;\n",
              "      border-bottom-color: var(--fill-color);\n",
              "    }\n",
              "  }\n",
              "</style>\n",
              "\n",
              "  <script>\n",
              "    async function quickchart(key) {\n",
              "      const quickchartButtonEl =\n",
              "        document.querySelector('#' + key + ' button');\n",
              "      quickchartButtonEl.disabled = true;  // To prevent multiple clicks.\n",
              "      quickchartButtonEl.classList.add('colab-df-spinner');\n",
              "      try {\n",
              "        const charts = await google.colab.kernel.invokeFunction(\n",
              "            'suggestCharts', [key], {});\n",
              "      } catch (error) {\n",
              "        console.error('Error during call to suggestCharts:', error);\n",
              "      }\n",
              "      quickchartButtonEl.classList.remove('colab-df-spinner');\n",
              "      quickchartButtonEl.classList.add('colab-df-quickchart-complete');\n",
              "    }\n",
              "    (() => {\n",
              "      let quickchartButtonEl =\n",
              "        document.querySelector('#df-d9398f97-8fa1-479b-8fb7-23bc0f216976 button');\n",
              "      quickchartButtonEl.style.display =\n",
              "        google.colab.kernel.accessAllowed ? 'block' : 'none';\n",
              "    })();\n",
              "  </script>\n",
              "</div>\n",
              "\n",
              "    </div>\n",
              "  </div>\n"
            ],
            "application/vnd.google.colaboratory.intrinsic+json": {
              "type": "dataframe",
              "summary": "{\n  \"name\": \"df_train_cleaned\",\n  \"rows\": 10,\n  \"fields\": [\n    {\n      \"column\": \"category\",\n      \"properties\": {\n        \"dtype\": \"string\",\n        \"num_unique_values\": 5,\n        \"samples\": [\n          \"Sexually Obscene material\",\n          \"Hacking  Damage to computercomputer system etc\",\n          \"Any Other Cyber Crime\"\n        ],\n        \"semantic_type\": \"\",\n        \"description\": \"\"\n      }\n    },\n    {\n      \"column\": \"sub_category\",\n      \"properties\": {\n        \"dtype\": \"string\",\n        \"num_unique_values\": 7,\n        \"samples\": [\n          \"Fraud CallVishing\",\n          \"DebitCredit Card FraudSim Swap Fraud\",\n          \"Unauthorised AccessData Breach\"\n        ],\n        \"semantic_type\": \"\",\n        \"description\": \"\"\n      }\n    },\n    {\n      \"column\": \"crimeaditionalinfo\",\n      \"properties\": {\n        \"dtype\": \"string\",\n        \"num_unique_values\": 10,\n        \"samples\": [\n          \"ek aadmi jiska nam aashish massey h usne job ka bharosa dila k mere sath rs ka froud kr diya us aadami se paise mangta hu to mujhe taal deta hai wo aadami dehli ka rhe wala haiplzzz help me mujhe mere paise waise lautane ki krip kre ki usne mujhe slip di h baaki ki bas transition id h mere pe jo ki pdf m dal di h saath mai ki transition id bhi h pdf mai\",\n          \"impersonation cheating as victim have recharge shop a person called and asked to install the my recaharge app so that they will provide the offers so to victim they asked to recharge with rs first by using debit card so he had done the same and insatlled any desk app later on amount was debited from victim acconutdebit card no\",\n          \"please help me sir tp give my money back i am studying in visakhapatnam by the purpose of study i take a loan in the mobile loan app in this way i lost my money total eighteen hundred and twenty nine rupees\"\n        ],\n        \"semantic_type\": \"\",\n        \"description\": \"\"\n      }\n    }\n  ]\n}"
            }
          },
          "metadata": {},
          "execution_count": 19
        }
      ],
      "source": [
        "df_train_cleaned.sample(10)"
      ]
    },
    {
      "cell_type": "markdown",
      "source": [
        "Language detection for stop word removal\n",
        "(on hold)"
      ],
      "metadata": {
        "id": "1QmrcO6dpTZI"
      }
    },
    {
      "cell_type": "code",
      "source": [
        "'''!pip install indic-nlp-library langdetect\n",
        "!pip install polyglot\n",
        "!pip install pyicu\n",
        "!pip install pycld2\n",
        "\n",
        "import pandas as pd\n",
        "import matplotlib.pyplot as plt\n",
        "from nltk.corpus import stopwords\n",
        "from nltk.stem import WordNetLemmatizer\n",
        "from indicnlp.tokenize import indic_tokenize\n",
        "from indicnlp.normalize import indic_normalize\n",
        "import re\n",
        "import nltk\n",
        "\n",
        "nltk.download('stopwords')\n",
        "nltk.download('wordnet')\n",
        "nltk.download('punkt')\n",
        "\n",
        "def preprocess_text(text):\n",
        "    if not isinstance(text, str):\n",
        "        return \"\"\n",
        "\n",
        "    # Normalize Indic text\n",
        "    if lang in [\"hi\", \"bn\", \"ta\", \"te\", \"mr\"]:\n",
        "        normalizer = indic_normalize.Normalizer()\n",
        "        text = normalizer.normalize(text)\n",
        "\n",
        "    # Remove special characters and digits\n",
        "    text = re.sub(r'[^\\w\\s]', '', text)\n",
        "    text = re.sub(r'\\d+', '', text)\n",
        "\n",
        "    # Tokenization\n",
        "    words = text.split() if lang == \"en\" else indic_tokenize.trivial_tokenize(text)\n",
        "\n",
        "    # Stopword removal and lemmatization\n",
        "    if lang == \"en\":\n",
        "        words = [lemmatizer.lemmatize(word.lower()) for word in words if word.lower() not in stop_words]\n",
        "    elif lang in [\"hi\", \"bn\", \"ta\", \"te\", \"mr\"]:\n",
        "        words = [word for word in words if word not in indic_stopwords]\n",
        "\n",
        "    return \" \".join(words)\n",
        "\n",
        "'''"
      ],
      "metadata": {
        "colab": {
          "base_uri": "https://localhost:8080/",
          "height": 191
        },
        "id": "aWbpHEFcpcgJ",
        "outputId": "032fa3a6-9b6a-4c93-f0a9-96b18b9024fa"
      },
      "execution_count": null,
      "outputs": [
        {
          "output_type": "execute_result",
          "data": {
            "text/plain": [
              "'!pip install indic-nlp-library langdetect\\n!pip install polyglot\\n!pip install pyicu\\n!pip install pycld2\\n\\nimport pandas as pd\\nimport matplotlib.pyplot as plt\\nfrom nltk.corpus import stopwords\\nfrom nltk.stem import WordNetLemmatizer\\nfrom indicnlp.tokenize import indic_tokenize\\nfrom indicnlp.normalize import indic_normalize\\nimport re\\nimport nltk\\n\\nnltk.download(\\'stopwords\\')\\nnltk.download(\\'wordnet\\')\\nnltk.download(\\'punkt\\')\\n\\ndef preprocess_text(text):\\n    if not isinstance(text, str):\\n        return \"\"\\n\\n    # Normalize Indic text\\n    if lang in [\"hi\", \"bn\", \"ta\", \"te\", \"mr\"]:\\n        normalizer = indic_normalize.Normalizer()\\n        text = normalizer.normalize(text)\\n\\n    # Remove special characters and digits\\n    text = re.sub(r\\'[^\\\\w\\\\s]\\', \\'\\', text)\\n    text = re.sub(r\\'\\\\d+\\', \\'\\', text)\\n\\n    # Tokenization\\n    words = text.split() if lang == \"en\" else indic_tokenize.trivial_tokenize(text)\\n\\n    # Stopword removal and lemmatization\\n    if lang == \"en\":\\n        words = [lemmatizer.lemmatize(word.lower()) for word in words if word.lower() not in stop_words]\\n    elif lang in [\"hi\", \"bn\", \"ta\", \"te\", \"mr\"]:\\n        words = [word for word in words if word not in indic_stopwords]\\n\\n    return \" \".join(words)\\n\\n'"
            ],
            "application/vnd.google.colaboratory.intrinsic+json": {
              "type": "string"
            }
          },
          "metadata": {},
          "execution_count": 20
        }
      ]
    },
    {
      "cell_type": "markdown",
      "metadata": {
        "id": "Ozu1UbYTJzSI"
      },
      "source": [
        "## **Stop-word removal, lemmatization, vectorization, tokenization, normalization**"
      ]
    },
    {
      "cell_type": "code",
      "execution_count": null,
      "metadata": {
        "id": "InI7CF1WJzSI",
        "colab": {
          "base_uri": "https://localhost:8080/"
        },
        "outputId": "7d4147c1-a9c9-41ff-8967-eead54309f02"
      },
      "outputs": [
        {
          "output_type": "stream",
          "name": "stdout",
          "text": [
            "\u001b[2K     \u001b[90m━━━━━━━━━━━━━━━━━━━━━━━━━━━━━━━━━━━━━━━━\u001b[0m \u001b[32m60.6/60.6 kB\u001b[0m \u001b[31m4.3 MB/s\u001b[0m eta \u001b[36m0:00:00\u001b[0m\n",
            "\u001b[2K     \u001b[90m━━━━━━━━━━━━━━━━━━━━━━━━━━━━━━━━━━━━━━━━\u001b[0m \u001b[32m622.8/622.8 kB\u001b[0m \u001b[31m19.7 MB/s\u001b[0m eta \u001b[36m0:00:00\u001b[0m\n",
            "\u001b[?25h  Preparing metadata (setup.py) ... \u001b[?25l\u001b[?25hdone\n",
            "\u001b[2K   \u001b[90m━━━━━━━━━━━━━━━━━━━━━━━━━━━━━━━━━━━━━━━━\u001b[0m \u001b[32m40.3/40.3 kB\u001b[0m \u001b[31m2.5 MB/s\u001b[0m eta \u001b[36m0:00:00\u001b[0m\n",
            "\u001b[2K   \u001b[90m━━━━━━━━━━━━━━━━━━━━━━━━━━━━━━━━━━━━━━━━\u001b[0m \u001b[32m347.8/347.8 kB\u001b[0m \u001b[31m7.6 MB/s\u001b[0m eta \u001b[36m0:00:00\u001b[0m\n",
            "\u001b[2K   \u001b[90m━━━━━━━━━━━━━━━━━━━━━━━━━━━━━━━━━━━━━━━━\u001b[0m \u001b[32m235.5/235.5 kB\u001b[0m \u001b[31m11.4 MB/s\u001b[0m eta \u001b[36m0:00:00\u001b[0m\n",
            "\u001b[2K   \u001b[90m━━━━━━━━━━━━━━━━━━━━━━━━━━━━━━━━━━━━━━━━\u001b[0m \u001b[32m7.7/7.7 MB\u001b[0m \u001b[31m16.4 MB/s\u001b[0m eta \u001b[36m0:00:00\u001b[0m\n",
            "\u001b[2K   \u001b[90m━━━━━━━━━━━━━━━━━━━━━━━━━━━━━━━━━━━━━━━━\u001b[0m \u001b[32m121.1/121.1 kB\u001b[0m \u001b[31m3.2 MB/s\u001b[0m eta \u001b[36m0:00:00\u001b[0m\n",
            "\u001b[?25h  Building wheel for autocorrect (setup.py) ... \u001b[?25l\u001b[?25hdone\n"
          ]
        }
      ],
      "source": [
        "! pip install nltk indic-nlp-library cleanlab unidecode autocorrect -q"
      ]
    },
    {
      "cell_type": "code",
      "execution_count": null,
      "metadata": {
        "id": "5qHHdpFfJzSI"
      },
      "outputs": [],
      "source": [
        "import re\n",
        "import nltk\n",
        "import unidecode\n",
        "from nltk.corpus import stopwords\n",
        "from nltk.tokenize import word_tokenize\n",
        "from nltk.stem import WordNetLemmatizer"
      ]
    },
    {
      "cell_type": "code",
      "source": [
        "nltk.download('punkt')\n",
        "nltk.download('stopwords')\n",
        "nltk.download('wordnet')\n",
        "nltk.download('punkt_tab')"
      ],
      "metadata": {
        "colab": {
          "base_uri": "https://localhost:8080/"
        },
        "id": "-BHr4xhBuES0",
        "outputId": "2e80ab43-b2b4-409e-c86b-ac03ded34747"
      },
      "execution_count": null,
      "outputs": [
        {
          "output_type": "stream",
          "name": "stderr",
          "text": [
            "[nltk_data] Downloading package punkt to /root/nltk_data...\n",
            "[nltk_data]   Unzipping tokenizers/punkt.zip.\n",
            "[nltk_data] Downloading package stopwords to /root/nltk_data...\n",
            "[nltk_data]   Unzipping corpora/stopwords.zip.\n",
            "[nltk_data] Downloading package wordnet to /root/nltk_data...\n",
            "[nltk_data] Downloading package punkt_tab to /root/nltk_data...\n",
            "[nltk_data]   Unzipping tokenizers/punkt_tab.zip.\n"
          ]
        },
        {
          "output_type": "execute_result",
          "data": {
            "text/plain": [
              "True"
            ]
          },
          "metadata": {},
          "execution_count": 23
        }
      ]
    },
    {
      "cell_type": "code",
      "execution_count": null,
      "metadata": {
        "id": "YOzmJlXVJzSJ"
      },
      "outputs": [],
      "source": [
        "stop_words = set(stopwords.words('english'))\n",
        "indic_stopwords = set([\n",
        "    \"aur\", \"ki\", \"hai\", \"huyi\", \"ho\", \"mein\", \"ye\", \"ke\", \"jo\", \"saath\", \"ko\",\n",
        "    \"bhi\", \"tatha\", \"par\", \"se\", \"kisi\", \"un\", \"apna\", \"tum\", \"main\", \"aap\", \"inhe\",\n",
        "    \"in\", \"abhi\", \"ab\", \"woh\", \"hum\", \"unka\", \"is\", \"us\", \"kintu\", \"athva\", \"nahin\",\n",
        "    \"kar\",\"firto\",\"fir\",\"kese\",\"esse\",\"ka\",\"kabhi\",\"karna\"\n",
        "])\n",
        "stop_words=stop_words.union(indic_stopwords)"
      ]
    },
    {
      "cell_type": "code",
      "execution_count": null,
      "metadata": {
        "id": "FGinnM2WJzSJ"
      },
      "outputs": [],
      "source": [
        "lemmatizer = WordNetLemmatizer()"
      ]
    },
    {
      "cell_type": "code",
      "execution_count": null,
      "metadata": {
        "id": "xHS9I_3qJzSJ"
      },
      "outputs": [],
      "source": [
        "def preprocess_text(text):\n",
        "    # Lowercasing\n",
        "    text = text.lower()\n",
        "\n",
        "    # Remove special characters and punctuation\n",
        "    text = re.sub(r'[^a-zA-Z0-9\\s]', '', text)\n",
        "\n",
        "    # Remove extra whitespaces\n",
        "    text = re.sub(r'\\s+', ' ', text).strip()\n",
        "\n",
        "    # Normalize Unicode characters\n",
        "    text = unidecode.unidecode(text)\n",
        "\n",
        "    # Tokenization\n",
        "    words = word_tokenize(text)\n",
        "\n",
        "    # Lemmatization\n",
        "    words = [lemmatizer.lemmatize(word) for word in words]\n",
        "\n",
        "    # Removing stopwords\n",
        "    words = [word for word in words if word not in stop_words]\n",
        "\n",
        "    return ' '.join(words)"
      ]
    },
    {
      "cell_type": "code",
      "source": [
        "# Apply preprocessing\n",
        "df_train_cleaned[\"crimeaditionalinfo\"] = df_train_cleaned.apply(lambda row: preprocess_text(row[\"crimeaditionalinfo\"]), axis=1)\n"
      ],
      "metadata": {
        "id": "Lpzuv7bFtKtO"
      },
      "execution_count": null,
      "outputs": []
    },
    {
      "cell_type": "code",
      "execution_count": null,
      "metadata": {
        "id": "tIpp5hTsJzSJ"
      },
      "outputs": [],
      "source": [
        "from sklearn.feature_extraction.text import TfidfVectorizer\n",
        "import numpy as np\n",
        "import cleanlab\n",
        "from cleanlab.classification import CleanLearning\n",
        "from sklearn.linear_model import LogisticRegression"
      ]
    },
    {
      "cell_type": "code",
      "execution_count": null,
      "metadata": {
        "id": "84qU2MuaJzSJ"
      },
      "outputs": [],
      "source": [
        "# Vectorize text using TF-IDF\n",
        "vectorizer = TfidfVectorizer()\n",
        "X = vectorizer.fit_transform(df_train_cleaned[\"crimeaditionalinfo\"])"
      ]
    },
    {
      "cell_type": "code",
      "source": [
        "'''\n",
        "#Dont run unless you really have to check\n",
        "tf_idf = pd.DataFrame(data = X.toarray(), columns=vectorizer.get_feature_names_out())\n",
        "\n",
        "final_df = tf_idf\n",
        "\n",
        "print(\"{} rows\".format(final_df.shape[0]))\n",
        "final_df.T.nlargest(5, 0)\n",
        "'''"
      ],
      "metadata": {
        "colab": {
          "base_uri": "https://localhost:8080/",
          "height": 70
        },
        "id": "PaczHcMmvOD8",
        "outputId": "1c15da6b-6314-4fbb-a05c-3b065138665a"
      },
      "execution_count": null,
      "outputs": [
        {
          "output_type": "execute_result",
          "data": {
            "text/plain": [
              "'\\n#Dont run unless you really have to check\\ntf_idf = pd.DataFrame(data = X.toarray(), columns=vectorizer.get_feature_names_out())\\n\\nfinal_df = tf_idf\\n\\nprint(\"{} rows\".format(final_df.shape[0]))\\nfinal_df.T.nlargest(5, 0)\\n'"
            ],
            "application/vnd.google.colaboratory.intrinsic+json": {
              "type": "string"
            }
          },
          "metadata": {},
          "execution_count": 30
        }
      ]
    },
    {
      "cell_type": "markdown",
      "source": [
        "##BiLSTM approach"
      ],
      "metadata": {
        "id": "M7MVb5a3IpQC"
      }
    },
    {
      "cell_type": "code",
      "source": [
        "import pandas as pd\n",
        "import numpy as np\n",
        "import tensorflow as tf\n",
        "from tensorflow.keras.preprocessing.text import Tokenizer\n",
        "from tensorflow.keras.preprocessing.sequence import pad_sequences\n",
        "from tensorflow.keras.models import Sequential,Model\n",
        "from tensorflow.keras.layers import Embedding, LSTM, Dense, Bidirectional, Input, RepeatVector, TimeDistributed\n",
        "from sklearn.preprocessing import LabelEncoder\n",
        "from sklearn.model_selection import train_test_split\n",
        "from tensorflow.keras.utils import to_categorical\n",
        "import matplotlib.pyplot as plt\n",
        "from sklearn.ensemble import IsolationForest"
      ],
      "metadata": {
        "id": "ogXQktamqUbr"
      },
      "execution_count": null,
      "outputs": []
    },
    {
      "cell_type": "code",
      "source": [
        "df2=df_train_cleaned.copy()"
      ],
      "metadata": {
        "id": "dYy5SSEwSZ1Q"
      },
      "execution_count": null,
      "outputs": []
    },
    {
      "cell_type": "code",
      "source": [
        "# Load Pretrained GloVe Embeddings (100D)\n",
        "embedding_index = {}\n",
        "with open(\"/content/glove.6B.100d.txt\", encoding=\"utf-8\") as f:  # Replace with actual GloVe file\n",
        "    for line in f:\n",
        "        values = line.split()\n",
        "        word = values[0]\n",
        "        coefs = np.asarray(values[1:], dtype=\"float32\")\n",
        "        embedding_index[word] = coefs"
      ],
      "metadata": {
        "id": "JJ1gBk9KSoBd"
      },
      "execution_count": null,
      "outputs": []
    },
    {
      "cell_type": "code",
      "source": [
        "# Tokenization & Padding\n",
        "tokenizer = Tokenizer(num_words=5000, oov_token=\"<OOV>\")\n",
        "tokenizer.fit_on_texts(df2['crimeaditionalinfo'])\n",
        "word_index = tokenizer.word_index\n",
        "sequences = tokenizer.texts_to_sequences(df2['crimeaditionalinfo'])\n",
        "padded_sequences = pad_sequences(sequences, maxlen=200, padding='post')\n"
      ],
      "metadata": {
        "id": "QVuyQOcASpRV"
      },
      "execution_count": null,
      "outputs": []
    },
    {
      "cell_type": "code",
      "source": [
        "# Prepare Embedding Matrix\n",
        "embedding_dim = 100  # Must match GloVe vector dimension\n",
        "embedding_matrix = np.zeros((5000, embedding_dim))\n",
        "for word, i in word_index.items():\n",
        "    if i < 5000:\n",
        "        embedding_vector = embedding_index.get(word)\n",
        "        if embedding_vector is not None:\n",
        "            embedding_matrix[i] = embedding_vector"
      ],
      "metadata": {
        "id": "iZlVEW16Stnf"
      },
      "execution_count": null,
      "outputs": []
    },
    {
      "cell_type": "code",
      "source": [
        "import pandas as pd\n",
        "from sklearn.utils.class_weight import compute_class_weight\n",
        "import numpy as np"
      ],
      "metadata": {
        "id": "Iw7MBiMWuljQ"
      },
      "execution_count": null,
      "outputs": []
    },
    {
      "cell_type": "code",
      "source": [
        "# Get unique classes\n",
        "classes = np.unique(df2['sub_category'])\n",
        "\n",
        "# Compute class weights\n",
        "class_weights = compute_class_weight('balanced', classes=classes, y=df2['sub_category'])\n",
        "\n",
        "# Convert to a dictionary\n",
        "class_weights_dict = dict(zip(classes, class_weights))"
      ],
      "metadata": {
        "id": "zCo1s2RCukay"
      },
      "execution_count": null,
      "outputs": []
    },
    {
      "cell_type": "code",
      "source": [
        "# Encode labels\n",
        "label_encoder = LabelEncoder()\n",
        "df2['sub_category_encoded'] = label_encoder.fit_transform(df2['sub_category'])\n"
      ],
      "metadata": {
        "id": "k2qnb4-GSy4t"
      },
      "execution_count": null,
      "outputs": []
    },
    {
      "cell_type": "code",
      "source": [
        "# Train-Test Split\n",
        "X_train, X_test, y_train, y_test = train_test_split(\n",
        "    padded_sequences, df2['sub_category_encoded'], test_size=0.2, random_state=42\n",
        ")"
      ],
      "metadata": {
        "id": "n3OCDe3-Sgu9"
      },
      "execution_count": null,
      "outputs": []
    },
    {
      "cell_type": "code",
      "source": [
        "print(\"Class Weights:\", class_weights_dict)"
      ],
      "metadata": {
        "colab": {
          "base_uri": "https://localhost:8080/"
        },
        "id": "iaJ_kKP5q7re",
        "outputId": "fe8bde57-5237-45dc-e317-ea28dc7888a1"
      },
      "execution_count": null,
      "outputs": [
        {
          "output_type": "stream",
          "name": "stdout",
          "text": [
            "Class Weights: {'Any Other Cyber Crime': 0.47805569977008083, 'Child Pornography CPChild Sexual Abuse Material CSAM': 14.45207399103139, 'Crime Against Women & Children': 1611.40625, 'Cryptocurrency Crime': 10.429813915857606, 'Cyber Attack/ Dependent Crimes': 1.3238087903060176, 'Cyber Terrorism': 31.289441747572816, 'Hacking  Damage to computercomputer system etc': 2.9271684831970934, 'Online Cyber Trafficking': 27.782866379310345, 'Online Financial Fraud': 0.10615149618748045, 'Online Gambling  Betting': 11.510044642857142, 'Online and Social Media Related Crime': 0.42241464054000916, 'Ransomware': 87.10304054054055, 'RapeGang Rape RGRSexually Abusive Content': 20.79233870967742, 'Report Unlawful Content': 6445.625, 'Sexually Explicit Act': 3.437666666666667, 'Sexually Obscene material': 2.8394823788546257}\n"
          ]
        }
      ]
    },
    {
      "cell_type": "code",
      "source": [
        "# Build LSTM model\n",
        "model = Sequential([\n",
        "    Embedding(5000, 64, input_length=200),\n",
        "    Bidirectional(LSTM(64, return_sequences=True)),\n",
        "    Bidirectional(LSTM(32)),\n",
        "    Dense(32, activation='relu'),\n",
        "    Dense(len(label_encoder.classes_), activation='softmax')  # Output layer for classification\n",
        "])\n"
      ],
      "metadata": {
        "colab": {
          "base_uri": "https://localhost:8080/"
        },
        "id": "OeHP9A0A5wkp",
        "outputId": "69ddead6-e9f7-4a46-8210-69825eaf5fbc"
      },
      "execution_count": null,
      "outputs": [
        {
          "output_type": "stream",
          "name": "stderr",
          "text": [
            "/usr/local/lib/python3.11/dist-packages/keras/src/layers/core/embedding.py:90: UserWarning: Argument `input_length` is deprecated. Just remove it.\n",
            "  warnings.warn(\n"
          ]
        }
      ]
    },
    {
      "cell_type": "code",
      "source": [
        "model.compile(loss='sparse_categorical_crossentropy', optimizer='adam', metrics=['accuracy'])"
      ],
      "metadata": {
        "id": "O-vl0gCI52XK"
      },
      "execution_count": null,
      "outputs": []
    },
    {
      "cell_type": "code",
      "source": [
        "# Train the model\n",
        "history=model.fit(X_train_resampled, y_train_resampled, epochs=5, validation_data=(X_test, y_test), batch_size=32)\n"
      ],
      "metadata": {
        "colab": {
          "base_uri": "https://localhost:8080/"
        },
        "id": "UXr2zTvY59Ce",
        "outputId": "ed9e430f-9a95-412f-e226-73477c3d0960"
      },
      "execution_count": null,
      "outputs": [
        {
          "output_type": "stream",
          "name": "stdout",
          "text": [
            "Epoch 1/5\n",
            "\u001b[1m22783/22783\u001b[0m \u001b[32m━━━━━━━━━━━━━━━━━━━━\u001b[0m\u001b[37m\u001b[0m \u001b[1m9121s\u001b[0m 400ms/step - accuracy: 0.3231 - loss: 1.9590 - val_accuracy: 0.6913 - val_loss: 0.9465\n",
            "Epoch 2/5\n",
            "\u001b[1m14813/22783\u001b[0m \u001b[32m━━━━━━━━━━━━━\u001b[0m\u001b[37m━━━━━━━\u001b[0m \u001b[1m52:47\u001b[0m 397ms/step - accuracy: 0.5199 - loss: 1.4155"
          ]
        }
      ]
    },
    {
      "cell_type": "code",
      "source": [
        "# Predict on the entire dataset\n",
        "y_pred_all = model.predict(X)  # Use the entire dataset's features\n",
        "y_pred_labels_all = np.argmax(y_pred_all, axis=1)\n",
        "\n",
        "# Add predicted categories to the dataframe\n",
        "df2['predicted_sub_category'] = label_encoder.inverse_transform(y_pred_labels_all)\n",
        "\n",
        "# Check for mismatches between actual and predicted categories\n",
        "df2['mislabel_flag_lstm_sub'] = df2['sub_category'] != df2['predicted_sub_category']\n",
        "\n",
        "# Filter for mislabelled rows\n",
        "mislabelled_data = df2[df2['mislabel_flag_lstm_sub']]\n",
        "\n",
        "print(\"Mislabelled Data:\")\n",
        "print(mislabelled_data)\n",
        "\n"
      ],
      "metadata": {
        "id": "whB_HEjW6GvK"
      },
      "execution_count": null,
      "outputs": []
    },
    {
      "cell_type": "code",
      "source": [
        "# Print potential mislabeled cases\n",
        "mislabeled_cases = df2[df2['mislabel_flag_lstm_sub']]\n",
        "# Count the number of mislabeled cases\n",
        "mislabeled_count = df2['mislabel_flag_lstm_sub'].sum()\n",
        "\n",
        "# Print the count\n",
        "print(f\"Number of mislabeled cases: {mislabeled_count}\")"
      ],
      "metadata": {
        "id": "0raLGcx7xfSp"
      },
      "execution_count": null,
      "outputs": []
    },
    {
      "cell_type": "code",
      "source": [
        "# Save DataFrame as CSV\n",
        "df_test.to_csv('relabelled_data_lstm_sub.csv', index=False)"
      ],
      "metadata": {
        "id": "Z86vjgdKoQw7"
      },
      "execution_count": null,
      "outputs": []
    },
    {
      "cell_type": "code",
      "source": [
        "from sklearn.metrics import accuracy_score, precision_score, recall_score, f1_score\n",
        "import matplotlib.pyplot as plt"
      ],
      "metadata": {
        "id": "3fk_zv7Wvw5E"
      },
      "execution_count": null,
      "outputs": []
    },
    {
      "cell_type": "code",
      "source": [
        "# Compute Accuracy, Precision, Recall, and F1-Score\n",
        "accuracy = accuracy_score(y_test, y_pred_labels)\n",
        "precision = precision_score(y_test, y_pred_labels, average='weighted')\n",
        "recall = recall_score(y_test, y_pred_labels, average='weighted')\n",
        "f1 = f1_score(y_test, y_pred_labels, average='weighted')\n",
        "\n",
        "# Print Metrics\n",
        "print(f\"Accuracy: {accuracy:.4f}\")\n",
        "print(f\"Precision: {precision:.4f}\")\n",
        "print(f\"Recall: {recall:.4f}\")\n",
        "print(f\"F1 Score: {f1:.4f}\")"
      ],
      "metadata": {
        "id": "HaNEmqLAwjhg"
      },
      "execution_count": null,
      "outputs": []
    },
    {
      "cell_type": "code",
      "source": [
        "# Plot Loss\n",
        "plt.figure(figsize=(8, 5))\n",
        "plt.plot(history.history['loss'], label='Training Loss')\n",
        "plt.plot(history.history['val_loss'], label='Validation Loss')\n",
        "plt.xlabel(\"Epochs\")\n",
        "plt.ylabel(\"Loss\")\n",
        "plt.title(\"Training & Validation Loss Over Epochs\")\n",
        "plt.legend()\n",
        "plt.show()"
      ],
      "metadata": {
        "id": "S0_bCEOAwq0I"
      },
      "execution_count": null,
      "outputs": []
    },
    {
      "cell_type": "code",
      "source": [],
      "metadata": {
        "id": "qD4r6PWkMeFF"
      },
      "execution_count": null,
      "outputs": []
    }
  ],
  "metadata": {
    "kernelspec": {
      "display_name": "Python 3",
      "language": "python",
      "name": "python3"
    },
    "language_info": {
      "codemirror_mode": {
        "name": "ipython",
        "version": 3
      },
      "file_extension": ".py",
      "mimetype": "text/x-python",
      "name": "python",
      "nbconvert_exporter": "python",
      "pygments_lexer": "ipython3",
      "version": "3.11.9"
    },
    "colab": {
      "provenance": []
    }
  },
  "nbformat": 4,
  "nbformat_minor": 0
}