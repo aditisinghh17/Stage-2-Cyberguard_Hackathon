{
 "cells": [
  {
   "cell_type": "code",
   "execution_count": 3,
   "metadata": {},
   "outputs": [
    {
     "name": "stderr",
     "output_type": "stream",
     "text": [
      "\n",
      "[notice] A new release of pip is available: 24.2 -> 25.0.1\n",
      "[notice] To update, run: python.exe -m pip install --upgrade pip\n"
     ]
    }
   ],
   "source": [
    "! pip install sentence-transformers torch numpy -q"
   ]
  },
  {
   "cell_type": "code",
   "execution_count": 9,
   "metadata": {},
   "outputs": [
    {
     "name": "stdout",
     "output_type": "stream",
     "text": [
      "c:\\Users\\hp\\Documents\\GitHub\\IndiaAI CyberGaurd Hackathon\\SEMANTIC\n"
     ]
    }
   ],
   "source": [
    "import os\n",
    "print(os.getcwd())"
   ]
  },
  {
   "cell_type": "code",
   "execution_count": null,
   "metadata": {},
   "outputs": [
    {
     "name": "stdout",
     "output_type": "stream",
     "text": [
      "\n",
      "All similarity scores:\n",
      "Crime Against Women & Children: 0.4590\n",
      "Cyber Attack/ Dependent Crimes: 0.3673\n",
      "Financial Crimes: 0.3619\n",
      "Other Cyber Crimes: 0.3048\n"
     ]
    }
   ],
   "source": [
    "from sentence_transformers import SentenceTransformer, util\n",
    "import json\n",
    "import numpy as np\n",
    "\n",
    "def load_categories(json_file):\n",
    "    with open(json_file, 'r', encoding=\"utf-8\") as f:\n",
    "        data = json.load(f)\n",
    "    return data['categories']\n",
    "\n",
    "def create_category_descriptions(category):\n",
    "    # Fetch descriptions safely\n",
    "    description = category.get('description', '')\n",
    "    transliterated_description = category.get('transliterated_description', '')\n",
    "    # Get related examples and join them into a single string (if available)\n",
    "    related_examples = \" \".join(category.get('related_examples', []))\n",
    "    \n",
    "    # Combine all parts, ensuring no extra spaces\n",
    "    return f\"{description} {transliterated_description} {related_examples}\".strip()\n",
    "\n",
    "def classify_crime(description, categories):\n",
    "    # Load a pre-trained Sentence Transformer model\n",
    "    model = SentenceTransformer('all-MiniLM-L6-v2')\n",
    "    \n",
    "    # Create comprehensive descriptions for each category\n",
    "    category_descriptions = {\n",
    "        cat['name']: create_category_descriptions(cat)\n",
    "        for cat in categories\n",
    "    }\n",
    "    \n",
    "    # Encode the crime description\n",
    "    description_embedding = model.encode(description, convert_to_tensor=True)\n",
    "    \n",
    "    # Encode category descriptions\n",
    "    category_embeddings = {\n",
    "        cat: model.encode(desc, convert_to_tensor=True)\n",
    "        for cat, desc in category_descriptions.items()\n",
    "    }\n",
    "    \n",
    "    # Compute cosine similarities\n",
    "    similarities = {\n",
    "        cat: util.pytorch_cos_sim(description_embedding, emb)[0].item()\n",
    "        for cat, emb in category_embeddings.items()\n",
    "    }\n",
    "    \n",
    "    # Sort categories by similarity score\n",
    "    sorted_matches = sorted(\n",
    "        similarities.items(),\n",
    "        key=lambda x: x[1],\n",
    "        reverse=True\n",
    "    )\n",
    "    \n",
    "    # Get top 3 matches\n",
    "    top_3_matches = sorted_matches[:3]\n",
    "    \n",
    "    # Find the category with highest similarity\n",
    "    best_match = top_3_matches[0][0]\n",
    "    \n",
    "    return best_match, similarities, top_3_matches\n",
    "\n",
    "def explain_classification(top_matches, categories):\n",
    "    explanation = []\n",
    "    for cat_name, score in top_matches:\n",
    "        # Find the category definition safely\n",
    "        category = next(cat for cat in categories if cat['name'] == cat_name)\n",
    "        \n",
    "        explanation.append(f\"\\n{cat_name} (Similarity: {score:.4f}):\")\n",
    "        explanation.append(f\"- Description: {category.get('description', 'N/A')}\")\n",
    "        \n",
    "        # Handle transliterated description safely\n",
    "        transliterated_desc = category.get('transliterated_description', None)\n",
    "        if transliterated_desc:\n",
    "            explanation.append(f\"- Hindi Transliteration: {transliterated_desc}\")\n",
    "        \n",
    "        # Add related examples if available\n",
    "        examples = category.get('related_examples', None)\n",
    "        if examples:\n",
    "            explanation.append(f\"- Examples: {', '.join(examples)}\")\n",
    "    \n",
    "    return '\\n'.join(explanation)\n",
    "\n",
    "# Example usage\n",
    "if __name__ == \"__main__\":\n",
    "    # Load the categories from your JSON file\n",
    "    with open(r\"C:\\Users\\hp\\Documents\\GitHub\\IndiaAI CyberGaurd Hackathon\\SEMANTIC\\categories.json\", \"r\", encoding=\"utf-8\") as f:\n",
    "        categories_data = json.load(f)  # Parse JSON properly\n",
    "        categories = categories_data.get('categories', [])  # Use .get() to avoid KeyError\n",
    "\n",
    "    # Example crime description\n",
    "    crime_description = \"\"\"\n",
    "    m ek aadmi hoon aur mujhe ek ladki zabardasti ghar le ja rahi hai\n",
    "    \"\"\"\n",
    "\n",
    "    # Classify the crime\n",
    "    best_match, all_similarities, top_3 = classify_crime(crime_description, categories)\n",
    "\n",
    "    print(\"\\nBest matching category:\", best_match)\n",
    "    print(\"\\nTop 3 matching categories with explanation:\")\n",
    "    print(explain_classification(top_3, categories))\n",
    "\n",
    "    print(\"\\nAll similarity scores:\")\n",
    "    for cat, score in sorted(all_similarities.items(), key=lambda x: x[1], reverse=True):\n",
    "        print(f\"{cat}: {score:.4f}\")"
   ]
  }
 ],
 "metadata": {
  "kernelspec": {
   "display_name": "Python 3",
   "language": "python",
   "name": "python3"
  },
  "language_info": {
   "codemirror_mode": {
    "name": "ipython",
    "version": 3
   },
   "file_extension": ".py",
   "mimetype": "text/x-python",
   "name": "python",
   "nbconvert_exporter": "python",
   "pygments_lexer": "ipython3",
   "version": "3.11.9"
  }
 },
 "nbformat": 4,
 "nbformat_minor": 2
}
